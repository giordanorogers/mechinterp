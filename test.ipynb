{
 "cells": [
  {
   "cell_type": "code",
   "execution_count": 1,
   "metadata": {},
   "outputs": [],
   "source": [
    "%load_ext autoreload\n",
    "%autoreload 2"
   ]
  },
  {
   "cell_type": "code",
   "execution_count": 2,
   "metadata": {},
   "outputs": [
    {
     "name": "stdout",
     "output_type": "stream",
     "text": [
      "x: 42\n",
      "y: hello\n"
     ]
    }
   ],
   "source": [
    "from src.models import ModelandTokenizer\n",
    "from src.functional import predict_next_token"
   ]
  },
  {
   "cell_type": "code",
   "execution_count": 4,
   "metadata": {},
   "outputs": [
    {
     "name": "stderr",
     "output_type": "stream",
     "text": [
      "meta-llama/Llama-3.2-1B-Instruct not found in data/hf_cache\n",
      "If not found in cache, model will be downloaded from HuggingFace to cache directory\n"
     ]
    }
   ],
   "source": [
    "mt = ModelandTokenizer(\n",
    "    model_key=\"meta-llama/Llama-3.2-1B-Instruct\"\n",
    ")"
   ]
  },
  {
   "cell_type": "code",
   "execution_count": 5,
   "metadata": {},
   "outputs": [
    {
     "name": "stdout",
     "output_type": "stream",
     "text": [
      "LlamaForCausalLM(\n",
      "  (model): LlamaModel(\n",
      "    (embed_tokens): Embedding(128256, 2048)\n",
      "    (layers): ModuleList(\n",
      "      (0-15): 16 x LlamaDecoderLayer(\n",
      "        (self_attn): LlamaAttention(\n",
      "          (q_proj): Linear(in_features=2048, out_features=2048, bias=False)\n",
      "          (k_proj): Linear(in_features=2048, out_features=512, bias=False)\n",
      "          (v_proj): Linear(in_features=2048, out_features=512, bias=False)\n",
      "          (o_proj): Linear(in_features=2048, out_features=2048, bias=False)\n",
      "        )\n",
      "        (mlp): LlamaMLP(\n",
      "          (gate_proj): Linear(in_features=2048, out_features=8192, bias=False)\n",
      "          (up_proj): Linear(in_features=2048, out_features=8192, bias=False)\n",
      "          (down_proj): Linear(in_features=8192, out_features=2048, bias=False)\n",
      "          (act_fn): SiLU()\n",
      "        )\n",
      "        (input_layernorm): LlamaRMSNorm((2048,), eps=1e-05)\n",
      "        (post_attention_layernorm): LlamaRMSNorm((2048,), eps=1e-05)\n",
      "      )\n",
      "    )\n",
      "    (norm): LlamaRMSNorm((2048,), eps=1e-05)\n",
      "    (rotary_emb): LlamaRotaryEmbedding()\n",
      "  )\n",
      "  (lm_head): Linear(in_features=2048, out_features=128256, bias=False)\n",
      "  (generator): Generator(\n",
      "    (streamer): Streamer()\n",
      "  )\n",
      ")\n"
     ]
    }
   ],
   "source": [
    "print(mt._model)"
   ]
  },
  {
   "cell_type": "code",
   "execution_count": 36,
   "metadata": {},
   "outputs": [
    {
     "data": {
      "text/plain": [
       "[[PredictedToken(token=' mass', prob=0.34351953864097595, logit=18.389781951904297, token_id=3148, metadata=None),\n",
       "  PredictedToken(token=' size', prob=0.10631109029054642, logit=17.216907501220703, token_id=1404, metadata=None),\n",
       "  PredictedToken(token=' distance', prob=0.07458692044019699, logit=16.862503051757812, token_id=6138, metadata=None),\n",
       "  PredictedToken(token=' surface', prob=0.052828043699264526, logit=16.517580032348633, token_id=7479, metadata=None),\n",
       "  PredictedToken(token=' orbital', prob=0.03611716628074646, logit=16.137306213378906, token_id=65691, metadata=None),\n",
       "  PredictedToken(token=' location', prob=0.029983872547745705, logit=15.951197624206543, token_id=3813, metadata=None),\n",
       "  PredictedToken(token=' age', prob=0.024633385241031647, logit=15.754640579223633, token_id=4325, metadata=None),\n",
       "  PredictedToken(token=' atmosphere', prob=0.01988164149224758, logit=15.540334701538086, token_id=16975, metadata=None),\n",
       "  PredictedToken(token=' orbit', prob=0.018899720162153244, logit=15.48968505859375, token_id=27605, metadata=None),\n",
       "  PredictedToken(token=' composition', prob=0.015118579380214214, logit=15.266462326049805, token_id=18528, metadata=None),\n",
       "  PredictedToken(token=' diameter', prob=0.01380204875022173, logit=15.175354957580566, token_id=23899, metadata=None)]]"
      ]
     },
     "execution_count": 36,
     "metadata": {},
     "output_type": "execute_result"
    }
   ],
   "source": [
    "#predict_next_token(mt, \"The most important pieces of information about a wild animal: 1. Its\", k=11)\n",
    "predict_next_token(mt, \"The most important pieces of information about a planet: 1. Its\", k=11)\n",
    "#predict_next_token(mt, \"The most important pieces of information about a physical object: 1. Its\", k=11)\n",
    "# planets: mass, size, distance, surface, orbitatl, location, age, atmosphere, orbit, composition (.343 - .015)\n",
    "# animals: habitat, scientific, name, species, physical, size, natural, body, taxonomy, diet (range: .158 - .017)\n",
    "# physical objects: name, location, shape, physical, size, mass, material, function, composition, position (range: .208 - 0.017)"
   ]
  },
  {
   "cell_type": "code",
   "execution_count": null,
   "metadata": {},
   "outputs": [],
   "source": []
  }
 ],
 "metadata": {
  "kernelspec": {
   "display_name": "retrieval2",
   "language": "python",
   "name": "python3"
  },
  "language_info": {
   "codemirror_mode": {
    "name": "ipython",
    "version": 3
   },
   "file_extension": ".py",
   "mimetype": "text/x-python",
   "name": "python",
   "nbconvert_exporter": "python",
   "pygments_lexer": "ipython3",
   "version": "3.10.16"
  }
 },
 "nbformat": 4,
 "nbformat_minor": 2
}
