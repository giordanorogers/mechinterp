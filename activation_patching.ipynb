{
 "cells": [
  {
   "cell_type": "code",
   "execution_count": 1,
   "metadata": {},
   "outputs": [],
   "source": [
    "%load_ext autoreload\n",
    "%autoreload 2"
   ]
  },
  {
   "cell_type": "code",
   "execution_count": 2,
   "metadata": {},
   "outputs": [
    {
     "name": "stdout",
     "output_type": "stream",
     "text": [
      "2025-06-25 10:50:24 __main__ INFO     torch.__version__='2.5.1+cu121', torch.version.cuda='12.1'\n",
      "2025-06-25 10:50:24 __main__ INFO     torch.cuda.is_available()=True, torch.cuda.device_count()=1, torch.cuda.get_device_name()='NVIDIA RTX A6000'\n",
      "2025-06-25 10:50:24 __main__ INFO     transformers.__version__='4.52.4'\n"
     ]
    }
   ],
   "source": [
    "import os\n",
    "import json\n",
    "\n",
    "import sys\n",
    "\n",
    "sys.path.append(\"../\")\n",
    "\n",
    "##################################################################\n",
    "os.environ[\"TOKENIZERS_PARALLELISM\"] = \"false\"\n",
    "os.environ[\"CUDA_VISIBLE_DEVICES\"] = \"0,1\"\n",
    "##################################################################\n",
    "\n",
    "import logging\n",
    "from src.utils import logging_utils\n",
    "from src.utils import env_utils\n",
    "\n",
    "logger = logging.getLogger(__name__)\n",
    "\n",
    "logging.basicConfig(\n",
    "    level=logging.DEBUG,\n",
    "    format=logging_utils.DEFAULT_FORMAT,\n",
    "    datefmt=logging_utils.DEFAULT_DATEFMT,\n",
    "    stream=sys.stdout,\n",
    ")\n",
    "\n",
    "import torch\n",
    "import transformers\n",
    "\n",
    "logger.info(f\"{torch.__version__=}, {torch.version.cuda=}\")\n",
    "logger.info(\n",
    "    f\"{torch.cuda.is_available()=}, {torch.cuda.device_count()=}, {torch.cuda.get_device_name()=}\"\n",
    ")\n",
    "logger.info(f\"{transformers.__version__=}\")"
   ]
  },
  {
   "cell_type": "code",
   "execution_count": 3,
   "metadata": {},
   "outputs": [],
   "source": [
    "model_key = \"meta-llama/Llama-3.2-1B-Instruct\""
   ]
  },
  {
   "cell_type": "code",
   "execution_count": 4,
   "metadata": {},
   "outputs": [
    {
     "data": {
      "text/plain": [
       "'/share/u/gio/mechinterp'"
      ]
     },
     "execution_count": 4,
     "metadata": {},
     "output_type": "execute_result"
    }
   ],
   "source": [
    "os.getcwd()\n",
    "os.chdir(\"../mechinterp\")\n",
    "os.getcwd()"
   ]
  },
  {
   "cell_type": "code",
   "execution_count": 5,
   "metadata": {},
   "outputs": [
    {
     "name": "stdout",
     "output_type": "stream",
     "text": [
      "2025-06-25 10:50:27 src.models WARNING  meta-llama/Llama-3.2-1B-Instruct not found in data/hf_cache\n",
      "If not found in cache, model will be downloaded from HuggingFace to cache directory\n",
      "2025-06-25 10:50:27 urllib3.connectionpool DEBUG    Starting new HTTPS connection (1): huggingface.co:443\n",
      "2025-06-25 10:50:27 urllib3.connectionpool DEBUG    https://huggingface.co:443 \"HEAD /meta-llama/Llama-3.2-1B-Instruct/resolve/main/config.json HTTP/1.1\" 200 0\n",
      "2025-06-25 10:50:27 urllib3.connectionpool DEBUG    https://huggingface.co:443 \"HEAD /meta-llama/Llama-3.2-1B-Instruct/resolve/main/tokenizer_config.json HTTP/1.1\" 200 0\n",
      "2025-06-25 10:50:27 urllib3.connectionpool DEBUG    https://huggingface.co:443 \"GET /api/models/meta-llama/Llama-3.2-1B-Instruct/tree/main/additional_chat_templates?recursive=False&expand=False HTTP/1.1\" 404 64\n",
      "2025-06-25 10:50:28 accelerate.utils.modeling INFO     We will use 90% of the memory on device 0 for storing the model, and 10% for the buffer to avoid OOM. You can set `max_memory` in to a higher value to use more memory (at your own risk).\n",
      "2025-06-25 10:50:28 urllib3.connectionpool DEBUG    https://huggingface.co:443 \"HEAD /meta-llama/Llama-3.2-1B-Instruct/resolve/main/generation_config.json HTTP/1.1\" 200 0\n",
      "2025-06-25 10:50:28 urllib3.connectionpool DEBUG    https://huggingface.co:443 \"HEAD /meta-llama/Llama-3.2-1B-Instruct/resolve/main/custom_generate/generate.py HTTP/1.1\" 404 0\n",
      "2025-06-25 10:50:28 src.models INFO     loaded model <meta-llama/Llama-3.2-1B-Instruct> | size: 2357.129 MB | dtype: torch.bfloat16 | device: cuda:0\n"
     ]
    }
   ],
   "source": [
    "from src.models import ModelandTokenizer\n",
    "from transformers import BitsAndBytesConfig\n",
    "\n",
    "mt = ModelandTokenizer(\n",
    "    model_key=model_key,\n",
    "    torch_dtype=torch.bfloat16,\n",
    "    # device_map=device_map,\n",
    "    device_map=\"auto\",\n",
    "    # quantization_config = BitsAndBytesConfig(\n",
    "    #     # load_in_4bit=True\n",
    "    #     load_in_8bit=True\n",
    "    # )\n",
    ")"
   ]
  },
  {
   "cell_type": "code",
   "execution_count": 6,
   "metadata": {},
   "outputs": [],
   "source": [
    "from src.dataset import ActivationPatchingSamples"
   ]
  },
  {
   "cell_type": "code",
   "execution_count": 7,
   "metadata": {},
   "outputs": [
    {
     "name": "stdout",
     "output_type": "stream",
     "text": [
      "x: 42\n",
      "y: hello\n"
     ]
    },
    {
     "name": "stderr",
     "output_type": "stream",
     "text": [
      "The following generation flags are not valid and may be ignored: ['temperature', 'top_p', 'top_k']. Set `TRANSFORMERS_VERBOSITY=info` for more details.\n"
     ]
    },
    {
     "name": "stdout",
     "output_type": "stream",
     "text": [
      "[\n",
      "  \"The Space Needle is located in the city of Seattle, Washington, and it is a popular tourist destination. The Space Needle is a 605-foot-tall (184 meters) tower that was built for the 1962 World's Fair. It was designed by architect John Graham Jr. and engineer\",\n",
      "  \"What is the profession of Donald Trump? Ans: He is a businessman and politician.\\n\\nWhat is the profession of Donald Trump? Ans: He is a businessman and politician.\\n\\nDonald Trump is a businessman and politician.\",\n",
      "  \"What is the name of the city where Donald Trump lives? Ans: Mar-a-Lago\\nDonald Trump, the 45th President of the United States, lives in Palm Beach, Florida, at his private resort, Mar-a-Lago.\",\n",
      "  \"The nationality of Donald Trump is American.\\nDonald Trump is an American businessman, politician, and television personality. He was born on June 14, 1946, in Queens, New York City, and grew up in the New York City borough of Queens. He graduated from the\",\n",
      "  \"By profession, Donald Trump is a businessman and a politician. He is the 45th President of the United States, serving from 2017 to 2021. Trump is known for his business acumen and his ability to build and manage large-scale real estate projects. He is\",\n",
      "  \"Donald Trump is an employee of the Trump Organization, a private business that has been involved in various real estate and other ventures. The Trump Organization has been the subject of numerous investigations and lawsuits over the years, including a major investigation into its business dealings in Ukraine.\\n\\nIn 2018\",\n",
      "  \"Donald Trump is an alumnus of the University of Pennsylvania, where he graduated with a degree in economics in 1968. He then went on to attend Harvard Law School, where he earned his law degree in 1971. Trump's early career was marked by a series of business\",\n",
      "  \"Donald Trump is a citizen of which country? \\nDonald Trump is a citizen of the United States of America.\"\n",
      "]\n"
     ]
    },
    {
     "data": {
      "text/plain": [
       "[[PredictedToken(token=' Seattle', prob=0.98828125, logit=22.125, token_id=16759, metadata=None),\n",
       "  PredictedToken(token=' Vancouver', prob=0.00109100341796875, logit=15.3125, token_id=23393, metadata=None),\n",
       "  PredictedToken(token=' Bellev', prob=0.0009002685546875, logit=15.125, token_id=86705, metadata=None),\n",
       "  PredictedToken(token=' Tacoma', prob=0.000797271728515625, logit=15.0, token_id=85628, metadata=None),\n",
       "  PredictedToken(token=' Portland', prob=0.0007476806640625, logit=14.9375, token_id=23947, metadata=None)],\n",
       " [PredictedToken(token=' He', prob=0.1328125, logit=17.0, token_id=1283, metadata=None),\n",
       "  PredictedToken(token=' Business', prob=0.11767578125, logit=16.875, token_id=8184, metadata=None),\n",
       "  PredictedToken(token=' Polit', prob=0.08056640625, logit=16.5, token_id=16307, metadata=None),\n",
       "  PredictedToken(token=' A', prob=0.08056640625, logit=16.5, token_id=362, metadata=None),\n",
       "  PredictedToken(token=' The', prob=0.0712890625, logit=16.375, token_id=578, metadata=None)],\n",
       " [PredictedToken(token=' Mar', prob=0.255859375, logit=15.1875, token_id=2947, metadata=None),\n",
       "  PredictedToken(token=' New', prob=0.12109375, logit=14.4375, token_id=1561, metadata=None),\n",
       "  PredictedToken(token=' Trump', prob=0.0888671875, logit=14.125, token_id=3420, metadata=None),\n",
       "  PredictedToken(token=' Palm', prob=0.06494140625, logit=13.8125, token_id=33578, metadata=None),\n",
       "  PredictedToken(token=' Washington', prob=0.047607421875, logit=13.5, token_id=6652, metadata=None)],\n",
       " [PredictedToken(token=' American', prob=0.58203125, logit=20.0, token_id=3778, metadata=None),\n",
       "  PredictedToken(token=' not', prob=0.0888671875, logit=18.125, token_id=539, metadata=None),\n",
       "  PredictedToken(token=' a', prob=0.0693359375, logit=17.875, token_id=264, metadata=None),\n",
       "  PredictedToken(token=' an', prob=0.061279296875, logit=17.75, token_id=459, metadata=None),\n",
       "  PredictedToken(token=' United', prob=0.0255126953125, logit=16.875, token_id=3723, metadata=None)],\n",
       " [PredictedToken(token=' businessman', prob=0.67578125, logit=19.625, token_id=47378, metadata=None),\n",
       "  PredictedToken(token=' business', prob=0.08056640625, logit=17.5, token_id=2626, metadata=None),\n",
       "  PredictedToken(token=' Business', prob=0.0380859375, logit=16.75, token_id=8184, metadata=None),\n",
       "  PredictedToken(token=' lawyer', prob=0.03369140625, logit=16.625, token_id=15779, metadata=None),\n",
       "  PredictedToken(token=':\\n', prob=0.023193359375, logit=16.25, token_id=512, metadata=None)],\n",
       " [PredictedToken(token=' the', prob=0.369140625, logit=16.625, token_id=279, metadata=None),\n",
       "  PredictedToken(token=' a', prob=0.1640625, logit=15.8125, token_id=264, metadata=None),\n",
       "  PredictedToken(token=' Trump', prob=0.025146484375, logit=13.9375, token_id=3420, metadata=None),\n",
       "  PredictedToken(token=' The', prob=0.0184326171875, logit=13.625, token_id=578, metadata=None),\n",
       "  PredictedToken(token=' an', prob=0.0142822265625, logit=13.375, token_id=459, metadata=None)],\n",
       " [PredictedToken(token=' the', prob=0.482421875, logit=17.0, token_id=279, metadata=None),\n",
       "  PredictedToken(token=' several', prob=0.051025390625, logit=14.75, token_id=3892, metadata=None),\n",
       "  PredictedToken(token=' New', prob=0.032958984375, logit=14.3125, token_id=1561, metadata=None),\n",
       "  PredictedToken(token=' two', prob=0.025634765625, logit=14.0625, token_id=1403, metadata=None),\n",
       "  PredictedToken(token=' a', prob=0.0225830078125, logit=13.9375, token_id=264, metadata=None)],\n",
       " [PredictedToken(token=' \\n', prob=0.33984375, logit=19.375, token_id=720, metadata=None),\n",
       "  PredictedToken(token=' The', prob=0.16015625, logit=18.625, token_id=578, metadata=None),\n",
       "  PredictedToken(token=' United', prob=0.1416015625, logit=18.5, token_id=3723, metadata=None),\n",
       "  PredictedToken(token=' (', prob=0.05224609375, logit=17.5, token_id=320, metadata=None),\n",
       "  PredictedToken(token=' USA', prob=0.046142578125, logit=17.375, token_id=7427, metadata=None)]]"
      ]
     },
     "execution_count": 7,
     "metadata": {},
     "output_type": "execute_result"
    }
   ],
   "source": [
    "from src.functional import generate_with_patch, predict_next_token, prepare_input\n",
    "\n",
    "subject = \"Donald Trump\"\n",
    "\n",
    "prompts = [\n",
    "    \"The Space Needle is located in the city of\",\n",
    "    f\"What is the profession of {subject}? Ans:\",\n",
    "    f\"What is the name of the city where {subject} lives? Ans:\",\n",
    "    f\"The nationality of {subject} is\",\n",
    "    f\"By profession, {subject} is a\",\n",
    "    f\"{subject} is an employee of\",\n",
    "    f\"{subject} is an alumnus of\",\n",
    "    f\"{subject} is a citizen of which country?\",\n",
    "]\n",
    "\n",
    "inputs = prepare_input(prompts, tokenizer=mt.tokenizer)\n",
    "\n",
    "pred = predict_next_token(\n",
    "    mt=mt,\n",
    "    inputs=inputs,\n",
    ")\n",
    "\n",
    "gen = generate_with_patch(\n",
    "    mt=mt,\n",
    "    inputs=inputs,\n",
    "    n_gen_per_prompt=1,\n",
    "    top_k=1,\n",
    "    do_sample=False,\n",
    "    max_new_tokens=50,\n",
    ")\n",
    "\n",
    "print(json.dumps(gen, indent=2))\n",
    "\n",
    "pred"
   ]
  },
  {
   "cell_type": "code",
   "execution_count": 8,
   "metadata": {},
   "outputs": [
    {
     "name": "stdout",
     "output_type": "stream",
     "text": [
      "# Task: Find Common Attributes Between Two People\n",
      "You will be given two people's names. Your job is to determine if they share ANY common attribute from the list below.\n",
      "\n",
      "## Response Format:\n",
      "- If you find a match: \"Yes - [shared attribute] - [description of what they share]\"\n",
      "- If no match: \"No - [Person 1] and [Person 2] have nothing in common\"\n",
      "\n",
      "## Attributes to Consider:\n",
      "1. Same nationality → \"Yes - [nationality] - they are both [nationality]\"\n",
      "2. Same profession → \"Yes - [profession] - they are both [profession]\"\n",
      "3. Same school → \"Yes - [school] - they both graduated from [school]\"\n",
      "\n",
      "Q: Person Y and Person Z\n",
      "A: No - Person Y and Person Z have nothing in common.\n",
      "\n",
      "Q: Person C and Person D\n",
      "A: Yes - Doctor - they are both doctors.\n",
      "\n",
      "Q: Person W and Person X\n",
      "A: No - Person W and Person X have nothing in common.\n",
      "\n",
      "Q: Person E and Person F\n",
      "A: Yes - Boston University - they both graduated from Boston University.\n",
      "\n",
      "Q: Person A and Person B\n",
      "A: Yes - German - they are both German.\n",
      "\n",
      "## Your turn, give your answer in a single line.\n"
     ]
    }
   ],
   "source": [
    "from src.probing.prompt import BiAssociationPrefix\n",
    "from src.probing.few_shot_examples import (\n",
    "    human_nationality,\n",
    "    human_profession,\n",
    "    human_alma_mater\n",
    ")\n",
    "\n",
    "prefix_generator_cls = BiAssociationPrefix\n",
    "\n",
    "prefix_generator = prefix_generator_cls(\n",
    "    filter_attributes=[\n",
    "        \"nationality\", \n",
    "        \"profession\", \n",
    "        \"school\"\n",
    "    ],\n",
    "    format = \"_3\"\n",
    ")\n",
    "\n",
    "prefix = prefix_generator.get_prefix()\n",
    "print(prefix)"
   ]
  },
  {
   "cell_type": "code",
   "execution_count": 9,
   "metadata": {},
   "outputs": [
    {
     "name": "stderr",
     "output_type": "stream",
     "text": [
      "The following generation flags are not valid and may be ignored: ['temperature', 'top_p']. Set `TRANSFORMERS_VERBOSITY=info` for more details.\n"
     ]
    },
    {
     "name": "stdout",
     "output_type": "stream",
     "text": [
      "2025-06-25 10:50:30 __main__ DEBUG    ------------------------------------------------------------------------------------------------------------------------------------------------------\n",
      "2025-06-25 10:50:30 __main__ INFO     (Michael Jackson, Prince) => American\n",
      "2025-06-25 10:50:30 __main__ DEBUG    ------------------------------------------------------------------------------------------------------------------------------------------------------\n"
     ]
    },
    {
     "data": {
      "text/plain": [
       "[[PredictedToken(token=' American', prob=0.279296875, logit=18.75, token_id=3778, metadata=None),\n",
       "  PredictedToken(token=' Both', prob=0.1923828125, logit=18.375, token_id=11995, metadata=None),\n",
       "  PredictedToken(token=' African', prob=0.0908203125, logit=17.625, token_id=11904, metadata=None),\n",
       "  PredictedToken(token=' They', prob=0.05517578125, logit=17.125, token_id=2435, metadata=None),\n",
       "  PredictedToken(token=' British', prob=0.048583984375, logit=17.0, token_id=8013, metadata=None),\n",
       "  PredictedToken(token=' both', prob=0.037841796875, logit=16.75, token_id=2225, metadata=None),\n",
       "  PredictedToken(token=' Same', prob=0.037841796875, logit=16.75, token_id=26823, metadata=None),\n",
       "  PredictedToken(token=' German', prob=0.029541015625, logit=16.5, token_id=6063, metadata=None),\n",
       "  PredictedToken(token=' same', prob=0.020263671875, logit=16.125, token_id=1890, metadata=None),\n",
       "  PredictedToken(token=' Prince', prob=0.01019287109375, logit=15.4375, token_id=19912, metadata=None),\n",
       "  PredictedToken(token=' English', prob=0.00848388671875, logit=15.25, token_id=6498, metadata=None),\n",
       "  PredictedToken(token=' Black', prob=0.0079345703125, logit=15.1875, token_id=5348, metadata=None),\n",
       "  PredictedToken(token=' R', prob=0.007476806640625, logit=15.125, token_id=432, metadata=None),\n",
       "  PredictedToken(token=' Boston', prob=0.00701904296875, logit=15.0625, token_id=10406, metadata=None),\n",
       "  PredictedToken(token=' USA', prob=0.006591796875, logit=15.0, token_id=7427, metadata=None)]]"
      ]
     },
     "execution_count": 9,
     "metadata": {},
     "output_type": "execute_result"
    }
   ],
   "source": [
    "from src.evaluation import get_connection_on_entity_pair\n",
    "\n",
    "query_entities = [\"Michael Jackson\", \"Prince\"]\n",
    "\n",
    "connection, next_tok_probs = get_connection_on_entity_pair(\n",
    "    mt=mt,\n",
    "    entities=query_entities,\n",
    "    prefix_generator=prefix_generator,\n",
    "    n_valid=10,\n",
    "    n_none=1,\n",
    "    return_next_token_probs=True,\n",
    "    answer_prefix=\" Yes -\"\n",
    ")\n",
    "\n",
    "logger.debug(\"-\" * 150)\n",
    "logger.info(f\"({query_entities[0]}, {query_entities[1]}) => {connection}\")\n",
    "logger.debug(\"-\" * 150)\n",
    "\n",
    "next_tok_probs"
   ]
  },
  {
   "cell_type": "code",
   "execution_count": 10,
   "metadata": {},
   "outputs": [
    {
     "name": "stderr",
     "output_type": "stream",
     "text": [
      "The following generation flags are not valid and may be ignored: ['temperature', 'top_p']. Set `TRANSFORMERS_VERBOSITY=info` for more details.\n"
     ]
    },
    {
     "name": "stderr",
     "output_type": "stream",
     "text": [
      "The following generation flags are not valid and may be ignored: ['temperature', 'top_p']. Set `TRANSFORMERS_VERBOSITY=info` for more details.\n"
     ]
    },
    {
     "name": "stdout",
     "output_type": "stream",
     "text": [
      "[\n",
      "  \"What is the profession of Michael Jackson? Ans: Singer, songwriter, and dancer.\\nWhat is the profession of Michael Jackson?\\nAns: Singer, songwriter, and dancer.\\nWhat is the profession of Michael\"\n",
      "]\n",
      "[\n",
      "  \"What is the profession of Prince? Ans: Musician\\nPrince was a musician. He was a singer, songwriter, musician, and record producer. He was known for his unique and eclectic style\"\n",
      "]\n"
     ]
    }
   ],
   "source": [
    "from src.functional import generate_with_patch\n",
    "\n",
    "prompt_template = \"What is the profession of {}? Ans:\"\n",
    "\n",
    "print(json.dumps(\n",
    "    generate_with_patch(\n",
    "        mt=mt,\n",
    "        inputs=prompt_template.format(query_entities[0]),\n",
    "        n_gen_per_prompt=1,\n",
    "        do_sample=False,\n",
    "        max_new_tokens=30\n",
    "    ),\n",
    "    indent=2,\n",
    "))\n",
    "\n",
    "print(json.dumps(\n",
    "    generate_with_patch(\n",
    "        mt=mt,\n",
    "        inputs=prompt_template.format(query_entities[1]),\n",
    "        n_gen_per_prompt=1,\n",
    "        do_sample=False,\n",
    "        max_new_tokens=30,\n",
    "    ),\n",
    "    indent=2,\n",
    "))"
   ]
  },
  {
   "cell_type": "markdown",
   "metadata": {},
   "source": [
    "## Filter the Candidate Samples"
   ]
  },
  {
   "cell_type": "code",
   "execution_count": 12,
   "metadata": {},
   "outputs": [],
   "source": [
    "# SYNTH_DATASET = \"icosahedron_1\"\n",
    "SYNTH_DATASET = \"test_72\"\n",
    "\n",
    "with open(\n",
    "    os.path.join(env_utils.DEFAULT_DATA_DIR, f\"synthetic_entities/{SYNTH_DATASET}/profiles.json\"), \"r\"\n",
    ") as f:\n",
    "    synth = json.load(f)\n",
    "\n",
    "\n",
    "profiles = [p[\"profile\"] for p in synth] if \"profile\" in synth[0] else synth\n",
    "\n",
    "names_to_profiles = {p[\"name\"]: p for p in profiles}"
   ]
  },
  {
   "cell_type": "code",
   "execution_count": 26,
   "metadata": {},
   "outputs": [
    {
     "data": {
      "text/plain": [
       "{'nationality': {'Pakistan': ['Mohammad Aziz', 'Fatima Sheikh'],\n",
       "  'Brazil': ['João Silva', 'Maria Santos'],\n",
       "  'Japan': ['Takeshi Yamamoto', 'Yuki Tanaka'],\n",
       "  'Nigeria': ['Chinedu Okafor', 'Amara Adeyemi'],\n",
       "  'Germany': ['Hans Mueller', 'Anna Schmidt'],\n",
       "  'Mexico': ['Carlos Rodriguez', 'Sofia Hernandez'],\n",
       "  'India': ['Rajesh Kumar', 'Priya Patel'],\n",
       "  'France': ['Pierre Dubois', 'Marie Laurent'],\n",
       "  'Egypt': ['Ahmed Hassan', 'Layla Mahmoud'],\n",
       "  'South Korea': ['Min-jun Park', 'Ji-woo Kim'],\n",
       "  'Italy': ['Marco Rossi', 'Giulia Romano'],\n",
       "  'Kenya': ['James Mwangi', 'Grace Wanjiru'],\n",
       "  'Argentina': ['Diego Martinez', 'Valentina Lopez'],\n",
       "  'Turkey': ['Mehmet Yilmaz', 'Ayse Kaya'],\n",
       "  'Poland': ['Piotr Kowalski', 'Katarzyna Nowak'],\n",
       "  'Thailand': ['Somchai Jaidee', 'Siriporn Suwannarat'],\n",
       "  'Canada': ['David Thompson', 'Sarah MacDonald'],\n",
       "  'Morocco': ['Youssef Benali', 'Fatima Alaoui'],\n",
       "  'Australia': ['Jack Wilson', 'Emma Taylor'],\n",
       "  'Netherlands': ['Jan de Vries', 'Lisa van der Berg'],\n",
       "  'Greece': ['Dimitris Papadopoulos', 'Elena Georgiou'],\n",
       "  'Vietnam': ['Nguyen Van Duc', 'Tran Thi Mai'],\n",
       "  'Sweden': ['Erik Andersson', 'Astrid Lindgren'],\n",
       "  'Bangladesh': ['Rahman Ali', 'Nasreen Begum'],\n",
       "  'Philippines': ['Jose Cruz', 'Maria dela Rosa'],\n",
       "  'Romania': ['Alexandru Popescu', 'Elena Ionescu'],\n",
       "  'Portugal': ['António Costa', 'Isabel Ferreira'],\n",
       "  'Ghana': ['Kwame Mensah', 'Akosua Boateng'],\n",
       "  'Norway': ['Ole Hansen', 'Ingrid Olsen'],\n",
       "  'United States': ['Michael Johnson', 'Jennifer Davis'],\n",
       "  'United Kingdom': ['James Mitchell', 'Sophie Evans'],\n",
       "  'Spain': ['Pablo Garcia', 'Laura Fernandez'],\n",
       "  'Russia': ['Ivan Petrov', 'Natasha Ivanova'],\n",
       "  'Chile': ['Rodrigo Gonzalez', 'Camila Torres'],\n",
       "  'Iran': ['Ali Rezaei', 'Zahra Hosseini'],\n",
       "  'Israel': ['David Cohen', 'Rachel Levy']}}"
      ]
     },
     "execution_count": 26,
     "metadata": {},
     "output_type": "execute_result"
    }
   ],
   "source": [
    "attributes = [\n",
    "    \"country\",\n",
    "    #\"occupation\",\n",
    "    #\"university\"\n",
    "]\n",
    "\n",
    "attr_to_names = {attr: {} for attr in attributes}\n",
    "\n",
    "for attr in attributes:\n",
    "    for profile in profiles:\n",
    "        value = profile[attr]\n",
    "        if value not in attr_to_names[attr]:\n",
    "            attr_to_names[attr][value] = []\n",
    "        attr_to_names[attr][value].append(profile[\"name\"])\n",
    "\n",
    "attr_to_names[\"nationality\"] = attr_to_names[\"country\"]\n",
    "attr_to_names.pop(\"country\")\n",
    "#attr_to_names[\"profession\"] = attr_to_names[\"occupation\"]\n",
    "#attr_to_names.pop(\"occupation\")\n",
    "#attr_to_names[\"school\"] = attr_to_names[\"university\"]\n",
    "#attr_to_names.pop(\"university\")\n",
    "\n",
    "attr_to_names"
   ]
  },
  {
   "cell_type": "code",
   "execution_count": 27,
   "metadata": {},
   "outputs": [
    {
     "name": "stdout",
     "output_type": "stream",
     "text": [
      "# Task: Check if Two People Share the Same [attribute]\n",
      "You will be given two people's names. Your job is to determine if they share the same [attribute].\n",
      "# Response Format:\n",
      "If you find a match: Yes - [nationality] - they are both [nationality]\n",
      "If no match: \"No - [person_1] is a [nationality_1] while [person_2] is a [nationality_2]\"\n",
      "\n",
      "Q: Person A and Person B\n",
      "A: Yes - German - they are both German.\n",
      "\n",
      "Q: Person A and Person B\n",
      "A: No - Person A is a German while Person B is a French.\n",
      "\n",
      "## Your turn, give your answer in a single line.\n"
     ]
    }
   ],
   "source": [
    "from src.probing.prompt import BiAssociationPrefix\n",
    "from src.probing.few_shot_examples import (\n",
    "    human_nationality,\n",
    "    human_profession,\n",
    "    human_alma_mater,\n",
    "    human_allergy,\n",
    "    human_car,\n",
    "    human_pet\n",
    ")\n",
    "\n",
    "prefix_generator_cls = BiAssociationPrefix\n",
    "\n",
    "# few_shot_examples = human_nationality\n",
    "# few_shot_examples = human_profession\n",
    "# few_shot_examples = human_alma_mater\n",
    "# few_shot_examples = human_allergy\n",
    "# few_shot_examples = human_car\n",
    "# few_shot_examples = human_pet\n",
    "\n",
    "prefix_generator = prefix_generator_cls(\n",
    "    # instruction=few_shot_examples.instruction,\n",
    "    # positive_connections=few_shot_examples.positive_examples,\n",
    "    # negative_connections=few_shot_examples.negative_examples,\n",
    "    filter_attributes=[\n",
    "        \"nationality\", \n",
    "        #\"profession\", \n",
    "        #\"school\"\n",
    "    ],\n",
    "    format = \"_3\"\n",
    ")\n",
    "\n",
    "prefix = prefix_generator.get_prefix()\n",
    "print(prefix)\n"
   ]
  },
  {
   "cell_type": "code",
   "execution_count": 30,
   "metadata": {},
   "outputs": [
    {
     "name": "stdout",
     "output_type": "stream",
     "text": [
      "2025-06-25 11:44:21 __main__ INFO     ---------- nationality ----------\n"
     ]
    },
    {
     "name": "stderr",
     "output_type": "stream",
     "text": [
      "The following generation flags are not valid and may be ignored: ['temperature', 'top_p']. Set `TRANSFORMERS_VERBOSITY=info` for more details.\n"
     ]
    },
    {
     "name": "stdout",
     "output_type": "stream",
     "text": [
      "2025-06-25 11:44:21 __main__ DEBUG    ('Mohammad Aziz', 'Fatima Sheikh') => Pakistan | ['\" Turkish\"[24666] (p=0.171, logit=18.750)', '\" Pakistani\"[45552] (p=0.133, logit=18.500)', '\" Persian\"[50961] (p=0.091, logit=18.125)', '\" German\"[6063] (p=0.091, logit=18.125)', '\" Iranian\"[28501] (p=0.055, logit=17.625)', '\" French\"[8753] (p=0.038, logit=17.250)', '\" Afghan\"[17214] (p=0.034, logit=17.125)', '\" Indian\"[7904] (p=0.034, logit=17.125)', '\" Arabic\"[35217] (p=0.030, logit=17.000)', '\" English\"[6498] (p=0.026, logit=16.875)', '\" Moroccan\"[95067] (p=0.023, logit=16.750)', '\" Urdu\"[94435] (p=0.016, logit=16.375)', '\" Bang\"[17343] (p=0.012, logit=16.125)', '\" Polish\"[33084] (p=0.010, logit=15.938)', '\" Egyptian\"[33589] (p=0.010, logit=15.875)']\n"
     ]
    },
    {
     "name": "stderr",
     "output_type": "stream",
     "text": [
      "The following generation flags are not valid and may be ignored: ['temperature', 'top_p']. Set `TRANSFORMERS_VERBOSITY=info` for more details.\n"
     ]
    },
    {
     "name": "stdout",
     "output_type": "stream",
     "text": [
      "2025-06-25 11:44:21 __main__ DEBUG    ('Fatima Sheikh', 'Mohammad Aziz') => Pakistan | ['\" Pakistani\"[45552] (p=0.200, logit=18.500)', '\" Indian\"[7904] (p=0.155, logit=18.250)', '\" Turkish\"[24666] (p=0.065, logit=17.375)', '\" Persian\"[50961] (p=0.051, logit=17.125)', '\" French\"[8753] (p=0.035, logit=16.750)', '\" Arabic\"[35217] (p=0.035, logit=16.750)', '\" Iranian\"[28501] (p=0.035, logit=16.750)', '\" Moroccan\"[95067] (p=0.031, logit=16.625)', '\" Afghan\"[17214] (p=0.031, logit=16.625)', '\" German\"[6063] (p=0.031, logit=16.625)', '\" Egyptian\"[33589] (p=0.027, logit=16.500)', '\" English\"[6498] (p=0.024, logit=16.375)', '\" Bang\"[17343] (p=0.024, logit=16.375)', '\" Urdu\"[94435] (p=0.019, logit=16.125)', '\" Saudi\"[18387] (p=0.014, logit=15.812)']\n"
     ]
    },
    {
     "name": "stderr",
     "output_type": "stream",
     "text": [
      "The following generation flags are not valid and may be ignored: ['temperature', 'top_p']. Set `TRANSFORMERS_VERBOSITY=info` for more details.\n"
     ]
    },
    {
     "name": "stdout",
     "output_type": "stream",
     "text": [
      "2025-06-25 11:44:21 __main__ DEBUG    ('João Silva', 'Maria Santos') => Brazil | ['\" Portuguese\"[43288] (p=0.676, logit=22.250)', '\" Brazilian\"[36083] (p=0.249, logit=21.250)', '\" Spanish\"[15506] (p=0.021, logit=18.750)', '\" Italian\"[15155] (p=0.010, logit=18.000)', '\" French\"[8753] (p=0.010, logit=18.000)', '\" German\"[6063] (p=0.008, logit=17.750)', '\" English\"[6498] (p=0.004, logit=17.000)', '\" Dutch\"[24113] (p=0.003, logit=16.750)', '\" Both\"[11995] (p=0.002, logit=16.500)', '\" European\"[7665] (p=0.002, logit=16.500)', '\" Brazil\"[16327] (p=0.001, logit=15.375)', '\" Port\"[5896] (p=0.001, logit=15.188)', '\" British\"[8013] (p=0.001, logit=15.125)', '\" Portugal\"[34411] (p=0.001, logit=15.062)', '\" [\"[510] (p=0.000, logit=15.000)']\n"
     ]
    },
    {
     "name": "stderr",
     "output_type": "stream",
     "text": [
      "The following generation flags are not valid and may be ignored: ['temperature', 'top_p']. Set `TRANSFORMERS_VERBOSITY=info` for more details.\n"
     ]
    },
    {
     "name": "stdout",
     "output_type": "stream",
     "text": [
      "2025-06-25 11:44:21 __main__ DEBUG    ('Maria Santos', 'João Silva') => Brazil | ['\" Portuguese\"[43288] (p=0.496, logit=21.750)', '\" Brazilian\"[36083] (p=0.266, logit=21.125)', '\" Spanish\"[15506] (p=0.125, logit=20.375)', '\" Italian\"[15155] (p=0.028, logit=18.875)', '\" German\"[6063] (p=0.025, logit=18.750)', '\" French\"[8753] (p=0.013, logit=18.125)', '\" English\"[6498] (p=0.008, logit=17.625)', '\" Mexican\"[24160] (p=0.003, logit=16.750)', '\" Dutch\"[24113] (p=0.002, logit=16.375)', '\" European\"[7665] (p=0.002, logit=16.375)', '\" Both\"[11995] (p=0.002, logit=16.375)', '\" Russian\"[8690] (p=0.002, logit=16.125)', '\" Indian\"[7904] (p=0.002, logit=16.000)', '\" American\"[3778] (p=0.001, logit=15.938)', '\" British\"[8013] (p=0.001, logit=15.750)']\n"
     ]
    },
    {
     "name": "stderr",
     "output_type": "stream",
     "text": [
      "The following generation flags are not valid and may be ignored: ['temperature', 'top_p']. Set `TRANSFORMERS_VERBOSITY=info` for more details.\n"
     ]
    },
    {
     "name": "stdout",
     "output_type": "stream",
     "text": [
      "2025-06-25 11:44:21 __main__ DEBUG    ('Takeshi Yamamoto', 'Yuki Tanaka') => Japan | ['\" Japanese\"[11002] (p=0.926, logit=23.250)', '\" Korean\"[16526] (p=0.009, logit=18.625)', '\" French\"[8753] (p=0.009, logit=18.625)', '\" Italian\"[15155] (p=0.007, logit=18.375)', '\" German\"[6063] (p=0.007, logit=18.375)', '\" Spanish\"[15506] (p=0.006, logit=18.250)', '\" Chinese\"[8620] (p=0.005, logit=18.000)', '\" English\"[6498] (p=0.004, logit=17.750)', '\" Dutch\"[24113] (p=0.003, logit=17.625)', '\" Russian\"[8690] (p=0.002, logit=17.125)', '\" Portuguese\"[43288] (p=0.002, logit=17.000)', '\" Brazilian\"[36083] (p=0.002, logit=17.000)', '\" Both\"[11995] (p=0.001, logit=16.625)', '\" American\"[3778] (p=0.001, logit=16.500)', '\" Asian\"[14875] (p=0.001, logit=16.375)']\n"
     ]
    },
    {
     "name": "stderr",
     "output_type": "stream",
     "text": [
      "The following generation flags are not valid and may be ignored: ['temperature', 'top_p']. Set `TRANSFORMERS_VERBOSITY=info` for more details.\n"
     ]
    },
    {
     "name": "stdout",
     "output_type": "stream",
     "text": [
      "2025-06-25 11:44:22 __main__ DEBUG    ('Yuki Tanaka', 'Takeshi Yamamoto') => Japan | ['\" Japanese\"[11002] (p=0.926, logit=23.250)', '\" Korean\"[16526] (p=0.012, logit=18.875)', '\" Italian\"[15155] (p=0.012, logit=18.875)', '\" Spanish\"[15506] (p=0.008, logit=18.500)', '\" French\"[8753] (p=0.006, logit=18.250)', '\" Chinese\"[8620] (p=0.005, logit=18.000)', '\" Dutch\"[24113] (p=0.004, logit=17.875)', '\" English\"[6498] (p=0.003, logit=17.625)', '\" German\"[6063] (p=0.003, logit=17.500)', '\" Portuguese\"[43288] (p=0.002, logit=17.125)', '\" Brazilian\"[36083] (p=0.002, logit=16.875)', '\" Russian\"[8690] (p=0.001, logit=16.500)', '\" Polish\"[33084] (p=0.001, logit=16.500)', '\" Both\"[11995] (p=0.001, logit=16.500)', '\" American\"[3778] (p=0.001, logit=16.375)']\n"
     ]
    },
    {
     "name": "stderr",
     "output_type": "stream",
     "text": [
      "The following generation flags are not valid and may be ignored: ['temperature', 'top_p']. Set `TRANSFORMERS_VERBOSITY=info` for more details.\n"
     ]
    },
    {
     "name": "stdout",
     "output_type": "stream",
     "text": [
      "2025-06-25 11:44:22 __main__ DEBUG    ('Chinedu Okafor', 'Amara Adeyemi') => Nigeria | ['\" Nigerian\"[55433] (p=0.641, logit=20.875)', '\" German\"[6063] (p=0.041, logit=18.125)', '\" Ghana\"[48668] (p=0.041, logit=18.125)', '\" English\"[6498] (p=0.041, logit=18.125)', '\" African\"[11904] (p=0.032, logit=17.875)', '\" British\"[8013] (p=0.019, logit=17.375)', '\" Ig\"[39551] (p=0.015, logit=17.125)', '\" Portuguese\"[43288] (p=0.013, logit=17.000)', '\" French\"[8753] (p=0.013, logit=17.000)', '\" Spanish\"[15506] (p=0.012, logit=16.875)', '\" Brazilian\"[36083] (p=0.010, logit=16.750)', '\" Ethiopian\"[96634] (p=0.008, logit=16.500)', '\" American\"[3778] (p=0.007, logit=16.375)', '\" Dutch\"[24113] (p=0.007, logit=16.375)', '\" Italian\"[15155] (p=0.006, logit=16.250)']\n"
     ]
    },
    {
     "name": "stderr",
     "output_type": "stream",
     "text": [
      "The following generation flags are not valid and may be ignored: ['temperature', 'top_p']. Set `TRANSFORMERS_VERBOSITY=info` for more details.\n"
     ]
    },
    {
     "name": "stdout",
     "output_type": "stream",
     "text": [
      "2025-06-25 11:44:22 __main__ DEBUG    ('Amara Adeyemi', 'Chinedu Okafor') => Nigeria | ['\" Nigerian\"[55433] (p=0.629, logit=21.000)', '\" English\"[6498] (p=0.046, logit=18.375)', '\" African\"[11904] (p=0.040, logit=18.250)', '\" German\"[6063] (p=0.028, logit=17.875)', '\" French\"[8753] (p=0.024, logit=17.750)', '\" Ghana\"[48668] (p=0.022, logit=17.625)', '\" Spanish\"[15506] (p=0.022, logit=17.625)', '\" British\"[8013] (p=0.019, logit=17.500)', '\" Ig\"[39551] (p=0.012, logit=17.000)', '\" American\"[3778] (p=0.012, logit=17.000)', '\" Indian\"[7904] (p=0.012, logit=17.000)', '\" Italian\"[15155] (p=0.012, logit=17.000)', '\" Dutch\"[24113] (p=0.010, logit=16.875)', '\" Ethiopian\"[96634] (p=0.008, logit=16.625)', '\" Brazilian\"[36083] (p=0.007, logit=16.500)']\n"
     ]
    },
    {
     "name": "stderr",
     "output_type": "stream",
     "text": [
      "The following generation flags are not valid and may be ignored: ['temperature', 'top_p']. Set `TRANSFORMERS_VERBOSITY=info` for more details.\n"
     ]
    },
    {
     "name": "stdout",
     "output_type": "stream",
     "text": [
      "2025-06-25 11:44:22 __main__ DEBUG    ('Hans Mueller', 'Anna Schmidt') => Germany | ['\" German\"[6063] (p=0.855, logit=22.250)', '\" Austrian\"[58069] (p=0.038, logit=19.125)', '\" French\"[8753] (p=0.014, logit=18.125)', '\" Swiss\"[30791] (p=0.011, logit=17.875)', '\" Italian\"[15155] (p=0.008, logit=17.625)', '\" Dutch\"[24113] (p=0.008, logit=17.625)', '\" Polish\"[33084] (p=0.007, logit=17.375)', '\" Russian\"[8690] (p=0.006, logit=17.250)', '\" English\"[6498] (p=0.004, logit=16.875)', '\" Swedish\"[31209] (p=0.004, logit=16.875)', '\" Hungarian\"[57869] (p=0.004, logit=16.875)', '\" Both\"[11995] (p=0.003, logit=16.750)', '\" Belgian\"[49162] (p=0.003, logit=16.625)', '\" Spanish\"[15506] (p=0.003, logit=16.500)', '\" American\"[3778] (p=0.003, logit=16.500)']\n"
     ]
    },
    {
     "name": "stderr",
     "output_type": "stream",
     "text": [
      "The following generation flags are not valid and may be ignored: ['temperature', 'top_p']. Set `TRANSFORMERS_VERBOSITY=info` for more details.\n"
     ]
    },
    {
     "name": "stdout",
     "output_type": "stream",
     "text": [
      "2025-06-25 11:44:22 __main__ DEBUG    ('Anna Schmidt', 'Hans Mueller') => Germany | ['\" German\"[6063] (p=0.805, logit=22.125)', '\" Austrian\"[58069] (p=0.040, logit=19.125)', '\" French\"[8753] (p=0.021, logit=18.500)', '\" Italian\"[15155] (p=0.017, logit=18.250)', '\" Russian\"[8690] (p=0.017, logit=18.250)', '\" Polish\"[33084] (p=0.013, logit=18.000)', '\" Dutch\"[24113] (p=0.010, logit=17.750)', '\" Swiss\"[30791] (p=0.008, logit=17.500)', '\" Swedish\"[31209] (p=0.007, logit=17.375)', '\" Hungarian\"[57869] (p=0.006, logit=17.250)', '\" English\"[6498] (p=0.005, logit=17.125)', '\" Spanish\"[15506] (p=0.004, logit=16.750)', '\" Czech\"[34250] (p=0.003, logit=16.625)', '\" Both\"[11995] (p=0.003, logit=16.625)', '\" Danish\"[44780] (p=0.003, logit=16.625)']\n"
     ]
    },
    {
     "name": "stderr",
     "output_type": "stream",
     "text": [
      "The following generation flags are not valid and may be ignored: ['temperature', 'top_p']. Set `TRANSFORMERS_VERBOSITY=info` for more details.\n"
     ]
    },
    {
     "name": "stdout",
     "output_type": "stream",
     "text": [
      "2025-06-25 11:44:22 __main__ DEBUG    ('Carlos Rodriguez', 'Sofia Hernandez') => Mexico | ['\" Spanish\"[15506] (p=0.805, logit=22.375)', '\" Mexican\"[24160] (p=0.109, logit=20.375)', '\" German\"[6063] (p=0.015, logit=18.375)', '\" English\"[6498] (p=0.008, logit=17.750)', '\" Colombian\"[84653] (p=0.007, logit=17.625)', '\" Italian\"[15155] (p=0.006, logit=17.500)', '\" Hispanic\"[41985] (p=0.005, logit=17.375)', '\" Cuban\"[44810] (p=0.004, logit=17.125)', '\" American\"[3778] (p=0.003, logit=16.875)', '\" Argentine\"[82822] (p=0.003, logit=16.875)', '\" Latin\"[20023] (p=0.003, logit=16.750)', '\" French\"[8753] (p=0.003, logit=16.625)', '\" Brazilian\"[36083] (p=0.002, logit=16.375)', '\" Russian\"[8690] (p=0.002, logit=16.250)', '\" Both\"[11995] (p=0.002, logit=16.125)']\n"
     ]
    },
    {
     "name": "stderr",
     "output_type": "stream",
     "text": [
      "The following generation flags are not valid and may be ignored: ['temperature', 'top_p']. Set `TRANSFORMERS_VERBOSITY=info` for more details.\n"
     ]
    },
    {
     "name": "stdout",
     "output_type": "stream",
     "text": [
      "2025-06-25 11:44:23 __main__ DEBUG    ('Sofia Hernandez', 'Carlos Rodriguez') => Mexico | ['\" Spanish\"[15506] (p=0.766, logit=22.125)', '\" Mexican\"[24160] (p=0.133, logit=20.375)', '\" German\"[6063] (p=0.018, logit=18.375)', '\" Italian\"[15155] (p=0.010, logit=17.750)', '\" Hispanic\"[41985] (p=0.008, logit=17.625)', '\" English\"[6498] (p=0.008, logit=17.625)', '\" Colombian\"[84653] (p=0.005, logit=17.125)', '\" American\"[3778] (p=0.005, logit=17.000)', '\" Cuban\"[44810] (p=0.004, logit=16.875)', '\" French\"[8753] (p=0.004, logit=16.750)', '\" Latin\"[20023] (p=0.003, logit=16.500)', '\" Russian\"[8690] (p=0.002, logit=16.375)', '\" Argentine\"[82822] (p=0.002, logit=16.375)', '\" Brazilian\"[36083] (p=0.002, logit=16.125)', '\" Both\"[11995] (p=0.002, logit=16.125)']\n"
     ]
    },
    {
     "name": "stderr",
     "output_type": "stream",
     "text": [
      "The following generation flags are not valid and may be ignored: ['temperature', 'top_p']. Set `TRANSFORMERS_VERBOSITY=info` for more details.\n"
     ]
    },
    {
     "name": "stdout",
     "output_type": "stream",
     "text": [
      "2025-06-25 11:44:23 __main__ DEBUG    ('Rajesh Kumar', 'Priya Patel') => India | ['\" Indian\"[7904] (p=0.832, logit=21.875)', '\" Hindi\"[45080] (p=0.042, logit=18.875)', '\" English\"[6498] (p=0.012, logit=17.625)', '\" British\"[8013] (p=0.012, logit=17.625)', '\" Italian\"[15155] (p=0.010, logit=17.500)', '\" German\"[6063] (p=0.009, logit=17.375)', '\" Spanish\"[15506] (p=0.005, logit=16.750)', '\" American\"[3778] (p=0.003, logit=16.375)', '\" Asian\"[14875] (p=0.003, logit=16.375)', '\" Tamil\"[44883] (p=0.003, logit=16.250)', '\" Chinese\"[8620] (p=0.003, logit=16.250)', '\" French\"[8753] (p=0.003, logit=16.250)', '\" Sri\"[34445] (p=0.003, logit=16.250)', '\" Gujar\"[56731] (p=0.003, logit=16.125)', '\" Nep\"[37669] (p=0.003, logit=16.125)']\n"
     ]
    },
    {
     "name": "stderr",
     "output_type": "stream",
     "text": [
      "The following generation flags are not valid and may be ignored: ['temperature', 'top_p']. Set `TRANSFORMERS_VERBOSITY=info` for more details.\n"
     ]
    },
    {
     "name": "stdout",
     "output_type": "stream",
     "text": [
      "2025-06-25 11:44:23 __main__ DEBUG    ('Priya Patel', 'Rajesh Kumar') => India | ['\" Indian\"[7904] (p=0.844, logit=22.250)', '\" Hindi\"[45080] (p=0.029, logit=18.875)', '\" British\"[8013] (p=0.020, logit=18.500)', '\" English\"[6498] (p=0.018, logit=18.375)', '\" Italian\"[15155] (p=0.007, logit=17.500)', '\" American\"[3778] (p=0.007, logit=17.500)', '\" German\"[6063] (p=0.006, logit=17.250)', '\" Spanish\"[15506] (p=0.006, logit=17.250)', '\" French\"[8753] (p=0.004, logit=17.000)', '\" Chinese\"[8620] (p=0.003, logit=16.625)', '\" Asian\"[14875] (p=0.003, logit=16.500)', '\" Russian\"[8690] (p=0.003, logit=16.500)', '\" Sri\"[34445] (p=0.002, logit=16.250)', '\" Nep\"[37669] (p=0.002, logit=16.125)', '\" Pun\"[31536] (p=0.002, logit=16.125)']\n"
     ]
    },
    {
     "name": "stderr",
     "output_type": "stream",
     "text": [
      "The following generation flags are not valid and may be ignored: ['temperature', 'top_p']. Set `TRANSFORMERS_VERBOSITY=info` for more details.\n"
     ]
    },
    {
     "name": "stdout",
     "output_type": "stream",
     "text": [
      "2025-06-25 11:44:23 __main__ DEBUG    ('Pierre Dubois', 'Marie Laurent') => France | ['\" French\"[8753] (p=0.879, logit=22.250)', '\" German\"[6063] (p=0.044, logit=19.250)', '\" Belgian\"[49162] (p=0.016, logit=18.250)', '\" Italian\"[15155] (p=0.009, logit=17.625)', '\" Spanish\"[15506] (p=0.006, logit=17.250)', '\" Both\"[11995] (p=0.004, logit=16.875)', '\" Dutch\"[24113] (p=0.004, logit=16.750)', '\" English\"[6498] (p=0.004, logit=16.750)', '\" Russian\"[8690] (p=0.003, logit=16.625)', '\" Swiss\"[30791] (p=0.003, logit=16.625)', '\" European\"[7665] (p=0.002, logit=16.375)', '\" [\"[510] (p=0.002, logit=15.938)', '\" Polish\"[33084] (p=0.001, logit=15.688)', '\" \"[220] (p=0.001, logit=15.375)', '\" American\"[3778] (p=0.001, logit=15.062)']\n"
     ]
    },
    {
     "name": "stderr",
     "output_type": "stream",
     "text": [
      "The following generation flags are not valid and may be ignored: ['temperature', 'top_p']. Set `TRANSFORMERS_VERBOSITY=info` for more details.\n"
     ]
    },
    {
     "name": "stdout",
     "output_type": "stream",
     "text": [
      "2025-06-25 11:44:23 __main__ DEBUG    ('Marie Laurent', 'Pierre Dubois') => France | ['\" French\"[8753] (p=0.918, logit=22.125)', '\" German\"[6063] (p=0.028, logit=18.625)', '\" Belgian\"[49162] (p=0.010, logit=17.625)', '\" Italian\"[15155] (p=0.005, logit=16.875)', '\" Both\"[11995] (p=0.003, logit=16.500)', '\" Spanish\"[15506] (p=0.002, logit=16.125)', '\" European\"[7665] (p=0.002, logit=16.125)', '\" Russian\"[8690] (p=0.002, logit=16.125)', '\" [\"[510] (p=0.002, logit=16.125)', '\" English\"[6498] (p=0.002, logit=15.750)', '\" \"[220] (p=0.001, logit=15.688)', '\" Dutch\"[24113] (p=0.001, logit=15.500)', '\" Swiss\"[30791] (p=0.001, logit=15.500)', '\" American\"[3778] (p=0.001, logit=15.188)', '\" Polish\"[33084] (p=0.001, logit=14.875)']\n"
     ]
    },
    {
     "name": "stderr",
     "output_type": "stream",
     "text": [
      "The following generation flags are not valid and may be ignored: ['temperature', 'top_p']. Set `TRANSFORMERS_VERBOSITY=info` for more details.\n"
     ]
    },
    {
     "name": "stdout",
     "output_type": "stream",
     "text": [
      "2025-06-25 11:44:23 __main__ DEBUG    ('Ahmed Hassan', 'Layla Mahmoud') => Egypt | ['\" Egyptian\"[33589] (p=0.395, logit=19.500)', '\" Arabic\"[35217] (p=0.128, logit=18.375)', '\" German\"[6063] (p=0.061, logit=17.625)', '\" Arab\"[10989] (p=0.053, logit=17.500)', '\" Moroccan\"[95067] (p=0.037, logit=17.125)', '\" Persian\"[50961] (p=0.020, logit=16.500)', '\" Turkish\"[24666] (p=0.020, logit=16.500)', '\" English\"[6498] (p=0.020, logit=16.500)', '\" French\"[8753] (p=0.017, logit=16.375)', '\" Iranian\"[28501] (p=0.017, logit=16.375)', '\" Alger\"[59609] (p=0.017, logit=16.375)', '\" Palestinian\"[22596] (p=0.015, logit=16.250)', '\" Somali\"[85794] (p=0.012, logit=16.000)', '\" Syrian\"[18636] (p=0.011, logit=15.875)', '\" Middle\"[12877] (p=0.010, logit=15.812)']\n"
     ]
    },
    {
     "name": "stderr",
     "output_type": "stream",
     "text": [
      "The following generation flags are not valid and may be ignored: ['temperature', 'top_p']. Set `TRANSFORMERS_VERBOSITY=info` for more details.\n"
     ]
    },
    {
     "name": "stdout",
     "output_type": "stream",
     "text": [
      "2025-06-25 11:44:24 __main__ DEBUG    ('Layla Mahmoud', 'Ahmed Hassan') => Egypt | ['\" Egyptian\"[33589] (p=0.426, logit=19.625)', '\" Arabic\"[35217] (p=0.122, logit=18.375)', '\" Arab\"[10989] (p=0.045, logit=17.375)', '\" German\"[6063] (p=0.035, logit=17.125)', '\" Turkish\"[24666] (p=0.027, logit=16.875)', '\" English\"[6498] (p=0.024, logit=16.750)', '\" Moroccan\"[95067] (p=0.024, logit=16.750)', '\" Iranian\"[28501] (p=0.021, logit=16.625)', '\" French\"[8753] (p=0.021, logit=16.625)', '\" Persian\"[50961] (p=0.019, logit=16.500)', '\" Italian\"[15155] (p=0.015, logit=16.250)', '\" Palestinian\"[22596] (p=0.015, logit=16.250)', '\" Alger\"[59609] (p=0.011, logit=16.000)', '\" Middle\"[12877] (p=0.011, logit=15.938)', '\" Syrian\"[18636] (p=0.010, logit=15.875)']\n"
     ]
    },
    {
     "name": "stderr",
     "output_type": "stream",
     "text": [
      "The following generation flags are not valid and may be ignored: ['temperature', 'top_p']. Set `TRANSFORMERS_VERBOSITY=info` for more details.\n"
     ]
    },
    {
     "name": "stdout",
     "output_type": "stream",
     "text": [
      "2025-06-25 11:44:24 __main__ DEBUG    ('Min-jun Park', 'Ji-woo Kim') => South Korea | ['\" Korean\"[16526] (p=0.945, logit=23.750)', '\" Chinese\"[8620] (p=0.017, logit=19.750)', '\" South\"[4987] (p=0.012, logit=19.375)', '\" K\"[735] (p=0.003, logit=17.875)', '\" English\"[6498] (p=0.003, logit=17.875)', '\" French\"[8753] (p=0.002, logit=17.750)', '\" Asian\"[14875] (p=0.002, logit=17.375)', '\" Japanese\"[11002] (p=0.002, logit=17.375)', '\" German\"[6063] (p=0.001, logit=17.000)', '\" Dutch\"[24113] (p=0.001, logit=16.875)', '\" North\"[4892] (p=0.001, logit=16.875)', '\" American\"[3778] (p=0.001, logit=16.875)', '\" Spanish\"[15506] (p=0.001, logit=16.750)', '\" Both\"[11995] (p=0.001, logit=16.500)', '\" None\"[2290] (p=0.001, logit=16.500)']\n"
     ]
    },
    {
     "name": "stderr",
     "output_type": "stream",
     "text": [
      "The following generation flags are not valid and may be ignored: ['temperature', 'top_p']. Set `TRANSFORMERS_VERBOSITY=info` for more details.\n"
     ]
    },
    {
     "name": "stdout",
     "output_type": "stream",
     "text": [
      "2025-06-25 11:44:24 __main__ DEBUG    ('Ji-woo Kim', 'Min-jun Park') => South Korea | ['\" Korean\"[16526] (p=0.949, logit=23.500)', '\" South\"[4987] (p=0.020, logit=19.625)', '\" English\"[6498] (p=0.005, logit=18.250)', '\" K\"[735] (p=0.003, logit=17.875)', '\" French\"[8753] (p=0.002, logit=17.250)', '\" Italian\"[15155] (p=0.002, logit=17.125)', '\" Spanish\"[15506] (p=0.001, logit=17.000)', '\" North\"[4892] (p=0.001, logit=16.875)', '\" Asian\"[14875] (p=0.001, logit=16.750)', '\" German\"[6063] (p=0.001, logit=16.750)', '\" Chinese\"[8620] (p=0.001, logit=16.750)', '\" Both\"[11995] (p=0.001, logit=16.750)', '\" Japanese\"[11002] (p=0.001, logit=16.625)', '\" American\"[3778] (p=0.001, logit=16.625)', '\" Dutch\"[24113] (p=0.001, logit=16.375)']\n"
     ]
    },
    {
     "name": "stderr",
     "output_type": "stream",
     "text": [
      "The following generation flags are not valid and may be ignored: ['temperature', 'top_p']. Set `TRANSFORMERS_VERBOSITY=info` for more details.\n"
     ]
    },
    {
     "name": "stdout",
     "output_type": "stream",
     "text": [
      "2025-06-25 11:44:24 __main__ DEBUG    ('Marco Rossi', 'Giulia Romano') => Italy | ['\" Italian\"[15155] (p=0.914, logit=22.750)', '\" German\"[6063] (p=0.028, logit=19.250)', '\" Spanish\"[15506] (p=0.019, logit=18.875)', '\" French\"[8753] (p=0.006, logit=17.750)', '\" Russian\"[8690] (p=0.004, logit=17.250)', '\" It\"[1102] (p=0.002, logit=16.500)', '\" Romanian\"[74697] (p=0.001, logit=16.250)', '\" English\"[6498] (p=0.001, logit=16.250)', '\" Both\"[11995] (p=0.001, logit=16.000)', '\" Portuguese\"[43288] (p=0.001, logit=16.000)', '\" Austrian\"[58069] (p=0.001, logit=15.938)', '\" Argentine\"[82822] (p=0.001, logit=15.688)', '\" European\"[7665] (p=0.001, logit=15.562)', '\" Brazilian\"[36083] (p=0.001, logit=15.500)', '\" American\"[3778] (p=0.001, logit=15.500)']\n"
     ]
    },
    {
     "name": "stderr",
     "output_type": "stream",
     "text": [
      "The following generation flags are not valid and may be ignored: ['temperature', 'top_p']. Set `TRANSFORMERS_VERBOSITY=info` for more details.\n"
     ]
    },
    {
     "name": "stdout",
     "output_type": "stream",
     "text": [
      "2025-06-25 11:44:24 __main__ DEBUG    ('Giulia Romano', 'Marco Rossi') => Italy | ['\" Italian\"[15155] (p=0.914, logit=22.500)', '\" German\"[6063] (p=0.024, logit=18.875)', '\" Spanish\"[15506] (p=0.017, logit=18.500)', '\" French\"[8753] (p=0.008, logit=17.750)', '\" Russian\"[8690] (p=0.005, logit=17.250)', '\" Romanian\"[74697] (p=0.003, logit=16.750)', '\" Roman\"[13041] (p=0.002, logit=16.375)', '\" Both\"[11995] (p=0.002, logit=16.250)', '\" It\"[1102] (p=0.002, logit=16.125)', '\" English\"[6498] (p=0.001, logit=16.000)', '\" Austrian\"[58069] (p=0.001, logit=15.562)', '\" European\"[7665] (p=0.001, logit=15.562)', '\" Portuguese\"[43288] (p=0.001, logit=15.375)', '\" American\"[3778] (p=0.001, logit=15.250)', '\" [\"[510] (p=0.001, logit=15.250)']\n"
     ]
    },
    {
     "name": "stderr",
     "output_type": "stream",
     "text": [
      "The following generation flags are not valid and may be ignored: ['temperature', 'top_p']. Set `TRANSFORMERS_VERBOSITY=info` for more details.\n"
     ]
    },
    {
     "name": "stdout",
     "output_type": "stream",
     "text": [
      "2025-06-25 11:44:24 __main__ DEBUG    ('James Mwangi', 'Grace Wanjiru') => Kenya | ['\" Ken\"[14594] (p=0.181, logit=18.625)', '\" German\"[6063] (p=0.125, logit=18.250)', '\" English\"[6498] (p=0.097, logit=18.000)', '\" African\"[11904] (p=0.066, logit=17.625)', '\" Sw\"[4593] (p=0.059, logit=17.500)', '\" Indian\"[7904] (p=0.031, logit=16.875)', '\" Japanese\"[11002] (p=0.028, logit=16.750)', '\" Swedish\"[31209] (p=0.028, logit=16.750)', '\" Italian\"[15155] (p=0.028, logit=16.750)', '\" Nigerian\"[55433] (p=0.019, logit=16.375)', '\" Korean\"[16526] (p=0.017, logit=16.250)', '\" Tanz\"[58780] (p=0.015, logit=16.125)', '\" Chinese\"[8620] (p=0.013, logit=16.000)', '\" East\"[6460] (p=0.013, logit=16.000)', '\" Dutch\"[24113] (p=0.013, logit=16.000)']\n"
     ]
    },
    {
     "name": "stderr",
     "output_type": "stream",
     "text": [
      "The following generation flags are not valid and may be ignored: ['temperature', 'top_p']. Set `TRANSFORMERS_VERBOSITY=info` for more details.\n"
     ]
    },
    {
     "name": "stdout",
     "output_type": "stream",
     "text": [
      "2025-06-25 11:44:25 __main__ DEBUG    ('Grace Wanjiru', 'James Mwangi') => Kenya | ['\" Ken\"[14594] (p=0.258, logit=19.000)', '\" English\"[6498] (p=0.095, logit=18.000)', '\" German\"[6063] (p=0.074, logit=17.750)', '\" African\"[11904] (p=0.065, logit=17.625)', '\" Sw\"[4593] (p=0.058, logit=17.500)', '\" Swedish\"[31209] (p=0.027, logit=16.750)', '\" Italian\"[15155] (p=0.027, logit=16.750)', '\" Tanz\"[58780] (p=0.024, logit=16.625)', '\" Japanese\"[11002] (p=0.024, logit=16.625)', '\" Indian\"[7904] (p=0.021, logit=16.500)', '\" Korean\"[16526] (p=0.019, logit=16.375)', '\" Ethiopian\"[96634] (p=0.016, logit=16.250)', '\" Nigerian\"[55433] (p=0.016, logit=16.250)', '\" Ug\"[47430] (p=0.016, logit=16.250)', '\" Spanish\"[15506] (p=0.012, logit=15.938)']\n"
     ]
    },
    {
     "name": "stderr",
     "output_type": "stream",
     "text": [
      "The following generation flags are not valid and may be ignored: ['temperature', 'top_p']. Set `TRANSFORMERS_VERBOSITY=info` for more details.\n"
     ]
    },
    {
     "name": "stdout",
     "output_type": "stream",
     "text": [
      "2025-06-25 11:44:25 __main__ DEBUG    ('Diego Martinez', 'Valentina Lopez') => Argentina | ['\" Spanish\"[15506] (p=0.840, logit=22.000)', '\" Italian\"[15155] (p=0.047, logit=19.125)', '\" Argentine\"[82822] (p=0.042, logit=19.000)', '\" Mexican\"[24160] (p=0.022, logit=18.375)', '\" German\"[6063] (p=0.006, logit=17.000)', '\" English\"[6498] (p=0.003, logit=16.500)', '\" French\"[8753] (p=0.003, logit=16.250)', '\" Colombian\"[84653] (p=0.002, logit=16.125)', '\" Arg\"[7793] (p=0.002, logit=16.125)', '\" Cuban\"[44810] (p=0.002, logit=15.938)', '\" Chile\"[34100] (p=0.002, logit=15.938)', '\" Latin\"[20023] (p=0.002, logit=15.750)', '\" Span\"[12168] (p=0.002, logit=15.688)', '\" Hispanic\"[41985] (p=0.001, logit=15.625)', '\" Both\"[11995] (p=0.001, logit=15.562)']\n"
     ]
    },
    {
     "name": "stderr",
     "output_type": "stream",
     "text": [
      "The following generation flags are not valid and may be ignored: ['temperature', 'top_p']. Set `TRANSFORMERS_VERBOSITY=info` for more details.\n"
     ]
    },
    {
     "name": "stdout",
     "output_type": "stream",
     "text": [
      "2025-06-25 11:44:25 __main__ DEBUG    ('Valentina Lopez', 'Diego Martinez') => Argentina | ['\" Spanish\"[15506] (p=0.828, logit=21.875)', '\" Mexican\"[24160] (p=0.047, logit=19.000)', '\" Italian\"[15155] (p=0.047, logit=19.000)', '\" Argentine\"[82822] (p=0.009, logit=17.375)', '\" German\"[6063] (p=0.006, logit=17.000)', '\" Hispanic\"[41985] (p=0.005, logit=16.750)', '\" Colombian\"[84653] (p=0.004, logit=16.625)', '\" Cuban\"[44810] (p=0.004, logit=16.625)', '\" Latin\"[20023] (p=0.004, logit=16.625)', '\" English\"[6498] (p=0.004, logit=16.625)', '\" Russian\"[8690] (p=0.003, logit=16.375)', '\" French\"[8753] (p=0.003, logit=16.125)', '\" American\"[3778] (p=0.002, logit=15.875)', '\" Both\"[11995] (p=0.002, logit=15.562)', '\" [\"[510] (p=0.001, logit=15.500)']\n"
     ]
    },
    {
     "name": "stderr",
     "output_type": "stream",
     "text": [
      "The following generation flags are not valid and may be ignored: ['temperature', 'top_p']. Set `TRANSFORMERS_VERBOSITY=info` for more details.\n"
     ]
    },
    {
     "name": "stdout",
     "output_type": "stream",
     "text": [
      "2025-06-25 11:44:25 __main__ DEBUG    ('Mehmet Yilmaz', 'Ayse Kaya') => Turkey | ['\" Turkish\"[24666] (p=0.961, logit=22.250)', '\" German\"[6063] (p=0.016, logit=18.125)', '\" Kurdish\"[42740] (p=0.003, logit=16.500)', '\" Ottoman\"[70110] (p=0.002, logit=16.250)', '\" Turk\"[21187] (p=0.002, logit=15.812)', '\" Armenian\"[67842] (p=0.001, logit=15.688)', '\" Persian\"[50961] (p=0.001, logit=15.375)', '\" Hungarian\"[57869] (p=0.001, logit=15.312)', '\" Both\"[11995] (p=0.001, logit=15.312)', '\" Greek\"[18341] (p=0.001, logit=14.938)', '\" English\"[6498] (p=0.001, logit=14.875)', '\" French\"[8753] (p=0.001, logit=14.875)', '\" Turks\"[72857] (p=0.001, logit=14.875)', '\" \"[220] (p=0.001, logit=14.812)', '\" Iranian\"[28501] (p=0.001, logit=14.750)']\n"
     ]
    },
    {
     "name": "stderr",
     "output_type": "stream",
     "text": [
      "The following generation flags are not valid and may be ignored: ['temperature', 'top_p']. Set `TRANSFORMERS_VERBOSITY=info` for more details.\n"
     ]
    },
    {
     "name": "stdout",
     "output_type": "stream",
     "text": [
      "2025-06-25 11:44:25 __main__ DEBUG    ('Ayse Kaya', 'Mehmet Yilmaz') => Turkey | ['\" Turkish\"[24666] (p=0.977, logit=22.750)', '\" German\"[6063] (p=0.007, logit=17.750)', '\" Kurdish\"[42740] (p=0.002, logit=16.500)', '\" Both\"[11995] (p=0.001, logit=15.938)', '\" French\"[8753] (p=0.001, logit=15.875)', '\" Armenian\"[67842] (p=0.001, logit=15.750)', '\" Ottoman\"[70110] (p=0.001, logit=15.688)', '\" Turk\"[21187] (p=0.001, logit=15.562)', '\" English\"[6498] (p=0.001, logit=15.375)', '\" Turks\"[72857] (p=0.001, logit=15.375)', '\" Spanish\"[15506] (p=0.001, logit=15.312)', '\" Tur\"[8877] (p=0.000, logit=15.062)', '\" Dutch\"[24113] (p=0.000, logit=15.062)', '\" Persian\"[50961] (p=0.000, logit=15.000)', '\" Greek\"[18341] (p=0.000, logit=14.938)']\n"
     ]
    },
    {
     "name": "stderr",
     "output_type": "stream",
     "text": [
      "The following generation flags are not valid and may be ignored: ['temperature', 'top_p']. Set `TRANSFORMERS_VERBOSITY=info` for more details.\n"
     ]
    },
    {
     "name": "stdout",
     "output_type": "stream",
     "text": [
      "2025-06-25 11:44:25 __main__ DEBUG    ('Piotr Kowalski', 'Katarzyna Nowak') => Poland | ['\" Polish\"[33084] (p=0.969, logit=23.125)', '\" German\"[6063] (p=0.007, logit=18.250)', '\" French\"[8753] (p=0.004, logit=17.625)', '\" P\"[393] (p=0.003, logit=17.500)', '\" Russian\"[8690] (p=0.003, logit=17.375)', '\" Italian\"[15155] (p=0.002, logit=16.875)', '\" Pol\"[3735] (p=0.001, logit=16.375)', '\" Czech\"[34250] (p=0.001, logit=16.375)', '\" Pole\"[53727] (p=0.001, logit=16.125)', '\" Both\"[11995] (p=0.001, logit=15.875)', '\" English\"[6498] (p=0.001, logit=15.812)', '\" Ukrainian\"[34725] (p=0.001, logit=15.812)', '\" Poland\"[28702] (p=0.000, logit=15.312)', '\" European\"[7665] (p=0.000, logit=15.062)', '\" [\"[510] (p=0.000, logit=15.000)']\n"
     ]
    },
    {
     "name": "stderr",
     "output_type": "stream",
     "text": [
      "The following generation flags are not valid and may be ignored: ['temperature', 'top_p']. Set `TRANSFORMERS_VERBOSITY=info` for more details.\n"
     ]
    },
    {
     "name": "stdout",
     "output_type": "stream",
     "text": [
      "2025-06-25 11:44:26 __main__ DEBUG    ('Katarzyna Nowak', 'Piotr Kowalski') => Poland | ['\" Polish\"[33084] (p=0.977, logit=23.125)', '\" German\"[6063] (p=0.005, logit=17.750)', '\" P\"[393] (p=0.003, logit=17.375)', '\" French\"[8753] (p=0.003, logit=17.250)', '\" Russian\"[8690] (p=0.001, logit=16.625)', '\" Pol\"[3735] (p=0.001, logit=16.375)', '\" Italian\"[15155] (p=0.001, logit=16.125)', '\" Both\"[11995] (p=0.001, logit=15.750)', '\" Czech\"[34250] (p=0.001, logit=15.688)', '\" Pole\"[53727] (p=0.001, logit=15.625)', '\" Ukrainian\"[34725] (p=0.001, logit=15.562)', '\" English\"[6498] (p=0.000, logit=15.375)', '\" Poland\"[28702] (p=0.000, logit=15.312)', '\" polish\"[45129] (p=0.000, logit=14.938)', '\" [\"[510] (p=0.000, logit=14.875)']\n"
     ]
    },
    {
     "name": "stderr",
     "output_type": "stream",
     "text": [
      "The following generation flags are not valid and may be ignored: ['temperature', 'top_p']. Set `TRANSFORMERS_VERBOSITY=info` for more details.\n"
     ]
    },
    {
     "name": "stdout",
     "output_type": "stream",
     "text": [
      "2025-06-25 11:44:26 __main__ DEBUG    ('Somchai Jaidee', 'Siriporn Suwannarat') => Thailand | ['\" Thai\"[27490] (p=0.945, logit=21.750)', '\" L\"[445] (p=0.004, logit=16.375)', '\" Kh\"[20774] (p=0.003, logit=15.938)', '\" Spanish\"[15506] (p=0.003, logit=15.812)', '\" French\"[8753] (p=0.002, logit=15.688)', '\" Bur\"[12649] (p=0.002, logit=15.688)', '\" Camb\"[34896] (p=0.002, logit=15.625)', '\" Asian\"[14875] (p=0.002, logit=15.438)', '\" Dutch\"[24113] (p=0.002, logit=15.312)', '\" Th\"[666] (p=0.001, logit=15.188)', '\" Italian\"[15155] (p=0.001, logit=15.125)', '\" Thailand\"[30567] (p=0.001, logit=15.125)', '\" Japanese\"[11002] (p=0.001, logit=15.062)', '\" English\"[6498] (p=0.001, logit=15.000)', '\" German\"[6063] (p=0.001, logit=15.000)']\n"
     ]
    },
    {
     "name": "stderr",
     "output_type": "stream",
     "text": [
      "The following generation flags are not valid and may be ignored: ['temperature', 'top_p']. Set `TRANSFORMERS_VERBOSITY=info` for more details.\n"
     ]
    },
    {
     "name": "stdout",
     "output_type": "stream",
     "text": [
      "2025-06-25 11:44:26 __main__ DEBUG    ('Siriporn Suwannarat', 'Somchai Jaidee') => Thailand | ['\" Thai\"[27490] (p=0.918, logit=21.625)', '\" French\"[8753] (p=0.009, logit=17.000)', '\" Spanish\"[15506] (p=0.005, logit=16.500)', '\" German\"[6063] (p=0.005, logit=16.375)', '\" Italian\"[15155] (p=0.003, logit=16.000)', '\" Dutch\"[24113] (p=0.003, logit=16.000)', '\" English\"[6498] (p=0.003, logit=15.938)', '\" Japanese\"[11002] (p=0.003, logit=15.938)', '\" Asian\"[14875] (p=0.003, logit=15.875)', '\" British\"[8013] (p=0.003, logit=15.875)', '\" L\"[445] (p=0.002, logit=15.688)', '\" Kh\"[20774] (p=0.002, logit=15.250)', '\" Bur\"[12649] (p=0.001, logit=15.125)', '\" Thailand\"[30567] (p=0.001, logit=15.062)', '\" Indian\"[7904] (p=0.001, logit=15.000)']\n"
     ]
    },
    {
     "name": "stderr",
     "output_type": "stream",
     "text": [
      "The following generation flags are not valid and may be ignored: ['temperature', 'top_p']. Set `TRANSFORMERS_VERBOSITY=info` for more details.\n"
     ]
    },
    {
     "name": "stdout",
     "output_type": "stream",
     "text": [
      "2025-06-25 11:44:26 __main__ DEBUG    ('David Thompson', 'Sarah MacDonald') => Canada | ['\" English\"[6498] (p=0.228, logit=20.375)', '\" British\"[8013] (p=0.201, logit=20.250)', '\" Scottish\"[27188] (p=0.083, logit=19.375)', '\" American\"[3778] (p=0.074, logit=19.250)', '\" German\"[6063] (p=0.058, logit=19.000)', '\" Canadian\"[12152] (p=0.045, logit=18.750)', '\" French\"[8753] (p=0.045, logit=18.750)', '\" Irish\"[18088] (p=0.035, logit=18.500)', '\" Korean\"[16526] (p=0.019, logit=17.875)', '\" Australian\"[13673] (p=0.015, logit=17.625)', '\" Dutch\"[24113] (p=0.015, logit=17.625)', '\" Indian\"[7904] (p=0.013, logit=17.500)', '\" Russian\"[8690] (p=0.013, logit=17.500)', '\" Chinese\"[8620] (p=0.011, logit=17.375)', '\" Italian\"[15155] (p=0.009, logit=17.125)']\n"
     ]
    },
    {
     "name": "stderr",
     "output_type": "stream",
     "text": [
      "The following generation flags are not valid and may be ignored: ['temperature', 'top_p']. Set `TRANSFORMERS_VERBOSITY=info` for more details.\n"
     ]
    },
    {
     "name": "stdout",
     "output_type": "stream",
     "text": [
      "2025-06-25 11:44:26 __main__ DEBUG    ('Sarah MacDonald', 'David Thompson') => Canada | ['\" English\"[6498] (p=0.196, logit=20.250)', '\" British\"[8013] (p=0.119, logit=19.750)', '\" American\"[3778] (p=0.105, logit=19.625)', '\" Scottish\"[27188] (p=0.105, logit=19.625)', '\" Canadian\"[12152] (p=0.064, logit=19.125)', '\" German\"[6063] (p=0.056, logit=19.000)', '\" French\"[8753] (p=0.056, logit=19.000)', '\" Irish\"[18088] (p=0.034, logit=18.500)', '\" Dutch\"[24113] (p=0.021, logit=18.000)', '\" Korean\"[16526] (p=0.021, logit=18.000)', '\" Australian\"[13673] (p=0.018, logit=17.875)', '\" Italian\"[15155] (p=0.016, logit=17.750)', '\" Russian\"[8690] (p=0.014, logit=17.625)', '\" Chinese\"[8620] (p=0.013, logit=17.500)', '\" Swedish\"[31209] (p=0.011, logit=17.375)']\n"
     ]
    },
    {
     "name": "stderr",
     "output_type": "stream",
     "text": [
      "The following generation flags are not valid and may be ignored: ['temperature', 'top_p']. Set `TRANSFORMERS_VERBOSITY=info` for more details.\n"
     ]
    },
    {
     "name": "stdout",
     "output_type": "stream",
     "text": [
      "2025-06-25 11:44:27 __main__ DEBUG    ('Youssef Benali', 'Fatima Alaoui') => Morocco | ['\" Alger\"[59609] (p=0.301, logit=19.500)', '\" Moroccan\"[95067] (p=0.266, logit=19.375)', '\" French\"[8753] (p=0.160, logit=18.875)', '\" Arabic\"[35217] (p=0.097, logit=18.375)', '\" Arab\"[10989] (p=0.041, logit=17.500)', '\" Tunis\"[95777] (p=0.028, logit=17.125)', '\" Egyptian\"[33589] (p=0.008, logit=15.938)', '\" Syrian\"[18636] (p=0.007, logit=15.750)', '\" German\"[6063] (p=0.006, logit=15.562)', '\" North\"[4892] (p=0.004, logit=15.125)', '\" Italian\"[15155] (p=0.004, logit=15.062)', '\" Spanish\"[15506] (p=0.003, logit=15.000)', '\" Turkish\"[24666] (p=0.003, logit=15.000)', '\" Palestinian\"[22596] (p=0.003, logit=14.938)', '\" Ber\"[9084] (p=0.003, logit=14.875)']\n"
     ]
    },
    {
     "name": "stderr",
     "output_type": "stream",
     "text": [
      "The following generation flags are not valid and may be ignored: ['temperature', 'top_p']. Set `TRANSFORMERS_VERBOSITY=info` for more details.\n"
     ]
    },
    {
     "name": "stdout",
     "output_type": "stream",
     "text": [
      "2025-06-25 11:44:27 __main__ DEBUG    ('Fatima Alaoui', 'Youssef Benali') => Morocco | ['\" French\"[8753] (p=0.244, logit=19.375)', '\" Alger\"[59609] (p=0.216, logit=19.250)', '\" Moroccan\"[95067] (p=0.190, logit=19.125)', '\" Arabic\"[35217] (p=0.131, logit=18.750)', '\" Arab\"[10989] (p=0.054, logit=17.875)', '\" Tunis\"[95777] (p=0.023, logit=17.000)', '\" German\"[6063] (p=0.016, logit=16.625)', '\" Spanish\"[15506] (p=0.011, logit=16.250)', '\" Italian\"[15155] (p=0.009, logit=16.125)', '\" Egyptian\"[33589] (p=0.007, logit=15.750)', '\" Turkish\"[24666] (p=0.005, logit=15.500)', '\" Syrian\"[18636] (p=0.004, logit=15.312)', '\" North\"[4892] (p=0.004, logit=15.250)', '\" Palestinian\"[22596] (p=0.003, logit=15.125)', '\" African\"[11904] (p=0.003, logit=15.000)']\n"
     ]
    },
    {
     "name": "stderr",
     "output_type": "stream",
     "text": [
      "The following generation flags are not valid and may be ignored: ['temperature', 'top_p']. Set `TRANSFORMERS_VERBOSITY=info` for more details.\n"
     ]
    },
    {
     "name": "stdout",
     "output_type": "stream",
     "text": [
      "2025-06-25 11:44:27 __main__ DEBUG    ('Jack Wilson', 'Emma Taylor') => Australia | ['\" English\"[6498] (p=0.336, logit=21.000)', '\" American\"[3778] (p=0.180, logit=20.375)', '\" British\"[8013] (p=0.140, logit=20.125)', '\" French\"[8753] (p=0.051, logit=19.125)', '\" German\"[6063] (p=0.051, logit=19.125)', '\" Italian\"[15155] (p=0.045, logit=19.000)', '\" Irish\"[18088] (p=0.024, logit=18.375)', '\" Russian\"[8690] (p=0.021, logit=18.250)', '\" Spanish\"[15506] (p=0.011, logit=17.625)', '\" Scottish\"[27188] (p=0.010, logit=17.500)', '\" Australian\"[13673] (p=0.010, logit=17.500)', '\" Dutch\"[24113] (p=0.010, logit=17.500)', '\" Chinese\"[8620] (p=0.009, logit=17.375)', '\" Polish\"[33084] (p=0.008, logit=17.250)', '\" Indian\"[7904] (p=0.005, logit=16.750)']\n"
     ]
    },
    {
     "name": "stderr",
     "output_type": "stream",
     "text": [
      "The following generation flags are not valid and may be ignored: ['temperature', 'top_p']. Set `TRANSFORMERS_VERBOSITY=info` for more details.\n"
     ]
    },
    {
     "name": "stdout",
     "output_type": "stream",
     "text": [
      "2025-06-25 11:44:27 __main__ DEBUG    ('Emma Taylor', 'Jack Wilson') => Australia | ['\" English\"[6498] (p=0.291, logit=21.000)', '\" American\"[3778] (p=0.138, logit=20.250)', '\" German\"[6063] (p=0.122, logit=20.125)', '\" British\"[8013] (p=0.107, logit=20.000)', '\" French\"[8753] (p=0.083, logit=19.750)', '\" Italian\"[15155] (p=0.057, logit=19.375)', '\" Irish\"[18088] (p=0.027, logit=18.625)', '\" Spanish\"[15506] (p=0.016, logit=18.125)', '\" Polish\"[33084] (p=0.013, logit=17.875)', '\" Russian\"[8690] (p=0.013, logit=17.875)', '\" Dutch\"[24113] (p=0.011, logit=17.750)', '\" Australian\"[13673] (p=0.008, logit=17.375)', '\" Chinese\"[8620] (p=0.007, logit=17.250)', '\" Belgian\"[49162] (p=0.006, logit=17.125)', '\" Greek\"[18341] (p=0.006, logit=17.125)']\n"
     ]
    },
    {
     "name": "stderr",
     "output_type": "stream",
     "text": [
      "The following generation flags are not valid and may be ignored: ['temperature', 'top_p']. Set `TRANSFORMERS_VERBOSITY=info` for more details.\n"
     ]
    },
    {
     "name": "stdout",
     "output_type": "stream",
     "text": [
      "2025-06-25 11:44:27 __main__ DEBUG    ('Jan de Vries', 'Lisa van der Berg') => Netherlands | ['\" Dutch\"[24113] (p=0.695, logit=22.500)', '\" German\"[6063] (p=0.199, logit=21.250)', '\" Belgian\"[49162] (p=0.024, logit=19.125)', '\" French\"[8753] (p=0.024, logit=19.125)', '\" English\"[6498] (p=0.005, logit=17.625)', '\" Italian\"[15155] (p=0.005, logit=17.625)', '\" Spanish\"[15506] (p=0.004, logit=17.250)', '\" Polish\"[33084] (p=0.003, logit=17.000)', '\" European\"[7665] (p=0.003, logit=16.875)', '\" Flem\"[65122] (p=0.002, logit=16.750)', '\" Both\"[11995] (p=0.002, logit=16.625)', '\" Russian\"[8690] (p=0.002, logit=16.625)', '\" [\"[510] (p=0.002, logit=16.375)', '\" Netherlands\"[26746] (p=0.001, logit=16.250)', '\" D\"[423] (p=0.001, logit=16.250)']\n"
     ]
    },
    {
     "name": "stderr",
     "output_type": "stream",
     "text": [
      "The following generation flags are not valid and may be ignored: ['temperature', 'top_p']. Set `TRANSFORMERS_VERBOSITY=info` for more details.\n"
     ]
    },
    {
     "name": "stdout",
     "output_type": "stream",
     "text": [
      "2025-06-25 11:44:27 __main__ DEBUG    ('Lisa van der Berg', 'Jan de Vries') => Netherlands | ['\" Dutch\"[24113] (p=0.629, logit=21.875)', '\" German\"[6063] (p=0.262, logit=21.000)', '\" Belgian\"[49162] (p=0.028, logit=18.750)', '\" French\"[8753] (p=0.015, logit=18.125)', '\" English\"[6498] (p=0.006, logit=17.250)', '\" Both\"[11995] (p=0.006, logit=17.250)', '\" Italian\"[15155] (p=0.004, logit=16.750)', '\" Spanish\"[15506] (p=0.003, logit=16.625)', '\" European\"[7665] (p=0.002, logit=16.250)', '\" [\"[510] (p=0.002, logit=16.250)', '\" Netherlands\"[26746] (p=0.002, logit=16.125)', '\" Flem\"[65122] (p=0.002, logit=16.125)', '\" Danish\"[44780] (p=0.002, logit=16.000)', '\" Polish\"[33084] (p=0.002, logit=15.875)', '\" D\"[423] (p=0.002, logit=15.875)']\n"
     ]
    },
    {
     "name": "stderr",
     "output_type": "stream",
     "text": [
      "The following generation flags are not valid and may be ignored: ['temperature', 'top_p']. Set `TRANSFORMERS_VERBOSITY=info` for more details.\n"
     ]
    },
    {
     "name": "stdout",
     "output_type": "stream",
     "text": [
      "2025-06-25 11:44:28 __main__ DEBUG    ('Dimitris Papadopoulos', 'Elena Georgiou') => Greece | ['\" Greek\"[18341] (p=0.926, logit=22.375)', '\" Russian\"[8690] (p=0.013, logit=18.125)', '\" German\"[6063] (p=0.013, logit=18.125)', '\" Turkish\"[24666] (p=0.007, logit=17.500)', '\" Italian\"[15155] (p=0.006, logit=17.375)', '\" Bulgarian\"[89724] (p=0.006, logit=17.375)', '\" French\"[8753] (p=0.005, logit=17.250)', '\" English\"[6498] (p=0.002, logit=16.250)', '\" C\"[356] (p=0.001, logit=15.875)', '\" Maced\"[57552] (p=0.001, logit=15.750)', '\" European\"[7665] (p=0.001, logit=15.688)', '\" Romanian\"[74697] (p=0.001, logit=15.688)', '\" Spanish\"[15506] (p=0.001, logit=15.500)', '\" Serbian\"[88264] (p=0.001, logit=15.438)', '\" Ukrainian\"[34725] (p=0.001, logit=15.125)']\n"
     ]
    },
    {
     "name": "stderr",
     "output_type": "stream",
     "text": [
      "The following generation flags are not valid and may be ignored: ['temperature', 'top_p']. Set `TRANSFORMERS_VERBOSITY=info` for more details.\n"
     ]
    },
    {
     "name": "stdout",
     "output_type": "stream",
     "text": [
      "2025-06-25 11:44:28 __main__ DEBUG    ('Elena Georgiou', 'Dimitris Papadopoulos') => Greece | ['\" Greek\"[18341] (p=0.863, logit=22.125)', '\" German\"[6063] (p=0.026, logit=18.625)', '\" Russian\"[8690] (p=0.020, logit=18.375)', '\" Bulgarian\"[89724] (p=0.014, logit=18.000)', '\" Italian\"[15155] (p=0.014, logit=18.000)', '\" Turkish\"[24666] (p=0.008, logit=17.500)', '\" French\"[8753] (p=0.007, logit=17.375)', '\" Romanian\"[74697] (p=0.006, logit=17.125)', '\" Spanish\"[15506] (p=0.005, logit=16.875)', '\" English\"[6498] (p=0.004, logit=16.750)', '\" Hungarian\"[57869] (p=0.002, logit=16.250)', '\" European\"[7665] (p=0.002, logit=16.125)', '\" Ukrainian\"[34725] (p=0.002, logit=16.125)', '\" Maced\"[57552] (p=0.002, logit=16.000)', '\" Serbian\"[88264] (p=0.002, logit=15.875)']\n"
     ]
    },
    {
     "name": "stderr",
     "output_type": "stream",
     "text": [
      "The following generation flags are not valid and may be ignored: ['temperature', 'top_p']. Set `TRANSFORMERS_VERBOSITY=info` for more details.\n"
     ]
    },
    {
     "name": "stdout",
     "output_type": "stream",
     "text": [
      "2025-06-25 11:44:28 __main__ DEBUG    ('Nguyen Van Duc', 'Tran Thi Mai') => Vietnam | ['\" Vietnamese\"[49577] (p=0.773, logit=21.625)', '\" French\"[8753] (p=0.119, logit=19.750)', '\" Dutch\"[24113] (p=0.016, logit=17.750)', '\" Viet\"[18203] (p=0.013, logit=17.500)', '\" Thai\"[27490] (p=0.009, logit=17.125)', '\" Italian\"[15155] (p=0.007, logit=16.875)', '\" German\"[6063] (p=0.007, logit=16.875)', '\" Korean\"[16526] (p=0.006, logit=16.750)', '\" Both\"[11995] (p=0.005, logit=16.625)', '\" Vietnam\"[23315] (p=0.004, logit=16.375)', '\" Asian\"[14875] (p=0.004, logit=16.250)', '\" Chinese\"[8620] (p=0.003, logit=16.125)', '\" Danish\"[44780] (p=0.002, logit=15.438)', '\" English\"[6498] (p=0.001, logit=15.375)', '\" Belgian\"[49162] (p=0.001, logit=15.312)']\n"
     ]
    },
    {
     "name": "stderr",
     "output_type": "stream",
     "text": [
      "The following generation flags are not valid and may be ignored: ['temperature', 'top_p']. Set `TRANSFORMERS_VERBOSITY=info` for more details.\n"
     ]
    },
    {
     "name": "stdout",
     "output_type": "stream",
     "text": [
      "2025-06-25 11:44:28 __main__ DEBUG    ('Tran Thi Mai', 'Nguyen Van Duc') => Vietnam | ['\" Vietnamese\"[49577] (p=0.879, logit=21.625)', '\" French\"[8753] (p=0.044, logit=18.625)', '\" Thai\"[27490] (p=0.011, logit=17.250)', '\" Viet\"[18203] (p=0.010, logit=17.125)', '\" German\"[6063] (p=0.007, logit=16.750)', '\" Both\"[11995] (p=0.005, logit=16.500)', '\" Korean\"[16526] (p=0.005, logit=16.500)', '\" Italian\"[15155] (p=0.005, logit=16.375)', '\" Dutch\"[24113] (p=0.004, logit=16.125)', '\" Vietnam\"[23315] (p=0.003, logit=15.938)', '\" Asian\"[14875] (p=0.002, logit=15.625)', '\" English\"[6498] (p=0.001, logit=15.000)', '\" [\"[510] (p=0.001, logit=14.875)', '\" both\"[2225] (p=0.001, logit=14.812)', '\" Chinese\"[8620] (p=0.001, logit=14.750)']\n"
     ]
    },
    {
     "name": "stderr",
     "output_type": "stream",
     "text": [
      "The following generation flags are not valid and may be ignored: ['temperature', 'top_p']. Set `TRANSFORMERS_VERBOSITY=info` for more details.\n"
     ]
    },
    {
     "name": "stdout",
     "output_type": "stream",
     "text": [
      "2025-06-25 11:44:28 __main__ DEBUG    ('Erik Andersson', 'Astrid Lindgren') => Sweden | ['\" Swedish\"[31209] (p=0.793, logit=22.500)', '\" German\"[6063] (p=0.065, logit=20.000)', '\" Danish\"[44780] (p=0.035, logit=19.375)', '\" Norwegian\"[45721] (p=0.027, logit=19.125)', '\" English\"[6498] (p=0.010, logit=18.125)', '\" Scandinavian\"[85674] (p=0.010, logit=18.125)', '\" Russian\"[8690] (p=0.007, logit=17.750)', '\" French\"[8753] (p=0.005, logit=17.500)', '\" Dutch\"[24113] (p=0.005, logit=17.500)', '\" Spanish\"[15506] (p=0.004, logit=17.125)', '\" Icelandic\"[100248] (p=0.003, logit=17.000)', '\" Finnish\"[58953] (p=0.003, logit=17.000)', '\" Both\"[11995] (p=0.003, logit=16.875)', '\" Polish\"[33084] (p=0.003, logit=16.750)', '\" Sw\"[4593] (p=0.003, logit=16.750)']\n"
     ]
    },
    {
     "name": "stderr",
     "output_type": "stream",
     "text": [
      "The following generation flags are not valid and may be ignored: ['temperature', 'top_p']. Set `TRANSFORMERS_VERBOSITY=info` for more details.\n"
     ]
    },
    {
     "name": "stdout",
     "output_type": "stream",
     "text": [
      "2025-06-25 11:44:28 __main__ DEBUG    ('Astrid Lindgren', 'Erik Andersson') => Sweden | ['\" Swedish\"[31209] (p=0.887, logit=22.875)', '\" German\"[6063] (p=0.030, logit=19.500)', '\" Danish\"[44780] (p=0.027, logit=19.375)', '\" Norwegian\"[45721] (p=0.018, logit=19.000)', '\" Scandinavian\"[85674] (p=0.008, logit=18.125)', '\" Sw\"[4593] (p=0.003, logit=17.250)', '\" French\"[8753] (p=0.002, logit=17.000)', '\" English\"[6498] (p=0.002, logit=17.000)', '\" Spanish\"[15506] (p=0.002, logit=16.500)', '\" Russian\"[8690] (p=0.002, logit=16.500)', '\" Dutch\"[24113] (p=0.002, logit=16.500)', '\" Both\"[11995] (p=0.001, logit=16.375)', '\" Finnish\"[58953] (p=0.001, logit=16.375)', '\" Icelandic\"[100248] (p=0.001, logit=16.125)', '\" \"[220] (p=0.001, logit=15.938)']\n"
     ]
    },
    {
     "name": "stderr",
     "output_type": "stream",
     "text": [
      "The following generation flags are not valid and may be ignored: ['temperature', 'top_p']. Set `TRANSFORMERS_VERBOSITY=info` for more details.\n"
     ]
    },
    {
     "name": "stdout",
     "output_type": "stream",
     "text": [
      "2025-06-25 11:44:29 __main__ DEBUG    ('Rahman Ali', 'Nasreen Begum') => Bangladesh | ['\" Bang\"[17343] (p=0.238, logit=19.125)', '\" Indian\"[7904] (p=0.186, logit=18.875)', '\" Pakistani\"[45552] (p=0.128, logit=18.500)', '\" Beng\"[26316] (p=0.113, logit=18.375)', '\" Turkish\"[24666] (p=0.037, logit=17.250)', '\" Persian\"[50961] (p=0.032, logit=17.125)', '\" Urdu\"[94435] (p=0.028, logit=17.000)', '\" German\"[6063] (p=0.022, logit=16.750)', '\" Iranian\"[28501] (p=0.013, logit=16.250)', '\" English\"[6498] (p=0.012, logit=16.125)', '\" Malaysian\"[66531] (p=0.010, logit=16.000)', '\" Afghan\"[17214] (p=0.009, logit=15.875)', '\" Malay\"[80240] (p=0.009, logit=15.875)', '\" Arabic\"[35217] (p=0.008, logit=15.750)', '\" Bangladesh\"[39601] (p=0.007, logit=15.562)']\n"
     ]
    },
    {
     "name": "stderr",
     "output_type": "stream",
     "text": [
      "The following generation flags are not valid and may be ignored: ['temperature', 'top_p']. Set `TRANSFORMERS_VERBOSITY=info` for more details.\n"
     ]
    },
    {
     "name": "stdout",
     "output_type": "stream",
     "text": [
      "2025-06-25 11:44:29 __main__ DEBUG    ('Nasreen Begum', 'Rahman Ali') => Bangladesh | ['\" Indian\"[7904] (p=0.311, logit=19.375)', '\" Pakistani\"[45552] (p=0.114, logit=18.375)', '\" Bang\"[17343] (p=0.101, logit=18.250)', '\" Turkish\"[24666] (p=0.061, logit=17.750)', '\" German\"[6063] (p=0.048, logit=17.500)', '\" Beng\"[26316] (p=0.048, logit=17.500)', '\" Persian\"[50961] (p=0.037, logit=17.250)', '\" Urdu\"[94435] (p=0.026, logit=16.875)', '\" Iranian\"[28501] (p=0.018, logit=16.500)', '\" English\"[6498] (p=0.018, logit=16.500)', '\" Afghan\"[17214] (p=0.012, logit=16.125)', '\" Arabic\"[35217] (p=0.010, logit=15.938)', '\" Indonesian\"[59929] (p=0.010, logit=15.938)', '\" French\"[8753] (p=0.008, logit=15.688)', '\" Malay\"[80240] (p=0.007, logit=15.625)']\n"
     ]
    },
    {
     "name": "stderr",
     "output_type": "stream",
     "text": [
      "The following generation flags are not valid and may be ignored: ['temperature', 'top_p']. Set `TRANSFORMERS_VERBOSITY=info` for more details.\n"
     ]
    },
    {
     "name": "stdout",
     "output_type": "stream",
     "text": [
      "2025-06-25 11:44:29 __main__ DEBUG    ('Jose Cruz', 'Maria dela Rosa') => Philippines | ['\" Spanish\"[15506] (p=0.586, logit=21.125)', '\" Filipino\"[63517] (p=0.245, logit=20.250)', '\" Mexican\"[24160] (p=0.062, logit=18.875)', '\" Italian\"[15155] (p=0.008, logit=16.875)', '\" Cuban\"[44810] (p=0.007, logit=16.625)', '\" German\"[6063] (p=0.007, logit=16.625)', '\" Latin\"[20023] (p=0.004, logit=16.250)', '\" Hispanic\"[41985] (p=0.004, logit=16.125)', '\" Korean\"[16526] (p=0.004, logit=16.125)', '\" Colombian\"[84653] (p=0.004, logit=16.125)', '\" Chinese\"[8620] (p=0.004, logit=16.125)', '\" Puerto\"[31319] (p=0.003, logit=16.000)', '\" Tag\"[12633] (p=0.003, logit=15.750)', '\" Filip\"[42378] (p=0.003, logit=15.688)', '\" Both\"[11995] (p=0.002, logit=15.625)']\n"
     ]
    },
    {
     "name": "stderr",
     "output_type": "stream",
     "text": [
      "The following generation flags are not valid and may be ignored: ['temperature', 'top_p']. Set `TRANSFORMERS_VERBOSITY=info` for more details.\n"
     ]
    },
    {
     "name": "stdout",
     "output_type": "stream",
     "text": [
      "2025-06-25 11:44:29 __main__ DEBUG    ('Maria dela Rosa', 'Jose Cruz') => Philippines | ['\" Spanish\"[15506] (p=0.617, logit=21.000)', '\" Filipino\"[63517] (p=0.228, logit=20.000)', '\" Mexican\"[24160] (p=0.045, logit=18.375)', '\" German\"[6063] (p=0.013, logit=17.125)', '\" Italian\"[15155] (p=0.006, logit=16.375)', '\" Hispanic\"[41985] (p=0.005, logit=16.125)', '\" Korean\"[16526] (p=0.005, logit=16.125)', '\" Cuban\"[44810] (p=0.005, logit=16.125)', '\" Chinese\"[8620] (p=0.004, logit=16.000)', '\" Colombian\"[84653] (p=0.004, logit=16.000)', '\" Latin\"[20023] (p=0.003, logit=15.750)', '\" Russian\"[8690] (p=0.003, logit=15.688)', '\" Indian\"[7904] (p=0.003, logit=15.625)', '\" Puerto\"[31319] (p=0.003, logit=15.562)', '\" Philippine\"[57281] (p=0.003, logit=15.500)']\n"
     ]
    },
    {
     "name": "stderr",
     "output_type": "stream",
     "text": [
      "The following generation flags are not valid and may be ignored: ['temperature', 'top_p']. Set `TRANSFORMERS_VERBOSITY=info` for more details.\n"
     ]
    },
    {
     "name": "stdout",
     "output_type": "stream",
     "text": [
      "2025-06-25 11:44:29 __main__ DEBUG    ('Alexandru Popescu', 'Elena Ionescu') => Romania | ['\" Romanian\"[74697] (p=0.910, logit=23.000)', '\" Russian\"[8690] (p=0.021, logit=19.250)', '\" Hungarian\"[57869] (p=0.010, logit=18.500)', '\" French\"[8753] (p=0.009, logit=18.375)', '\" Italian\"[15155] (p=0.007, logit=18.125)', '\" German\"[6063] (p=0.007, logit=18.125)', '\" Roman\"[13041] (p=0.006, logit=18.000)', '\" Bulgarian\"[89724] (p=0.005, logit=17.750)', '\" Mold\"[55263] (p=0.003, logit=17.375)', '\" Ukrainian\"[34725] (p=0.003, logit=17.375)', '\" Spanish\"[15506] (p=0.001, logit=16.500)', '\" Greek\"[18341] (p=0.001, logit=16.375)', '\" Polish\"[33084] (p=0.001, logit=16.125)', '\" English\"[6498] (p=0.001, logit=16.125)', '\" Romania\"[47149] (p=0.001, logit=16.125)']\n"
     ]
    },
    {
     "name": "stderr",
     "output_type": "stream",
     "text": [
      "The following generation flags are not valid and may be ignored: ['temperature', 'top_p']. Set `TRANSFORMERS_VERBOSITY=info` for more details.\n"
     ]
    },
    {
     "name": "stdout",
     "output_type": "stream",
     "text": [
      "2025-06-25 11:44:29 __main__ DEBUG    ('Elena Ionescu', 'Alexandru Popescu') => Romania | ['\" Romanian\"[74697] (p=0.914, logit=23.125)', '\" Russian\"[8690] (p=0.021, logit=19.375)', '\" French\"[8753] (p=0.021, logit=19.375)', '\" Italian\"[15155] (p=0.005, logit=18.000)', '\" Hungarian\"[57869] (p=0.005, logit=17.875)', '\" Roman\"[13041] (p=0.005, logit=17.875)', '\" Bulgarian\"[89724] (p=0.004, logit=17.625)', '\" Ukrainian\"[34725] (p=0.003, logit=17.500)', '\" German\"[6063] (p=0.003, logit=17.250)', '\" Mold\"[55263] (p=0.003, logit=17.250)', '\" Romania\"[47149] (p=0.001, logit=16.625)', '\" Spanish\"[15506] (p=0.001, logit=16.625)', '\" Greek\"[18341] (p=0.001, logit=16.500)', '\" Polish\"[33084] (p=0.001, logit=16.375)', '\" English\"[6498] (p=0.001, logit=16.250)']\n"
     ]
    },
    {
     "name": "stderr",
     "output_type": "stream",
     "text": [
      "The following generation flags are not valid and may be ignored: ['temperature', 'top_p']. Set `TRANSFORMERS_VERBOSITY=info` for more details.\n"
     ]
    },
    {
     "name": "stdout",
     "output_type": "stream",
     "text": [
      "2025-06-25 11:44:30 __main__ DEBUG    ('António Costa', 'Isabel Ferreira') => Portugal | ['\" Portuguese\"[43288] (p=0.848, logit=22.375)', '\" Spanish\"[15506] (p=0.062, logit=19.750)', '\" Brazilian\"[36083] (p=0.033, logit=19.125)', '\" Italian\"[15155] (p=0.011, logit=18.000)', '\" French\"[8753] (p=0.009, logit=17.875)', '\" German\"[6063] (p=0.006, logit=17.500)', '\" European\"[7665] (p=0.005, logit=17.250)', '\" English\"[6498] (p=0.003, logit=16.750)', '\" Irish\"[18088] (p=0.002, logit=16.125)', '\" British\"[8013] (p=0.002, logit=16.125)', '\" Both\"[11995] (p=0.001, logit=15.938)', '\" Belgian\"[49162] (p=0.001, logit=15.875)', '\" Portugal\"[34411] (p=0.001, logit=15.688)', '\" [\"[510] (p=0.001, logit=15.438)', '\" Dutch\"[24113] (p=0.001, logit=15.312)']\n"
     ]
    },
    {
     "name": "stderr",
     "output_type": "stream",
     "text": [
      "The following generation flags are not valid and may be ignored: ['temperature', 'top_p']. Set `TRANSFORMERS_VERBOSITY=info` for more details.\n"
     ]
    },
    {
     "name": "stdout",
     "output_type": "stream",
     "text": [
      "2025-06-25 11:44:30 __main__ DEBUG    ('Isabel Ferreira', 'António Costa') => Portugal | ['\" Portuguese\"[43288] (p=0.824, logit=21.750)', '\" Brazilian\"[36083] (p=0.053, logit=19.000)', '\" Spanish\"[15506] (p=0.053, logit=19.000)', '\" Italian\"[15155] (p=0.013, logit=17.625)', '\" German\"[6063] (p=0.010, logit=17.375)', '\" French\"[8753] (p=0.009, logit=17.250)', '\" English\"[6498] (p=0.005, logit=16.625)', '\" European\"[7665] (p=0.003, logit=16.125)', '\" Both\"[11995] (p=0.003, logit=16.000)', '\" Irish\"[18088] (p=0.002, logit=15.812)', '\" British\"[8013] (p=0.002, logit=15.562)', '\" [\"[510] (p=0.002, logit=15.500)', '\" Portugal\"[34411] (p=0.001, logit=15.375)', '\" Belgian\"[49162] (p=0.001, logit=15.000)', '\" Dutch\"[24113] (p=0.001, logit=14.938)']\n"
     ]
    },
    {
     "name": "stderr",
     "output_type": "stream",
     "text": [
      "The following generation flags are not valid and may be ignored: ['temperature', 'top_p']. Set `TRANSFORMERS_VERBOSITY=info` for more details.\n"
     ]
    },
    {
     "name": "stdout",
     "output_type": "stream",
     "text": [
      "2025-06-25 11:44:30 __main__ DEBUG    ('Kwame Mensah', 'Akosua Boateng') => Ghana | ['\" Ghana\"[48668] (p=0.691, logit=20.375)', '\" German\"[6063] (p=0.064, logit=18.000)', '\" African\"[11904] (p=0.039, logit=17.500)', '\" English\"[6498] (p=0.021, logit=16.875)', '\" French\"[8753] (p=0.018, logit=16.750)', '\" British\"[8013] (p=0.016, logit=16.625)', '\" Dutch\"[24113] (p=0.011, logit=16.250)', '\" Nigerian\"[55433] (p=0.010, logit=16.125)', '\" Ethiopian\"[96634] (p=0.005, logit=15.438)', '\" A\"[362] (p=0.005, logit=15.375)', '\" \"[220] (p=0.003, logit=15.062)', '\" American\"[3778] (p=0.003, logit=15.000)', '\" Ash\"[14937] (p=0.003, logit=15.000)', '\" Japanese\"[11002] (p=0.003, logit=14.875)', '\" West\"[4410] (p=0.003, logit=14.875)']\n"
     ]
    },
    {
     "name": "stderr",
     "output_type": "stream",
     "text": [
      "The following generation flags are not valid and may be ignored: ['temperature', 'top_p']. Set `TRANSFORMERS_VERBOSITY=info` for more details.\n"
     ]
    },
    {
     "name": "stdout",
     "output_type": "stream",
     "text": [
      "2025-06-25 11:44:30 __main__ DEBUG    ('Akosua Boateng', 'Kwame Mensah') => Ghana | ['\" Ghana\"[48668] (p=0.445, logit=19.500)', '\" English\"[6498] (p=0.078, logit=17.750)', '\" German\"[6063] (p=0.068, logit=17.625)', '\" Hungarian\"[57869] (p=0.053, logit=17.375)', '\" African\"[11904] (p=0.037, logit=17.000)', '\" Dutch\"[24113] (p=0.032, logit=16.875)', '\" French\"[8753] (p=0.029, logit=16.750)', '\" Nigerian\"[55433] (p=0.020, logit=16.375)', '\" British\"[8013] (p=0.015, logit=16.125)', '\" Japanese\"[11002] (p=0.011, logit=15.812)', '\" Italian\"[15155] (p=0.009, logit=15.562)', '\" American\"[3778] (p=0.007, logit=15.312)', '\" Swedish\"[31209] (p=0.007, logit=15.312)', '\" Spanish\"[15506] (p=0.006, logit=15.250)', '\" [\"[510] (p=0.006, logit=15.188)']\n"
     ]
    },
    {
     "name": "stderr",
     "output_type": "stream",
     "text": [
      "The following generation flags are not valid and may be ignored: ['temperature', 'top_p']. Set `TRANSFORMERS_VERBOSITY=info` for more details.\n"
     ]
    },
    {
     "name": "stdout",
     "output_type": "stream",
     "text": [
      "2025-06-25 11:44:30 __main__ DEBUG    ('Ole Hansen', 'Ingrid Olsen') => Norway | ['\" Norwegian\"[45721] (p=0.484, logit=21.750)', '\" Danish\"[44780] (p=0.377, logit=21.500)', '\" German\"[6063] (p=0.045, logit=19.375)', '\" Swedish\"[31209] (p=0.019, logit=18.500)', '\" Scandinavian\"[85674] (p=0.017, logit=18.375)', '\" Icelandic\"[100248] (p=0.011, logit=18.000)', '\" English\"[6498] (p=0.004, logit=17.000)', '\" Dutch\"[24113] (p=0.003, logit=16.750)', '\" French\"[8753] (p=0.003, logit=16.625)', '\" Russian\"[8690] (p=0.002, logit=16.375)', '\" Dane\"[80972] (p=0.002, logit=16.250)', '\" Nordic\"[64466] (p=0.002, logit=16.250)', '\" Both\"[11995] (p=0.002, logit=16.125)', '\" Spanish\"[15506] (p=0.001, logit=15.812)', '\" Polish\"[33084] (p=0.001, logit=15.750)']\n"
     ]
    },
    {
     "name": "stderr",
     "output_type": "stream",
     "text": [
      "The following generation flags are not valid and may be ignored: ['temperature', 'top_p']. Set `TRANSFORMERS_VERBOSITY=info` for more details.\n"
     ]
    },
    {
     "name": "stdout",
     "output_type": "stream",
     "text": [
      "2025-06-25 11:44:30 __main__ DEBUG    ('Ingrid Olsen', 'Ole Hansen') => Norway | ['\" Danish\"[44780] (p=0.402, logit=20.750)', '\" Norwegian\"[45721] (p=0.402, logit=20.750)', '\" German\"[6063] (p=0.054, logit=18.750)', '\" Swedish\"[31209] (p=0.026, logit=18.000)', '\" Icelandic\"[100248] (p=0.023, logit=17.875)', '\" Scandinavian\"[85674] (p=0.023, logit=17.875)', '\" English\"[6498] (p=0.006, logit=16.500)', '\" French\"[8753] (p=0.005, logit=16.375)', '\" Dutch\"[24113] (p=0.003, logit=15.938)', '\" Nordic\"[64466] (p=0.003, logit=15.875)', '\" Spanish\"[15506] (p=0.003, logit=15.812)', '\" Both\"[11995] (p=0.003, logit=15.812)', '\" Dane\"[80972] (p=0.003, logit=15.812)', '\" Russian\"[8690] (p=0.003, logit=15.688)', '\" Austrian\"[58069] (p=0.002, logit=15.562)']\n"
     ]
    },
    {
     "name": "stderr",
     "output_type": "stream",
     "text": [
      "The following generation flags are not valid and may be ignored: ['temperature', 'top_p']. Set `TRANSFORMERS_VERBOSITY=info` for more details.\n"
     ]
    },
    {
     "name": "stdout",
     "output_type": "stream",
     "text": [
      "2025-06-25 11:44:31 __main__ DEBUG    ('Michael Johnson', 'Jennifer Davis') => United States | ['\" American\"[3778] (p=0.396, logit=21.125)', '\" English\"[6498] (p=0.165, logit=20.250)', '\" German\"[6063] (p=0.078, logit=19.500)', '\" Italian\"[15155] (p=0.042, logit=18.875)', '\" British\"[8013] (p=0.037, logit=18.750)', '\" French\"[8753] (p=0.037, logit=18.750)', '\" African\"[11904] (p=0.025, logit=18.375)', '\" Korean\"[16526] (p=0.022, logit=18.250)', '\" Chinese\"[8620] (p=0.014, logit=17.750)', '\" Japanese\"[11002] (p=0.014, logit=17.750)', '\" Irish\"[18088] (p=0.012, logit=17.625)', '\" Russian\"[8690] (p=0.011, logit=17.500)', '\" Mexican\"[24160] (p=0.009, logit=17.375)', '\" Dutch\"[24113] (p=0.009, logit=17.375)', '\" Indian\"[7904] (p=0.007, logit=17.125)']\n"
     ]
    },
    {
     "name": "stderr",
     "output_type": "stream",
     "text": [
      "The following generation flags are not valid and may be ignored: ['temperature', 'top_p']. Set `TRANSFORMERS_VERBOSITY=info` for more details.\n"
     ]
    },
    {
     "name": "stdout",
     "output_type": "stream",
     "text": [
      "2025-06-25 11:44:31 __main__ DEBUG    ('Jennifer Davis', 'Michael Johnson') => United States | ['\" American\"[3778] (p=0.350, logit=20.875)', '\" English\"[6498] (p=0.188, logit=20.250)', '\" German\"[6063] (p=0.069, logit=19.250)', '\" Italian\"[15155] (p=0.047, logit=18.875)', '\" French\"[8753] (p=0.047, logit=18.875)', '\" British\"[8013] (p=0.037, logit=18.625)', '\" Korean\"[16526] (p=0.032, logit=18.500)', '\" African\"[11904] (p=0.022, logit=18.125)', '\" Japanese\"[11002] (p=0.017, logit=17.875)', '\" Russian\"[8690] (p=0.014, logit=17.625)', '\" Dutch\"[24113] (p=0.012, logit=17.500)', '\" Spanish\"[15506] (p=0.012, logit=17.500)', '\" Irish\"[18088] (p=0.011, logit=17.375)', '\" Chinese\"[8620] (p=0.011, logit=17.375)', '\" Mexican\"[24160] (p=0.008, logit=17.125)']\n"
     ]
    },
    {
     "name": "stderr",
     "output_type": "stream",
     "text": [
      "The following generation flags are not valid and may be ignored: ['temperature', 'top_p']. Set `TRANSFORMERS_VERBOSITY=info` for more details.\n"
     ]
    },
    {
     "name": "stdout",
     "output_type": "stream",
     "text": [
      "2025-06-25 11:44:31 __main__ DEBUG    ('James Mitchell', 'Sophie Evans') => United Kingdom | ['\" English\"[6498] (p=0.338, logit=21.000)', '\" French\"[8753] (p=0.141, logit=20.125)', '\" British\"[8013] (p=0.141, logit=20.125)', '\" German\"[6063] (p=0.066, logit=19.375)', '\" American\"[3778] (p=0.052, logit=19.125)', '\" Irish\"[18088] (p=0.036, logit=18.750)', '\" Italian\"[15155] (p=0.031, logit=18.625)', '\" Scottish\"[27188] (p=0.028, logit=18.500)', '\" Russian\"[8690] (p=0.024, logit=18.375)', '\" Australian\"[13673] (p=0.015, logit=17.875)', '\" Spanish\"[15506] (p=0.010, logit=17.500)', '\" Dutch\"[24113] (p=0.010, logit=17.500)', '\" Welsh\"[46881] (p=0.008, logit=17.250)', '\" Polish\"[33084] (p=0.008, logit=17.250)', '\" Japanese\"[11002] (p=0.006, logit=17.000)']\n"
     ]
    },
    {
     "name": "stderr",
     "output_type": "stream",
     "text": [
      "The following generation flags are not valid and may be ignored: ['temperature', 'top_p']. Set `TRANSFORMERS_VERBOSITY=info` for more details.\n"
     ]
    },
    {
     "name": "stdout",
     "output_type": "stream",
     "text": [
      "2025-06-25 11:44:31 __main__ DEBUG    ('Sophie Evans', 'James Mitchell') => United Kingdom | ['\" English\"[6498] (p=0.340, logit=21.125)', '\" French\"[8753] (p=0.206, logit=20.625)', '\" British\"[8013] (p=0.142, logit=20.250)', '\" German\"[6063] (p=0.059, logit=19.375)', '\" Scottish\"[27188] (p=0.041, logit=19.000)', '\" Irish\"[18088] (p=0.036, logit=18.875)', '\" Welsh\"[46881] (p=0.031, logit=18.750)', '\" American\"[3778] (p=0.022, logit=18.375)', '\" Italian\"[15155] (p=0.017, logit=18.125)', '\" Polish\"[33084] (p=0.013, logit=17.875)', '\" Belgian\"[49162] (p=0.012, logit=17.750)', '\" Spanish\"[15506] (p=0.007, logit=17.250)', '\" Dutch\"[24113] (p=0.007, logit=17.250)', '\" Russian\"[8690] (p=0.005, logit=17.000)', '\" Australian\"[13673] (p=0.005, logit=16.875)']\n"
     ]
    },
    {
     "name": "stderr",
     "output_type": "stream",
     "text": [
      "The following generation flags are not valid and may be ignored: ['temperature', 'top_p']. Set `TRANSFORMERS_VERBOSITY=info` for more details.\n"
     ]
    },
    {
     "name": "stdout",
     "output_type": "stream",
     "text": [
      "2025-06-25 11:44:31 __main__ DEBUG    ('Pablo Garcia', 'Laura Fernandez') => Spain | ['\" Spanish\"[15506] (p=0.891, logit=22.375)', '\" Mexican\"[24160] (p=0.044, logit=19.375)', '\" English\"[6498] (p=0.007, logit=17.500)', '\" Italian\"[15155] (p=0.007, logit=17.500)', '\" Colombian\"[84653] (p=0.006, logit=17.375)', '\" Argentine\"[82822] (p=0.005, logit=17.250)', '\" Cuban\"[44810] (p=0.004, logit=17.000)', '\" German\"[6063] (p=0.004, logit=17.000)', '\" Hispanic\"[41985] (p=0.004, logit=16.875)', '\" Latin\"[20023] (p=0.003, logit=16.625)', '\" French\"[8753] (p=0.002, logit=16.375)', '\" American\"[3778] (p=0.002, logit=16.000)', '\" Both\"[11995] (p=0.002, logit=16.000)', '\" Latino\"[44862] (p=0.001, logit=15.875)', '\" Puerto\"[31319] (p=0.001, logit=15.500)']\n"
     ]
    },
    {
     "name": "stderr",
     "output_type": "stream",
     "text": [
      "The following generation flags are not valid and may be ignored: ['temperature', 'top_p']. Set `TRANSFORMERS_VERBOSITY=info` for more details.\n"
     ]
    },
    {
     "name": "stdout",
     "output_type": "stream",
     "text": [
      "2025-06-25 11:44:31 __main__ DEBUG    ('Laura Fernandez', 'Pablo Garcia') => Spain | ['\" Spanish\"[15506] (p=0.836, logit=22.125)', '\" Mexican\"[24160] (p=0.053, logit=19.375)', '\" Italian\"[15155] (p=0.020, logit=18.375)', '\" English\"[6498] (p=0.011, logit=17.750)', '\" German\"[6063] (p=0.008, logit=17.500)', '\" Hispanic\"[41985] (p=0.007, logit=17.375)', '\" Colombian\"[84653] (p=0.006, logit=17.250)', '\" Argentine\"[82822] (p=0.006, logit=17.250)', '\" French\"[8753] (p=0.005, logit=17.000)', '\" Latin\"[20023] (p=0.004, logit=16.875)', '\" Cuban\"[44810] (p=0.004, logit=16.875)', '\" American\"[3778] (p=0.004, logit=16.875)', '\" Both\"[11995] (p=0.002, logit=16.000)', '\" Korean\"[16526] (p=0.002, logit=15.875)', '\" Latino\"[44862] (p=0.001, logit=15.750)']\n"
     ]
    },
    {
     "name": "stderr",
     "output_type": "stream",
     "text": [
      "The following generation flags are not valid and may be ignored: ['temperature', 'top_p']. Set `TRANSFORMERS_VERBOSITY=info` for more details.\n"
     ]
    },
    {
     "name": "stdout",
     "output_type": "stream",
     "text": [
      "2025-06-25 11:44:32 __main__ DEBUG    ('Ivan Petrov', 'Natasha Ivanova') => Russia | ['\" Russian\"[8690] (p=0.914, logit=21.500)', '\" Ukrainian\"[34725] (p=0.015, logit=17.375)', '\" German\"[6063] (p=0.009, logit=16.875)', '\" Bulgarian\"[89724] (p=0.006, logit=16.500)', '\" Italian\"[15155] (p=0.005, logit=16.375)', '\" Both\"[11995] (p=0.004, logit=16.125)', '\" French\"[8753] (p=0.003, logit=15.688)', '\" Serbian\"[88264] (p=0.003, logit=15.688)', '\" Soviet\"[19953] (p=0.003, logit=15.625)', '\" U\"[549] (p=0.003, logit=15.625)', '\" Sl\"[6995] (p=0.002, logit=15.500)', '\" both\"[2225] (p=0.002, logit=15.250)', '\" Eastern\"[18516] (p=0.002, logit=15.125)', '\" English\"[6498] (p=0.001, logit=14.938)', '\" [\"[510] (p=0.001, logit=14.938)']\n"
     ]
    },
    {
     "name": "stderr",
     "output_type": "stream",
     "text": [
      "The following generation flags are not valid and may be ignored: ['temperature', 'top_p']. Set `TRANSFORMERS_VERBOSITY=info` for more details.\n"
     ]
    },
    {
     "name": "stdout",
     "output_type": "stream",
     "text": [
      "2025-06-25 11:44:32 __main__ DEBUG    ('Natasha Ivanova', 'Ivan Petrov') => Russia | ['\" Russian\"[8690] (p=0.926, logit=21.500)', '\" Ukrainian\"[34725] (p=0.015, logit=17.375)', '\" Both\"[11995] (p=0.006, logit=16.500)', '\" German\"[6063] (p=0.005, logit=16.375)', '\" French\"[8753] (p=0.005, logit=16.250)', '\" Italian\"[15155] (p=0.004, logit=16.125)', '\" Bulgarian\"[89724] (p=0.003, logit=15.875)', '\" both\"[2225] (p=0.003, logit=15.688)', '\" Soviet\"[19953] (p=0.002, logit=15.375)', '\" U\"[549] (p=0.002, logit=15.250)', '\" Eastern\"[18516] (p=0.002, logit=15.188)', '\" [\"[510] (p=0.001, logit=15.062)', '\" English\"[6498] (p=0.001, logit=14.812)', '\" American\"[3778] (p=0.001, logit=14.812)', '\" Sl\"[6995] (p=0.001, logit=14.812)']\n"
     ]
    },
    {
     "name": "stderr",
     "output_type": "stream",
     "text": [
      "The following generation flags are not valid and may be ignored: ['temperature', 'top_p']. Set `TRANSFORMERS_VERBOSITY=info` for more details.\n"
     ]
    },
    {
     "name": "stdout",
     "output_type": "stream",
     "text": [
      "2025-06-25 11:44:32 __main__ DEBUG    ('Rodrigo Gonzalez', 'Camila Torres') => Chile | ['\" Spanish\"[15506] (p=0.832, logit=21.500)', '\" Mexican\"[24160] (p=0.053, logit=18.750)', '\" Colombian\"[84653] (p=0.012, logit=17.250)', '\" German\"[6063] (p=0.010, logit=17.125)', '\" Argentine\"[82822] (p=0.009, logit=17.000)', '\" Brazilian\"[36083] (p=0.009, logit=17.000)', '\" Portuguese\"[43288] (p=0.007, logit=16.750)', '\" Italian\"[15155] (p=0.006, logit=16.500)', '\" English\"[6498] (p=0.005, logit=16.375)', '\" Cuban\"[44810] (p=0.004, logit=16.125)', '\" Both\"[11995] (p=0.003, logit=16.000)', '\" Hispanic\"[41985] (p=0.003, logit=16.000)', '\" Latin\"[20023] (p=0.003, logit=15.812)', '\" Chile\"[34100] (p=0.002, logit=15.688)', '\" French\"[8753] (p=0.002, logit=15.688)']\n"
     ]
    },
    {
     "name": "stderr",
     "output_type": "stream",
     "text": [
      "The following generation flags are not valid and may be ignored: ['temperature', 'top_p']. Set `TRANSFORMERS_VERBOSITY=info` for more details.\n"
     ]
    },
    {
     "name": "stdout",
     "output_type": "stream",
     "text": [
      "2025-06-25 11:44:32 __main__ DEBUG    ('Camila Torres', 'Rodrigo Gonzalez') => Chile | ['\" Spanish\"[15506] (p=0.809, logit=21.625)', '\" Mexican\"[24160] (p=0.075, logit=19.250)', '\" Colombian\"[84653] (p=0.013, logit=17.500)', '\" Brazilian\"[36083] (p=0.010, logit=17.250)', '\" Italian\"[15155] (p=0.008, logit=17.000)', '\" German\"[6063] (p=0.007, logit=16.875)', '\" Argentine\"[82822] (p=0.007, logit=16.875)', '\" Cuban\"[44810] (p=0.006, logit=16.750)', '\" English\"[6498] (p=0.005, logit=16.625)', '\" Hispanic\"[41985] (p=0.005, logit=16.625)', '\" Portuguese\"[43288] (p=0.005, logit=16.500)', '\" French\"[8753] (p=0.004, logit=16.250)', '\" Latin\"[20023] (p=0.004, logit=16.250)', '\" Both\"[11995] (p=0.003, logit=16.125)', '\" American\"[3778] (p=0.003, logit=15.875)']\n"
     ]
    },
    {
     "name": "stderr",
     "output_type": "stream",
     "text": [
      "The following generation flags are not valid and may be ignored: ['temperature', 'top_p']. Set `TRANSFORMERS_VERBOSITY=info` for more details.\n"
     ]
    },
    {
     "name": "stdout",
     "output_type": "stream",
     "text": [
      "2025-06-25 11:44:32 __main__ DEBUG    ('Ali Rezaei', 'Zahra Hosseini') => Iran | ['\" Persian\"[50961] (p=0.641, logit=21.625)', '\" Iranian\"[28501] (p=0.268, logit=20.750)', '\" German\"[6063] (p=0.022, logit=18.250)', '\" French\"[8753] (p=0.008, logit=17.250)', '\" F\"[435] (p=0.007, logit=17.125)', '\" Italian\"[15155] (p=0.006, logit=17.000)', '\" Turkish\"[24666] (p=0.004, logit=16.500)', '\" English\"[6498] (p=0.003, logit=16.375)', '\" Afghan\"[17214] (p=0.003, logit=16.125)', '\" Pers\"[21097] (p=0.003, logit=16.125)', '\" Kurdish\"[42740] (p=0.002, logit=15.875)', '\" Indian\"[7904] (p=0.002, logit=15.875)', '\" Iran\"[10471] (p=0.002, logit=15.750)', '\" Russian\"[8690] (p=0.001, logit=15.500)', '\" \"[220] (p=0.001, logit=15.250)']\n"
     ]
    },
    {
     "name": "stderr",
     "output_type": "stream",
     "text": [
      "The following generation flags are not valid and may be ignored: ['temperature', 'top_p']. Set `TRANSFORMERS_VERBOSITY=info` for more details.\n"
     ]
    },
    {
     "name": "stdout",
     "output_type": "stream",
     "text": [
      "2025-06-25 11:44:33 __main__ DEBUG    ('Zahra Hosseini', 'Ali Rezaei') => Iran | ['\" Persian\"[50961] (p=0.479, logit=21.125)', '\" Iranian\"[28501] (p=0.373, logit=20.875)', '\" French\"[8753] (p=0.021, logit=18.000)', '\" German\"[6063] (p=0.021, logit=18.000)', '\" Italian\"[15155] (p=0.016, logit=17.750)', '\" Turkish\"[24666] (p=0.014, logit=17.625)', '\" Indian\"[7904] (p=0.008, logit=17.000)', '\" Kurdish\"[42740] (p=0.004, logit=16.375)', '\" Russian\"[8690] (p=0.004, logit=16.375)', '\" English\"[6498] (p=0.004, logit=16.375)', '\" Afghan\"[17214] (p=0.004, logit=16.375)', '\" Arabic\"[35217] (p=0.003, logit=16.000)', '\" Pakistani\"[45552] (p=0.003, logit=15.875)', '\" Pers\"[21097] (p=0.002, logit=15.688)', '\" F\"[435] (p=0.002, logit=15.688)']\n"
     ]
    },
    {
     "name": "stderr",
     "output_type": "stream",
     "text": [
      "The following generation flags are not valid and may be ignored: ['temperature', 'top_p']. Set `TRANSFORMERS_VERBOSITY=info` for more details.\n"
     ]
    },
    {
     "name": "stdout",
     "output_type": "stream",
     "text": [
      "2025-06-25 11:44:33 __main__ DEBUG    ('David Cohen', 'Rachel Levy') => Israel | ['\" German\"[6063] (p=0.188, logit=19.250)', '\" Israeli\"[16286] (p=0.165, logit=19.125)', '\" French\"[8753] (p=0.129, logit=18.875)', '\" Russian\"[8690] (p=0.088, logit=18.500)', '\" English\"[6498] (p=0.078, logit=18.375)', '\" American\"[3778] (p=0.054, logit=18.000)', '\" Polish\"[33084] (p=0.037, logit=17.625)', '\" Jewish\"[13653] (p=0.032, logit=17.500)', '\" Italian\"[15155] (p=0.029, logit=17.375)', '\" Hebrew\"[37366] (p=0.029, logit=17.375)', '\" British\"[8013] (p=0.014, logit=16.625)', '\" Austrian\"[58069] (p=0.011, logit=16.375)', '\" Dutch\"[24113] (p=0.011, logit=16.375)', '\" Spanish\"[15506] (p=0.008, logit=16.125)', '\" Ukrainian\"[34725] (p=0.007, logit=16.000)']\n"
     ]
    },
    {
     "name": "stderr",
     "output_type": "stream",
     "text": [
      "The following generation flags are not valid and may be ignored: ['temperature', 'top_p']. Set `TRANSFORMERS_VERBOSITY=info` for more details.\n"
     ]
    },
    {
     "name": "stdout",
     "output_type": "stream",
     "text": [
      "2025-06-25 11:44:33 __main__ DEBUG    ('Rachel Levy', 'David Cohen') => Israel | ['\" Israeli\"[16286] (p=0.186, logit=19.250)', '\" French\"[8753] (p=0.128, logit=18.875)', '\" Russian\"[8690] (p=0.113, logit=18.750)', '\" German\"[6063] (p=0.088, logit=18.500)', '\" American\"[3778] (p=0.088, logit=18.500)', '\" English\"[6498] (p=0.078, logit=18.375)', '\" Italian\"[15155] (p=0.060, logit=18.125)', '\" Jewish\"[13653] (p=0.037, logit=17.625)', '\" Hebrew\"[37366] (p=0.028, logit=17.375)', '\" Polish\"[33084] (p=0.028, logit=17.375)', '\" British\"[8013] (p=0.013, logit=16.625)', '\" Spanish\"[15506] (p=0.009, logit=16.250)', '\" Dutch\"[24113] (p=0.009, logit=16.250)', '\" Ukrainian\"[34725] (p=0.007, logit=16.000)', '\" Both\"[11995] (p=0.006, logit=15.875)']\n",
      "2025-06-25 11:44:33 __main__ DEBUG    --------------------------------------------------\n",
      "2025-06-25 11:44:33 __main__ INFO     nationality => recall@k = [0.7222222222222222, 0.8611111111111112, 0.9027777777777778, 0.9166666666666666, 0.9305555555555556]\n",
      "2025-06-25 11:44:33 __main__ DEBUG    --------------------------------------------------\n"
     ]
    }
   ],
   "source": [
    "from src.utils.metrics import recall\n",
    "from src.utils.experiment_utils import set_seed\n",
    "from src.evaluation import get_connection_on_entity_pair\n",
    "\n",
    "\n",
    "limit = 1000\n",
    "\n",
    "results = {}\n",
    "\n",
    "for attr in attr_to_names.keys():\n",
    "    logger.info(\"-\"* 10 + f\" {attr} \" + \"-\" * 10)\n",
    "    targets = []\n",
    "    predictions = []\n",
    "    counter = 0\n",
    "    attr_results = []\n",
    "    for target, entities in attr_to_names[attr].items():\n",
    "\n",
    "        for query_entities in [(entities[0], entities[1]), (entities[1], entities[0])]:\n",
    "        \n",
    "            set_seed(142) #* for reproducibility\n",
    "\n",
    "            connection, next_tok_probs = get_connection_on_entity_pair(\n",
    "                mt=mt,\n",
    "                entities=query_entities,\n",
    "                prefix_generator=prefix_generator,\n",
    "                \n",
    "                n_valid=10,\n",
    "                n_none=1,\n",
    "                enable_reasoning=False,\n",
    "                return_next_token_probs=True,\n",
    "\n",
    "                # answer_prefix=\" Yes - they are both\"\n",
    "                answer_prefix = \" Yes -\"\n",
    "                # answer_prefix = \" No -\"\n",
    "            )\n",
    "            next_tok_print = [str(pred) for pred in next_tok_probs[0]]\n",
    "            logger.debug(f\"{query_entities} => {target} | {next_tok_print}\")\n",
    "\n",
    "            attr_results.append({\n",
    "                \"query_entities\": query_entities,\n",
    "                \"target\": target,\n",
    "                \"connection\": connection,\n",
    "                \"next_tok_probs\": next_tok_probs[0],\n",
    "            })\n",
    "        \n",
    "            targets.append(target)\n",
    "            predictions.append([pred.token for pred in next_tok_probs[0]])\n",
    "\n",
    "            counter += 1\n",
    "            if counter >= limit:\n",
    "                break\n",
    "    \n",
    "    score = recall(predictions = predictions, targets = targets)\n",
    "    logger.debug('-' * 50)\n",
    "    logger.info(f\"{attr} => recall@k = {score[:5]}\")\n",
    "    logger.debug('-' * 50)\n",
    "\n",
    "    results[attr] = {\n",
    "        \"attribute\": attr,\n",
    "        \"score\": score,\n",
    "        \"results\": attr_results,\n",
    "    }"
   ]
  },
  {
   "cell_type": "code",
   "execution_count": 34,
   "metadata": {},
   "outputs": [
    {
     "name": "stdout",
     "output_type": "stream",
     "text": [
      "nationality => [0.7222222222222222, 0.8611111111111112, 0.9027777777777778, 0.9166666666666666, 0.9305555555555556]\n"
     ]
    }
   ],
   "source": [
    "for attr in results:\n",
    "    print(f\"{attr} => {results[attr]['score'][:5]}\")"
   ]
  },
  {
   "cell_type": "code",
   "execution_count": 36,
   "metadata": {},
   "outputs": [
    {
     "name": "stdout",
     "output_type": "stream",
     "text": [
      "Accuracy: 0.7222222222222222\n"
     ]
    },
    {
     "data": {
      "text/plain": [
       "[{'query_entities': ('Fatima Sheikh', 'Mohammad Aziz'),\n",
       "  'target': 'Pakistan',\n",
       "  'connection': 'Pakistani',\n",
       "  'next_tok_probs': [PredictedToken(token=' Pakistani', prob=0.2001953125, logit=18.5, token_id=45552, metadata=None),\n",
       "   PredictedToken(token=' Indian', prob=0.1552734375, logit=18.25, token_id=7904, metadata=None),\n",
       "   PredictedToken(token=' Turkish', prob=0.06494140625, logit=17.375, token_id=24666, metadata=None),\n",
       "   PredictedToken(token=' Persian', prob=0.050537109375, logit=17.125, token_id=50961, metadata=None),\n",
       "   PredictedToken(token=' French', prob=0.03466796875, logit=16.75, token_id=8753, metadata=None),\n",
       "   PredictedToken(token=' Arabic', prob=0.03466796875, logit=16.75, token_id=35217, metadata=None),\n",
       "   PredictedToken(token=' Iranian', prob=0.03466796875, logit=16.75, token_id=28501, metadata=None),\n",
       "   PredictedToken(token=' Moroccan', prob=0.0306396484375, logit=16.625, token_id=95067, metadata=None),\n",
       "   PredictedToken(token=' Afghan', prob=0.0306396484375, logit=16.625, token_id=17214, metadata=None),\n",
       "   PredictedToken(token=' German', prob=0.0306396484375, logit=16.625, token_id=6063, metadata=None),\n",
       "   PredictedToken(token=' Egyptian', prob=0.0269775390625, logit=16.5, token_id=33589, metadata=None),\n",
       "   PredictedToken(token=' English', prob=0.0238037109375, logit=16.375, token_id=6498, metadata=None),\n",
       "   PredictedToken(token=' Bang', prob=0.0238037109375, logit=16.375, token_id=17343, metadata=None),\n",
       "   PredictedToken(token=' Urdu', prob=0.0185546875, logit=16.125, token_id=94435, metadata=None),\n",
       "   PredictedToken(token=' Saudi', prob=0.01361083984375, logit=15.8125, token_id=18387, metadata=None)]},\n",
       " {'query_entities': ('Takeshi Yamamoto', 'Yuki Tanaka'),\n",
       "  'target': 'Japan',\n",
       "  'connection': 'Japanese',\n",
       "  'next_tok_probs': [PredictedToken(token=' Japanese', prob=0.92578125, logit=23.25, token_id=11002, metadata=None),\n",
       "   PredictedToken(token=' Korean', prob=0.00909423828125, logit=18.625, token_id=16526, metadata=None),\n",
       "   PredictedToken(token=' French', prob=0.00909423828125, logit=18.625, token_id=8753, metadata=None),\n",
       "   PredictedToken(token=' Italian', prob=0.007080078125, logit=18.375, token_id=15155, metadata=None),\n",
       "   PredictedToken(token=' German', prob=0.007080078125, logit=18.375, token_id=6063, metadata=None),\n",
       "   PredictedToken(token=' Spanish', prob=0.0062255859375, logit=18.25, token_id=15506, metadata=None),\n",
       "   PredictedToken(token=' Chinese', prob=0.004852294921875, logit=18.0, token_id=8620, metadata=None),\n",
       "   PredictedToken(token=' English', prob=0.0037841796875, logit=17.75, token_id=6498, metadata=None),\n",
       "   PredictedToken(token=' Dutch', prob=0.0033416748046875, logit=17.625, token_id=24113, metadata=None),\n",
       "   PredictedToken(token=' Russian', prob=0.0020294189453125, logit=17.125, token_id=8690, metadata=None),\n",
       "   PredictedToken(token=' Portuguese', prob=0.0017852783203125, logit=17.0, token_id=43288, metadata=None),\n",
       "   PredictedToken(token=' Brazilian', prob=0.0017852783203125, logit=17.0, token_id=36083, metadata=None),\n",
       "   PredictedToken(token=' Both', prob=0.00122833251953125, logit=16.625, token_id=11995, metadata=None),\n",
       "   PredictedToken(token=' American', prob=0.0010833740234375, logit=16.5, token_id=3778, metadata=None),\n",
       "   PredictedToken(token=' Asian', prob=0.000957489013671875, logit=16.375, token_id=14875, metadata=None)]},\n",
       " {'query_entities': ('Yuki Tanaka', 'Takeshi Yamamoto'),\n",
       "  'target': 'Japan',\n",
       "  'connection': 'Japanese',\n",
       "  'next_tok_probs': [PredictedToken(token=' Japanese', prob=0.92578125, logit=23.25, token_id=11002, metadata=None),\n",
       "   PredictedToken(token=' Korean', prob=0.01165771484375, logit=18.875, token_id=16526, metadata=None),\n",
       "   PredictedToken(token=' Italian', prob=0.01165771484375, logit=18.875, token_id=15155, metadata=None),\n",
       "   PredictedToken(token=' Spanish', prob=0.00799560546875, logit=18.5, token_id=15506, metadata=None),\n",
       "   PredictedToken(token=' French', prob=0.0062255859375, logit=18.25, token_id=8753, metadata=None),\n",
       "   PredictedToken(token=' Chinese', prob=0.004852294921875, logit=18.0, token_id=8620, metadata=None),\n",
       "   PredictedToken(token=' Dutch', prob=0.0042724609375, logit=17.875, token_id=24113, metadata=None),\n",
       "   PredictedToken(token=' English', prob=0.003326416015625, logit=17.625, token_id=6498, metadata=None),\n",
       "   PredictedToken(token=' German', prob=0.0029449462890625, logit=17.5, token_id=6063, metadata=None),\n",
       "   PredictedToken(token=' Portuguese', prob=0.00201416015625, logit=17.125, token_id=43288, metadata=None),\n",
       "   PredictedToken(token=' Brazilian', prob=0.0015716552734375, logit=16.875, token_id=36083, metadata=None),\n",
       "   PredictedToken(token=' Russian', prob=0.0010833740234375, logit=16.5, token_id=8690, metadata=None),\n",
       "   PredictedToken(token=' Polish', prob=0.0010833740234375, logit=16.5, token_id=33084, metadata=None),\n",
       "   PredictedToken(token=' Both', prob=0.0010833740234375, logit=16.5, token_id=11995, metadata=None),\n",
       "   PredictedToken(token=' American', prob=0.00095367431640625, logit=16.375, token_id=3778, metadata=None)]},\n",
       " {'query_entities': ('Chinedu Okafor', 'Amara Adeyemi'),\n",
       "  'target': 'Nigeria',\n",
       "  'connection': 'Nigerian',\n",
       "  'next_tok_probs': [PredictedToken(token=' Nigerian', prob=0.640625, logit=20.875, token_id=55433, metadata=None),\n",
       "   PredictedToken(token=' German', prob=0.041015625, logit=18.125, token_id=6063, metadata=None),\n",
       "   PredictedToken(token=' Ghana', prob=0.041015625, logit=18.125, token_id=48668, metadata=None),\n",
       "   PredictedToken(token=' English', prob=0.041015625, logit=18.125, token_id=6498, metadata=None),\n",
       "   PredictedToken(token=' African', prob=0.031982421875, logit=17.875, token_id=11904, metadata=None),\n",
       "   PredictedToken(token=' British', prob=0.0194091796875, logit=17.375, token_id=8013, metadata=None),\n",
       "   PredictedToken(token=' Ig', prob=0.01507568359375, logit=17.125, token_id=39551, metadata=None),\n",
       "   PredictedToken(token=' Portuguese', prob=0.0133056640625, logit=17.0, token_id=43288, metadata=None),\n",
       "   PredictedToken(token=' French', prob=0.0133056640625, logit=17.0, token_id=8753, metadata=None),\n",
       "   PredictedToken(token=' Spanish', prob=0.01171875, logit=16.875, token_id=15506, metadata=None),\n",
       "   PredictedToken(token=' Brazilian', prob=0.0103759765625, logit=16.75, token_id=36083, metadata=None),\n",
       "   PredictedToken(token=' Ethiopian', prob=0.008056640625, logit=16.5, token_id=96634, metadata=None),\n",
       "   PredictedToken(token=' American', prob=0.007110595703125, logit=16.375, token_id=3778, metadata=None),\n",
       "   PredictedToken(token=' Dutch', prob=0.007110595703125, logit=16.375, token_id=24113, metadata=None),\n",
       "   PredictedToken(token=' Italian', prob=0.00628662109375, logit=16.25, token_id=15155, metadata=None)]},\n",
       " {'query_entities': ('Amara Adeyemi', 'Chinedu Okafor'),\n",
       "  'target': 'Nigeria',\n",
       "  'connection': 'Nigerian',\n",
       "  'next_tok_probs': [PredictedToken(token=' Nigerian', prob=0.62890625, logit=21.0, token_id=55433, metadata=None),\n",
       "   PredictedToken(token=' English', prob=0.045654296875, logit=18.375, token_id=6498, metadata=None),\n",
       "   PredictedToken(token=' African', prob=0.040283203125, logit=18.25, token_id=11904, metadata=None),\n",
       "   PredictedToken(token=' German', prob=0.0277099609375, logit=17.875, token_id=6063, metadata=None),\n",
       "   PredictedToken(token=' French', prob=0.0244140625, logit=17.75, token_id=8753, metadata=None),\n",
       "   PredictedToken(token=' Ghana', prob=0.0216064453125, logit=17.625, token_id=48668, metadata=None),\n",
       "   PredictedToken(token=' Spanish', prob=0.0216064453125, logit=17.625, token_id=15506, metadata=None),\n",
       "   PredictedToken(token=' British', prob=0.01904296875, logit=17.5, token_id=8013, metadata=None),\n",
       "   PredictedToken(token=' Ig', prob=0.01153564453125, logit=17.0, token_id=39551, metadata=None),\n",
       "   PredictedToken(token=' American', prob=0.01153564453125, logit=17.0, token_id=3778, metadata=None),\n",
       "   PredictedToken(token=' Indian', prob=0.01153564453125, logit=17.0, token_id=7904, metadata=None),\n",
       "   PredictedToken(token=' Italian', prob=0.01153564453125, logit=17.0, token_id=15155, metadata=None),\n",
       "   PredictedToken(token=' Dutch', prob=0.01019287109375, logit=16.875, token_id=24113, metadata=None),\n",
       "   PredictedToken(token=' Ethiopian', prob=0.0079345703125, logit=16.625, token_id=96634, metadata=None),\n",
       "   PredictedToken(token=' Brazilian', prob=0.006988525390625, logit=16.5, token_id=36083, metadata=None)]},\n",
       " {'query_entities': ('Hans Mueller', 'Anna Schmidt'),\n",
       "  'target': 'Germany',\n",
       "  'connection': 'German',\n",
       "  'next_tok_probs': [PredictedToken(token=' German', prob=0.85546875, logit=22.25, token_id=6063, metadata=None),\n",
       "   PredictedToken(token=' Austrian', prob=0.03759765625, logit=19.125, token_id=58069, metadata=None),\n",
       "   PredictedToken(token=' French', prob=0.0137939453125, logit=18.125, token_id=8753, metadata=None),\n",
       "   PredictedToken(token=' Swiss', prob=0.0107421875, logit=17.875, token_id=30791, metadata=None),\n",
       "   PredictedToken(token=' Italian', prob=0.00836181640625, logit=17.625, token_id=15155, metadata=None),\n",
       "   PredictedToken(token=' Dutch', prob=0.00836181640625, logit=17.625, token_id=24113, metadata=None),\n",
       "   PredictedToken(token=' Polish', prob=0.00653076171875, logit=17.375, token_id=33084, metadata=None),\n",
       "   PredictedToken(token=' Russian', prob=0.005767822265625, logit=17.25, token_id=8690, metadata=None),\n",
       "   PredictedToken(token=' English', prob=0.00396728515625, logit=16.875, token_id=6498, metadata=None),\n",
       "   PredictedToken(token=' Swedish', prob=0.00396728515625, logit=16.875, token_id=31209, metadata=None),\n",
       "   PredictedToken(token=' Hungarian', prob=0.00396728515625, logit=16.875, token_id=57869, metadata=None),\n",
       "   PredictedToken(token=' Both', prob=0.0034942626953125, logit=16.75, token_id=11995, metadata=None),\n",
       "   PredictedToken(token=' Belgian', prob=0.003082275390625, logit=16.625, token_id=49162, metadata=None),\n",
       "   PredictedToken(token=' Spanish', prob=0.002716064453125, logit=16.5, token_id=15506, metadata=None),\n",
       "   PredictedToken(token=' American', prob=0.002716064453125, logit=16.5, token_id=3778, metadata=None)]},\n",
       " {'query_entities': ('Anna Schmidt', 'Hans Mueller'),\n",
       "  'target': 'Germany',\n",
       "  'connection': 'German',\n",
       "  'next_tok_probs': [PredictedToken(token=' German', prob=0.8046875, logit=22.125, token_id=6063, metadata=None),\n",
       "   PredictedToken(token=' Austrian', prob=0.0400390625, logit=19.125, token_id=58069, metadata=None),\n",
       "   PredictedToken(token=' French', prob=0.021484375, logit=18.5, token_id=8753, metadata=None),\n",
       "   PredictedToken(token=' Italian', prob=0.0167236328125, logit=18.25, token_id=15155, metadata=None),\n",
       "   PredictedToken(token=' Russian', prob=0.0167236328125, logit=18.25, token_id=8690, metadata=None),\n",
       "   PredictedToken(token=' Polish', prob=0.01300048828125, logit=18.0, token_id=33084, metadata=None),\n",
       "   PredictedToken(token=' Dutch', prob=0.0101318359375, logit=17.75, token_id=24113, metadata=None),\n",
       "   PredictedToken(token=' Swiss', prob=0.00787353515625, logit=17.5, token_id=30791, metadata=None),\n",
       "   PredictedToken(token=' Swedish', prob=0.0069580078125, logit=17.375, token_id=31209, metadata=None),\n",
       "   PredictedToken(token=' Hungarian', prob=0.006134033203125, logit=17.25, token_id=57869, metadata=None),\n",
       "   PredictedToken(token=' English', prob=0.00543212890625, logit=17.125, token_id=6498, metadata=None),\n",
       "   PredictedToken(token=' Spanish', prob=0.00372314453125, logit=16.75, token_id=15506, metadata=None),\n",
       "   PredictedToken(token=' Czech', prob=0.0032958984375, logit=16.625, token_id=34250, metadata=None),\n",
       "   PredictedToken(token=' Both', prob=0.0032958984375, logit=16.625, token_id=11995, metadata=None),\n",
       "   PredictedToken(token=' Danish', prob=0.0032958984375, logit=16.625, token_id=44780, metadata=None)]},\n",
       " {'query_entities': ('Rajesh Kumar', 'Priya Patel'),\n",
       "  'target': 'India',\n",
       "  'connection': 'Indian',\n",
       "  'next_tok_probs': [PredictedToken(token=' Indian', prob=0.83203125, logit=21.875, token_id=7904, metadata=None),\n",
       "   PredictedToken(token=' Hindi', prob=0.04150390625, logit=18.875, token_id=45080, metadata=None),\n",
       "   PredictedToken(token=' English', prob=0.0118408203125, logit=17.625, token_id=6498, metadata=None),\n",
       "   PredictedToken(token=' British', prob=0.0118408203125, logit=17.625, token_id=8013, metadata=None),\n",
       "   PredictedToken(token=' Italian', prob=0.010498046875, logit=17.5, token_id=15155, metadata=None),\n",
       "   PredictedToken(token=' German', prob=0.00921630859375, logit=17.375, token_id=6063, metadata=None),\n",
       "   PredictedToken(token=' Spanish', prob=0.00494384765625, logit=16.75, token_id=15506, metadata=None),\n",
       "   PredictedToken(token=' American', prob=0.0034027099609375, logit=16.375, token_id=3778, metadata=None),\n",
       "   PredictedToken(token=' Asian', prob=0.0034027099609375, logit=16.375, token_id=14875, metadata=None),\n",
       "   PredictedToken(token=' Tamil', prob=0.0030059814453125, logit=16.25, token_id=44883, metadata=None),\n",
       "   PredictedToken(token=' Chinese', prob=0.0030059814453125, logit=16.25, token_id=8620, metadata=None),\n",
       "   PredictedToken(token=' French', prob=0.0030059814453125, logit=16.25, token_id=8753, metadata=None),\n",
       "   PredictedToken(token=' Sri', prob=0.0030059814453125, logit=16.25, token_id=34445, metadata=None),\n",
       "   PredictedToken(token=' Gujar', prob=0.002655029296875, logit=16.125, token_id=56731, metadata=None),\n",
       "   PredictedToken(token=' Nep', prob=0.002655029296875, logit=16.125, token_id=37669, metadata=None)]},\n",
       " {'query_entities': ('Priya Patel', 'Rajesh Kumar'),\n",
       "  'target': 'India',\n",
       "  'connection': 'Indian',\n",
       "  'next_tok_probs': [PredictedToken(token=' Indian', prob=0.84375, logit=22.25, token_id=7904, metadata=None),\n",
       "   PredictedToken(token=' Hindi', prob=0.0289306640625, logit=18.875, token_id=45080, metadata=None),\n",
       "   PredictedToken(token=' British', prob=0.0198974609375, logit=18.5, token_id=8013, metadata=None),\n",
       "   PredictedToken(token=' English', prob=0.017578125, logit=18.375, token_id=6498, metadata=None),\n",
       "   PredictedToken(token=' Italian', prob=0.00732421875, logit=17.5, token_id=15155, metadata=None),\n",
       "   PredictedToken(token=' American', prob=0.00732421875, logit=17.5, token_id=3778, metadata=None),\n",
       "   PredictedToken(token=' German', prob=0.005706787109375, logit=17.25, token_id=6063, metadata=None),\n",
       "   PredictedToken(token=' Spanish', prob=0.005706787109375, logit=17.25, token_id=15506, metadata=None),\n",
       "   PredictedToken(token=' French', prob=0.004425048828125, logit=17.0, token_id=8753, metadata=None),\n",
       "   PredictedToken(token=' Chinese', prob=0.0030517578125, logit=16.625, token_id=8620, metadata=None),\n",
       "   PredictedToken(token=' Asian', prob=0.002685546875, logit=16.5, token_id=14875, metadata=None),\n",
       "   PredictedToken(token=' Russian', prob=0.002685546875, logit=16.5, token_id=8690, metadata=None),\n",
       "   PredictedToken(token=' Sri', prob=0.0020904541015625, logit=16.25, token_id=34445, metadata=None),\n",
       "   PredictedToken(token=' Nep', prob=0.0018463134765625, logit=16.125, token_id=37669, metadata=None),\n",
       "   PredictedToken(token=' Pun', prob=0.0018463134765625, logit=16.125, token_id=31536, metadata=None)]},\n",
       " {'query_entities': ('Pierre Dubois', 'Marie Laurent'),\n",
       "  'target': 'France',\n",
       "  'connection': 'French',\n",
       "  'next_tok_probs': [PredictedToken(token=' French', prob=0.87890625, logit=22.25, token_id=8753, metadata=None),\n",
       "   PredictedToken(token=' German', prob=0.043701171875, logit=19.25, token_id=6063, metadata=None),\n",
       "   PredictedToken(token=' Belgian', prob=0.01611328125, logit=18.25, token_id=49162, metadata=None),\n",
       "   PredictedToken(token=' Italian', prob=0.00860595703125, logit=17.625, token_id=15155, metadata=None),\n",
       "   PredictedToken(token=' Spanish', prob=0.00592041015625, logit=17.25, token_id=15506, metadata=None),\n",
       "   PredictedToken(token=' Both', prob=0.00408935546875, logit=16.875, token_id=11995, metadata=None),\n",
       "   PredictedToken(token=' Dutch', prob=0.00360107421875, logit=16.75, token_id=24113, metadata=None),\n",
       "   PredictedToken(token=' English', prob=0.00360107421875, logit=16.75, token_id=6498, metadata=None),\n",
       "   PredictedToken(token=' Russian', prob=0.003173828125, logit=16.625, token_id=8690, metadata=None),\n",
       "   PredictedToken(token=' Swiss', prob=0.003173828125, logit=16.625, token_id=30791, metadata=None),\n",
       "   PredictedToken(token=' European', prob=0.002471923828125, logit=16.375, token_id=7665, metadata=None),\n",
       "   PredictedToken(token=' [', prob=0.00159454345703125, logit=15.9375, token_id=510, metadata=None),\n",
       "   PredictedToken(token=' Polish', prob=0.00124359130859375, logit=15.6875, token_id=33084, metadata=None),\n",
       "   PredictedToken(token=' ', prob=0.00090789794921875, logit=15.375, token_id=220, metadata=None),\n",
       "   PredictedToken(token=' American', prob=0.00066375732421875, logit=15.0625, token_id=3778, metadata=None)]},\n",
       " {'query_entities': ('Marie Laurent', 'Pierre Dubois'),\n",
       "  'target': 'France',\n",
       "  'connection': 'French',\n",
       "  'next_tok_probs': [PredictedToken(token=' French', prob=0.91796875, logit=22.125, token_id=8753, metadata=None),\n",
       "   PredictedToken(token=' German', prob=0.0277099609375, logit=18.625, token_id=6063, metadata=None),\n",
       "   PredictedToken(token=' Belgian', prob=0.01019287109375, logit=17.625, token_id=49162, metadata=None),\n",
       "   PredictedToken(token=' Italian', prob=0.00482177734375, logit=16.875, token_id=15155, metadata=None),\n",
       "   PredictedToken(token=' Both', prob=0.0033111572265625, logit=16.5, token_id=11995, metadata=None),\n",
       "   PredictedToken(token=' Spanish', prob=0.0022735595703125, logit=16.125, token_id=15506, metadata=None),\n",
       "   PredictedToken(token=' European', prob=0.0022735595703125, logit=16.125, token_id=7665, metadata=None),\n",
       "   PredictedToken(token=' Russian', prob=0.0022735595703125, logit=16.125, token_id=8690, metadata=None),\n",
       "   PredictedToken(token=' [', prob=0.0022735595703125, logit=16.125, token_id=510, metadata=None),\n",
       "   PredictedToken(token=' English', prob=0.00156402587890625, logit=15.75, token_id=6498, metadata=None),\n",
       "   PredictedToken(token=' ', prob=0.00147247314453125, logit=15.6875, token_id=220, metadata=None),\n",
       "   PredictedToken(token=' Dutch', prob=0.001220703125, logit=15.5, token_id=24113, metadata=None),\n",
       "   PredictedToken(token=' Swiss', prob=0.001220703125, logit=15.5, token_id=30791, metadata=None),\n",
       "   PredictedToken(token=' American', prob=0.00089263916015625, logit=15.1875, token_id=3778, metadata=None),\n",
       "   PredictedToken(token=' Polish', prob=0.000652313232421875, logit=14.875, token_id=33084, metadata=None)]},\n",
       " {'query_entities': ('Ahmed Hassan', 'Layla Mahmoud'),\n",
       "  'target': 'Egypt',\n",
       "  'connection': 'Egyptian',\n",
       "  'next_tok_probs': [PredictedToken(token=' Egyptian', prob=0.39453125, logit=19.5, token_id=33589, metadata=None),\n",
       "   PredictedToken(token=' Arabic', prob=0.1279296875, logit=18.375, token_id=35217, metadata=None),\n",
       "   PredictedToken(token=' German', prob=0.060546875, logit=17.625, token_id=6063, metadata=None),\n",
       "   PredictedToken(token=' Arab', prob=0.053466796875, logit=17.5, token_id=10989, metadata=None),\n",
       "   PredictedToken(token=' Moroccan', prob=0.036865234375, logit=17.125, token_id=95067, metadata=None),\n",
       "   PredictedToken(token=' Persian', prob=0.0196533203125, logit=16.5, token_id=50961, metadata=None),\n",
       "   PredictedToken(token=' Turkish', prob=0.0196533203125, logit=16.5, token_id=24666, metadata=None),\n",
       "   PredictedToken(token=' English', prob=0.0196533203125, logit=16.5, token_id=6498, metadata=None),\n",
       "   PredictedToken(token=' French', prob=0.017333984375, logit=16.375, token_id=8753, metadata=None),\n",
       "   PredictedToken(token=' Iranian', prob=0.017333984375, logit=16.375, token_id=28501, metadata=None),\n",
       "   PredictedToken(token=' Alger', prob=0.017333984375, logit=16.375, token_id=59609, metadata=None),\n",
       "   PredictedToken(token=' Palestinian', prob=0.01531982421875, logit=16.25, token_id=22596, metadata=None),\n",
       "   PredictedToken(token=' Somali', prob=0.011962890625, logit=16.0, token_id=85794, metadata=None),\n",
       "   PredictedToken(token=' Syrian', prob=0.01055908203125, logit=15.875, token_id=18636, metadata=None),\n",
       "   PredictedToken(token=' Middle', prob=0.0098876953125, logit=15.8125, token_id=12877, metadata=None)]},\n",
       " {'query_entities': ('Layla Mahmoud', 'Ahmed Hassan'),\n",
       "  'target': 'Egypt',\n",
       "  'connection': 'Egyptian',\n",
       "  'next_tok_probs': [PredictedToken(token=' Egyptian', prob=0.42578125, logit=19.625, token_id=33589, metadata=None),\n",
       "   PredictedToken(token=' Arabic', prob=0.1220703125, logit=18.375, token_id=35217, metadata=None),\n",
       "   PredictedToken(token=' Arab', prob=0.044921875, logit=17.375, token_id=10989, metadata=None),\n",
       "   PredictedToken(token=' German', prob=0.034912109375, logit=17.125, token_id=6063, metadata=None),\n",
       "   PredictedToken(token=' Turkish', prob=0.0272216796875, logit=16.875, token_id=24666, metadata=None),\n",
       "   PredictedToken(token=' English', prob=0.0240478515625, logit=16.75, token_id=6498, metadata=None),\n",
       "   PredictedToken(token=' Moroccan', prob=0.0240478515625, logit=16.75, token_id=95067, metadata=None),\n",
       "   PredictedToken(token=' Iranian', prob=0.021240234375, logit=16.625, token_id=28501, metadata=None),\n",
       "   PredictedToken(token=' French', prob=0.021240234375, logit=16.625, token_id=8753, metadata=None),\n",
       "   PredictedToken(token=' Persian', prob=0.0186767578125, logit=16.5, token_id=50961, metadata=None),\n",
       "   PredictedToken(token=' Italian', prob=0.01458740234375, logit=16.25, token_id=15155, metadata=None),\n",
       "   PredictedToken(token=' Palestinian', prob=0.01458740234375, logit=16.25, token_id=22596, metadata=None),\n",
       "   PredictedToken(token=' Alger', prob=0.0113525390625, logit=16.0, token_id=59609, metadata=None),\n",
       "   PredictedToken(token=' Middle', prob=0.01068115234375, logit=15.9375, token_id=12877, metadata=None),\n",
       "   PredictedToken(token=' Syrian', prob=0.010009765625, logit=15.875, token_id=18636, metadata=None)]},\n",
       " {'query_entities': ('Min-jun Park', 'Ji-woo Kim'),\n",
       "  'target': 'South Korea',\n",
       "  'connection': 'Korean',\n",
       "  'next_tok_probs': [PredictedToken(token=' Korean', prob=0.9453125, logit=23.75, token_id=16526, metadata=None),\n",
       "   PredictedToken(token=' Chinese', prob=0.017333984375, logit=19.75, token_id=8620, metadata=None),\n",
       "   PredictedToken(token=' South', prob=0.01190185546875, logit=19.375, token_id=4987, metadata=None),\n",
       "   PredictedToken(token=' K', prob=0.002655029296875, logit=17.875, token_id=735, metadata=None),\n",
       "   PredictedToken(token=' English', prob=0.002655029296875, logit=17.875, token_id=6498, metadata=None),\n",
       "   PredictedToken(token=' French', prob=0.002349853515625, logit=17.75, token_id=8753, metadata=None),\n",
       "   PredictedToken(token=' Asian', prob=0.00160980224609375, logit=17.375, token_id=14875, metadata=None),\n",
       "   PredictedToken(token=' Japanese', prob=0.00160980224609375, logit=17.375, token_id=11002, metadata=None),\n",
       "   PredictedToken(token=' German', prob=0.00110626220703125, logit=17.0, token_id=6063, metadata=None),\n",
       "   PredictedToken(token=' Dutch', prob=0.0009765625, logit=16.875, token_id=24113, metadata=None),\n",
       "   PredictedToken(token=' North', prob=0.0009765625, logit=16.875, token_id=4892, metadata=None),\n",
       "   PredictedToken(token=' American', prob=0.0009765625, logit=16.875, token_id=3778, metadata=None),\n",
       "   PredictedToken(token=' Spanish', prob=0.00086212158203125, logit=16.75, token_id=15506, metadata=None),\n",
       "   PredictedToken(token=' Both', prob=0.00067138671875, logit=16.5, token_id=11995, metadata=None),\n",
       "   PredictedToken(token=' None', prob=0.00067138671875, logit=16.5, token_id=2290, metadata=None)]},\n",
       " {'query_entities': ('Ji-woo Kim', 'Min-jun Park'),\n",
       "  'target': 'South Korea',\n",
       "  'connection': 'Korean',\n",
       "  'next_tok_probs': [PredictedToken(token=' Korean', prob=0.94921875, logit=23.5, token_id=16526, metadata=None),\n",
       "   PredictedToken(token=' South', prob=0.019775390625, logit=19.625, token_id=4987, metadata=None),\n",
       "   PredictedToken(token=' English', prob=0.0050048828125, logit=18.25, token_id=6498, metadata=None),\n",
       "   PredictedToken(token=' K', prob=0.0034332275390625, logit=17.875, token_id=735, metadata=None),\n",
       "   PredictedToken(token=' French', prob=0.00183868408203125, logit=17.25, token_id=8753, metadata=None),\n",
       "   PredictedToken(token=' Italian', prob=0.001617431640625, logit=17.125, token_id=15155, metadata=None),\n",
       "   PredictedToken(token=' Spanish', prob=0.00142669677734375, logit=17.0, token_id=15506, metadata=None),\n",
       "   PredictedToken(token=' North', prob=0.00125885009765625, logit=16.875, token_id=4892, metadata=None),\n",
       "   PredictedToken(token=' Asian', prob=0.0011138916015625, logit=16.75, token_id=14875, metadata=None),\n",
       "   PredictedToken(token=' German', prob=0.0011138916015625, logit=16.75, token_id=6063, metadata=None),\n",
       "   PredictedToken(token=' Chinese', prob=0.0011138916015625, logit=16.75, token_id=8620, metadata=None),\n",
       "   PredictedToken(token=' Both', prob=0.0011138916015625, logit=16.75, token_id=11995, metadata=None),\n",
       "   PredictedToken(token=' Japanese', prob=0.00098419189453125, logit=16.625, token_id=11002, metadata=None),\n",
       "   PredictedToken(token=' American', prob=0.00098419189453125, logit=16.625, token_id=3778, metadata=None),\n",
       "   PredictedToken(token=' Dutch', prob=0.000766754150390625, logit=16.375, token_id=24113, metadata=None)]},\n",
       " {'query_entities': ('Marco Rossi', 'Giulia Romano'),\n",
       "  'target': 'Italy',\n",
       "  'connection': 'Italian',\n",
       "  'next_tok_probs': [PredictedToken(token=' Italian', prob=0.9140625, logit=22.75, token_id=15155, metadata=None),\n",
       "   PredictedToken(token=' German', prob=0.027587890625, logit=19.25, token_id=6063, metadata=None),\n",
       "   PredictedToken(token=' Spanish', prob=0.01904296875, logit=18.875, token_id=15506, metadata=None),\n",
       "   PredictedToken(token=' French', prob=0.00616455078125, logit=17.75, token_id=8753, metadata=None),\n",
       "   PredictedToken(token=' Russian', prob=0.0037384033203125, logit=17.25, token_id=8690, metadata=None),\n",
       "   PredictedToken(token=' It', prob=0.00177001953125, logit=16.5, token_id=1102, metadata=None),\n",
       "   PredictedToken(token=' Romanian', prob=0.001373291015625, logit=16.25, token_id=74697, metadata=None),\n",
       "   PredictedToken(token=' English', prob=0.001373291015625, logit=16.25, token_id=6498, metadata=None),\n",
       "   PredictedToken(token=' Both', prob=0.001068115234375, logit=16.0, token_id=11995, metadata=None),\n",
       "   PredictedToken(token=' Portuguese', prob=0.001068115234375, logit=16.0, token_id=43288, metadata=None),\n",
       "   PredictedToken(token=' Austrian', prob=0.001007080078125, logit=15.9375, token_id=58069, metadata=None),\n",
       "   PredictedToken(token=' Argentine', prob=0.000782012939453125, logit=15.6875, token_id=82822, metadata=None),\n",
       "   PredictedToken(token=' European', prob=0.000690460205078125, logit=15.5625, token_id=7665, metadata=None),\n",
       "   PredictedToken(token=' Brazilian', prob=0.00064849853515625, logit=15.5, token_id=36083, metadata=None),\n",
       "   PredictedToken(token=' American', prob=0.00064849853515625, logit=15.5, token_id=3778, metadata=None)]},\n",
       " {'query_entities': ('Giulia Romano', 'Marco Rossi'),\n",
       "  'target': 'Italy',\n",
       "  'connection': 'Italian',\n",
       "  'next_tok_probs': [PredictedToken(token=' Italian', prob=0.9140625, logit=22.5, token_id=15155, metadata=None),\n",
       "   PredictedToken(token=' German', prob=0.0242919921875, logit=18.875, token_id=6063, metadata=None),\n",
       "   PredictedToken(token=' Spanish', prob=0.0167236328125, logit=18.5, token_id=15506, metadata=None),\n",
       "   PredictedToken(token=' French', prob=0.0079345703125, logit=17.75, token_id=8753, metadata=None),\n",
       "   PredictedToken(token=' Russian', prob=0.004791259765625, logit=17.25, token_id=8690, metadata=None),\n",
       "   PredictedToken(token=' Romanian', prob=0.0029144287109375, logit=16.75, token_id=74697, metadata=None),\n",
       "   PredictedToken(token=' Roman', prob=0.0019989013671875, logit=16.375, token_id=13041, metadata=None),\n",
       "   PredictedToken(token=' Both', prob=0.00176239013671875, logit=16.25, token_id=11995, metadata=None),\n",
       "   PredictedToken(token=' It', prob=0.001556396484375, logit=16.125, token_id=1102, metadata=None),\n",
       "   PredictedToken(token=' English', prob=0.001373291015625, logit=16.0, token_id=6498, metadata=None),\n",
       "   PredictedToken(token=' Austrian', prob=0.000888824462890625, logit=15.5625, token_id=58069, metadata=None),\n",
       "   PredictedToken(token=' European', prob=0.000888824462890625, logit=15.5625, token_id=7665, metadata=None),\n",
       "   PredictedToken(token=' Portuguese', prob=0.000736236572265625, logit=15.375, token_id=43288, metadata=None),\n",
       "   PredictedToken(token=' American', prob=0.00064849853515625, logit=15.25, token_id=3778, metadata=None),\n",
       "   PredictedToken(token=' [', prob=0.00064849853515625, logit=15.25, token_id=510, metadata=None)]},\n",
       " {'query_entities': ('James Mwangi', 'Grace Wanjiru'),\n",
       "  'target': 'Kenya',\n",
       "  'connection': 'Ken',\n",
       "  'next_tok_probs': [PredictedToken(token=' Ken', prob=0.1806640625, logit=18.625, token_id=14594, metadata=None),\n",
       "   PredictedToken(token=' German', prob=0.12451171875, logit=18.25, token_id=6063, metadata=None),\n",
       "   PredictedToken(token=' English', prob=0.0966796875, logit=18.0, token_id=6498, metadata=None),\n",
       "   PredictedToken(token=' African', prob=0.06640625, logit=17.625, token_id=11904, metadata=None),\n",
       "   PredictedToken(token=' Sw', prob=0.058837890625, logit=17.5, token_id=4593, metadata=None),\n",
       "   PredictedToken(token=' Indian', prob=0.031494140625, logit=16.875, token_id=7904, metadata=None),\n",
       "   PredictedToken(token=' Japanese', prob=0.0277099609375, logit=16.75, token_id=11002, metadata=None),\n",
       "   PredictedToken(token=' Swedish', prob=0.0277099609375, logit=16.75, token_id=31209, metadata=None),\n",
       "   PredictedToken(token=' Italian', prob=0.0277099609375, logit=16.75, token_id=15155, metadata=None),\n",
       "   PredictedToken(token=' Nigerian', prob=0.01904296875, logit=16.375, token_id=55433, metadata=None),\n",
       "   PredictedToken(token=' Korean', prob=0.016845703125, logit=16.25, token_id=16526, metadata=None),\n",
       "   PredictedToken(token=' Tanz', prob=0.01483154296875, logit=16.125, token_id=58780, metadata=None),\n",
       "   PredictedToken(token=' Chinese', prob=0.01312255859375, logit=16.0, token_id=8620, metadata=None),\n",
       "   PredictedToken(token=' East', prob=0.01312255859375, logit=16.0, token_id=6460, metadata=None),\n",
       "   PredictedToken(token=' Dutch', prob=0.01312255859375, logit=16.0, token_id=24113, metadata=None)]},\n",
       " {'query_entities': ('Grace Wanjiru', 'James Mwangi'),\n",
       "  'target': 'Kenya',\n",
       "  'connection': 'Ken',\n",
       "  'next_tok_probs': [PredictedToken(token=' Ken', prob=0.2578125, logit=19.0, token_id=14594, metadata=None),\n",
       "   PredictedToken(token=' English', prob=0.0947265625, logit=18.0, token_id=6498, metadata=None),\n",
       "   PredictedToken(token=' German', prob=0.07373046875, logit=17.75, token_id=6063, metadata=None),\n",
       "   PredictedToken(token=' African', prob=0.06494140625, logit=17.625, token_id=11904, metadata=None),\n",
       "   PredictedToken(token=' Sw', prob=0.0576171875, logit=17.5, token_id=4593, metadata=None),\n",
       "   PredictedToken(token=' Swedish', prob=0.0272216796875, logit=16.75, token_id=31209, metadata=None),\n",
       "   PredictedToken(token=' Italian', prob=0.0272216796875, logit=16.75, token_id=15155, metadata=None),\n",
       "   PredictedToken(token=' Tanz', prob=0.02392578125, logit=16.625, token_id=58780, metadata=None),\n",
       "   PredictedToken(token=' Japanese', prob=0.02392578125, logit=16.625, token_id=11002, metadata=None),\n",
       "   PredictedToken(token=' Indian', prob=0.0211181640625, logit=16.5, token_id=7904, metadata=None),\n",
       "   PredictedToken(token=' Korean', prob=0.0186767578125, logit=16.375, token_id=16526, metadata=None),\n",
       "   PredictedToken(token=' Ethiopian', prob=0.0164794921875, logit=16.25, token_id=96634, metadata=None),\n",
       "   PredictedToken(token=' Nigerian', prob=0.0164794921875, logit=16.25, token_id=55433, metadata=None),\n",
       "   PredictedToken(token=' Ug', prob=0.0164794921875, logit=16.25, token_id=47430, metadata=None),\n",
       "   PredictedToken(token=' Spanish', prob=0.0120849609375, logit=15.9375, token_id=15506, metadata=None)]},\n",
       " {'query_entities': ('Mehmet Yilmaz', 'Ayse Kaya'),\n",
       "  'target': 'Turkey',\n",
       "  'connection': 'Turkish',\n",
       "  'next_tok_probs': [PredictedToken(token=' Turkish', prob=0.9609375, logit=22.25, token_id=24666, metadata=None),\n",
       "   PredictedToken(token=' German', prob=0.0155029296875, logit=18.125, token_id=6063, metadata=None),\n",
       "   PredictedToken(token=' Kurdish', prob=0.0030517578125, logit=16.5, token_id=42740, metadata=None),\n",
       "   PredictedToken(token=' Ottoman', prob=0.00238037109375, logit=16.25, token_id=70110, metadata=None),\n",
       "   PredictedToken(token=' Turk', prob=0.00153350830078125, logit=15.8125, token_id=21187, metadata=None),\n",
       "   PredictedToken(token=' Armenian', prob=0.0013580322265625, logit=15.6875, token_id=67842, metadata=None),\n",
       "   PredictedToken(token=' Persian', prob=0.0009918212890625, logit=15.375, token_id=50961, metadata=None),\n",
       "   PredictedToken(token=' Hungarian', prob=0.0009307861328125, logit=15.3125, token_id=57869, metadata=None),\n",
       "   PredictedToken(token=' Both', prob=0.0009307861328125, logit=15.3125, token_id=11995, metadata=None),\n",
       "   PredictedToken(token=' Greek', prob=0.000640869140625, logit=14.9375, token_id=18341, metadata=None),\n",
       "   PredictedToken(token=' English', prob=0.00060272216796875, logit=14.875, token_id=6498, metadata=None),\n",
       "   PredictedToken(token=' French', prob=0.00060272216796875, logit=14.875, token_id=8753, metadata=None),\n",
       "   PredictedToken(token=' Turks', prob=0.00060272216796875, logit=14.875, token_id=72857, metadata=None),\n",
       "   PredictedToken(token=' ', prob=0.0005645751953125, logit=14.8125, token_id=220, metadata=None),\n",
       "   PredictedToken(token=' Iranian', prob=0.000530242919921875, logit=14.75, token_id=28501, metadata=None)]},\n",
       " {'query_entities': ('Ayse Kaya', 'Mehmet Yilmaz'),\n",
       "  'target': 'Turkey',\n",
       "  'connection': 'Turkish',\n",
       "  'next_tok_probs': [PredictedToken(token=' Turkish', prob=0.9765625, logit=22.75, token_id=24666, metadata=None),\n",
       "   PredictedToken(token=' German', prob=0.006591796875, logit=17.75, token_id=6063, metadata=None),\n",
       "   PredictedToken(token=' Kurdish', prob=0.00188446044921875, logit=16.5, token_id=42740, metadata=None),\n",
       "   PredictedToken(token=' Both', prob=0.00107574462890625, logit=15.9375, token_id=11995, metadata=None),\n",
       "   PredictedToken(token=' French', prob=0.001007080078125, logit=15.875, token_id=8753, metadata=None),\n",
       "   PredictedToken(token=' Armenian', prob=0.00089263916015625, logit=15.75, token_id=67842, metadata=None),\n",
       "   PredictedToken(token=' Ottoman', prob=0.000835418701171875, logit=15.6875, token_id=70110, metadata=None),\n",
       "   PredictedToken(token=' Turk', prob=0.00074005126953125, logit=15.5625, token_id=21187, metadata=None),\n",
       "   PredictedToken(token=' English', prob=0.0006103515625, logit=15.375, token_id=6498, metadata=None),\n",
       "   PredictedToken(token=' Turks', prob=0.0006103515625, logit=15.375, token_id=72857, metadata=None),\n",
       "   PredictedToken(token=' Spanish', prob=0.000576019287109375, logit=15.3125, token_id=15506, metadata=None),\n",
       "   PredictedToken(token=' Tur', prob=0.0004482269287109375, logit=15.0625, token_id=8877, metadata=None),\n",
       "   PredictedToken(token=' Dutch', prob=0.0004482269287109375, logit=15.0625, token_id=24113, metadata=None),\n",
       "   PredictedToken(token=' Persian', prob=0.0004215240478515625, logit=15.0, token_id=50961, metadata=None),\n",
       "   PredictedToken(token=' Greek', prob=0.0003948211669921875, logit=14.9375, token_id=18341, metadata=None)]},\n",
       " {'query_entities': ('Piotr Kowalski', 'Katarzyna Nowak'),\n",
       "  'target': 'Poland',\n",
       "  'connection': 'Polish',\n",
       "  'next_tok_probs': [PredictedToken(token=' Polish', prob=0.96875, logit=23.125, token_id=33084, metadata=None),\n",
       "   PredictedToken(token=' German', prob=0.00738525390625, logit=18.25, token_id=6063, metadata=None),\n",
       "   PredictedToken(token=' French', prob=0.00396728515625, logit=17.625, token_id=8753, metadata=None),\n",
       "   PredictedToken(token=' P', prob=0.0034942626953125, logit=17.5, token_id=393, metadata=None),\n",
       "   PredictedToken(token=' Russian', prob=0.003082275390625, logit=17.375, token_id=8690, metadata=None),\n",
       "   PredictedToken(token=' Italian', prob=0.00186920166015625, logit=16.875, token_id=15155, metadata=None),\n",
       "   PredictedToken(token=' Pol', prob=0.00113677978515625, logit=16.375, token_id=3735, metadata=None),\n",
       "   PredictedToken(token=' Czech', prob=0.00113677978515625, logit=16.375, token_id=34250, metadata=None),\n",
       "   PredictedToken(token=' Pole', prob=0.000885009765625, logit=16.125, token_id=53727, metadata=None),\n",
       "   PredictedToken(token=' Both', prob=0.0006866455078125, logit=15.875, token_id=11995, metadata=None),\n",
       "   PredictedToken(token=' English', prob=0.000644683837890625, logit=15.8125, token_id=6498, metadata=None),\n",
       "   PredictedToken(token=' Ukrainian', prob=0.000644683837890625, logit=15.8125, token_id=34725, metadata=None),\n",
       "   PredictedToken(token=' Poland', prob=0.0003910064697265625, logit=15.3125, token_id=28702, metadata=None),\n",
       "   PredictedToken(token=' European', prob=0.00030517578125, logit=15.0625, token_id=7665, metadata=None),\n",
       "   PredictedToken(token=' [', prob=0.000286102294921875, logit=15.0, token_id=510, metadata=None)]},\n",
       " {'query_entities': ('Katarzyna Nowak', 'Piotr Kowalski'),\n",
       "  'target': 'Poland',\n",
       "  'connection': 'Polish',\n",
       "  'next_tok_probs': [PredictedToken(token=' Polish', prob=0.9765625, logit=23.125, token_id=33084, metadata=None),\n",
       "   PredictedToken(token=' German', prob=0.0045166015625, logit=17.75, token_id=6063, metadata=None),\n",
       "   PredictedToken(token=' P', prob=0.00311279296875, logit=17.375, token_id=393, metadata=None),\n",
       "   PredictedToken(token=' French', prob=0.00274658203125, logit=17.25, token_id=8753, metadata=None),\n",
       "   PredictedToken(token=' Russian', prob=0.00147247314453125, logit=16.625, token_id=8690, metadata=None),\n",
       "   PredictedToken(token=' Pol', prob=0.0011444091796875, logit=16.375, token_id=3735, metadata=None),\n",
       "   PredictedToken(token=' Italian', prob=0.00089263916015625, logit=16.125, token_id=15155, metadata=None),\n",
       "   PredictedToken(token=' Both', prob=0.000614166259765625, logit=15.75, token_id=11995, metadata=None),\n",
       "   PredictedToken(token=' Czech', prob=0.000576019287109375, logit=15.6875, token_id=34250, metadata=None),\n",
       "   PredictedToken(token=' Pole', prob=0.00054168701171875, logit=15.625, token_id=53727, metadata=None),\n",
       "   PredictedToken(token=' Ukrainian', prob=0.000507354736328125, logit=15.5625, token_id=34725, metadata=None),\n",
       "   PredictedToken(token=' English', prob=0.0004215240478515625, logit=15.375, token_id=6498, metadata=None),\n",
       "   PredictedToken(token=' Poland', prob=0.000396728515625, logit=15.3125, token_id=28702, metadata=None),\n",
       "   PredictedToken(token=' polish', prob=0.0002727508544921875, logit=14.9375, token_id=45129, metadata=None),\n",
       "   PredictedToken(token=' [', prob=0.000255584716796875, logit=14.875, token_id=510, metadata=None)]},\n",
       " {'query_entities': ('Somchai Jaidee', 'Siriporn Suwannarat'),\n",
       "  'target': 'Thailand',\n",
       "  'connection': 'Thai',\n",
       "  'next_tok_probs': [PredictedToken(token=' Thai', prob=0.9453125, logit=21.75, token_id=27490, metadata=None),\n",
       "   PredictedToken(token=' L', prob=0.004364013671875, logit=16.375, token_id=445, metadata=None),\n",
       "   PredictedToken(token=' Kh', prob=0.0028228759765625, logit=15.9375, token_id=20774, metadata=None),\n",
       "   PredictedToken(token=' Spanish', prob=0.00250244140625, logit=15.8125, token_id=15506, metadata=None),\n",
       "   PredictedToken(token=' French', prob=0.002197265625, logit=15.6875, token_id=8753, metadata=None),\n",
       "   PredictedToken(token=' Bur', prob=0.002197265625, logit=15.6875, token_id=12649, metadata=None),\n",
       "   PredictedToken(token=' Camb', prob=0.0020751953125, logit=15.625, token_id=34896, metadata=None),\n",
       "   PredictedToken(token=' Asian', prob=0.00171661376953125, logit=15.4375, token_id=14875, metadata=None),\n",
       "   PredictedToken(token=' Dutch', prob=0.0015106201171875, logit=15.3125, token_id=24113, metadata=None),\n",
       "   PredictedToken(token=' Th', prob=0.00133514404296875, logit=15.1875, token_id=666, metadata=None),\n",
       "   PredictedToken(token=' Italian', prob=0.001251220703125, logit=15.125, token_id=15155, metadata=None),\n",
       "   PredictedToken(token=' Thailand', prob=0.001251220703125, logit=15.125, token_id=30567, metadata=None),\n",
       "   PredictedToken(token=' Japanese', prob=0.0011749267578125, logit=15.0625, token_id=11002, metadata=None),\n",
       "   PredictedToken(token=' English', prob=0.00110626220703125, logit=15.0, token_id=6498, metadata=None),\n",
       "   PredictedToken(token=' German', prob=0.00110626220703125, logit=15.0, token_id=6063, metadata=None)]},\n",
       " {'query_entities': ('Siriporn Suwannarat', 'Somchai Jaidee'),\n",
       "  'target': 'Thailand',\n",
       "  'connection': 'Thai',\n",
       "  'next_tok_probs': [PredictedToken(token=' Thai', prob=0.91796875, logit=21.625, token_id=27490, metadata=None),\n",
       "   PredictedToken(token=' French', prob=0.009033203125, logit=17.0, token_id=8753, metadata=None),\n",
       "   PredictedToken(token=' Spanish', prob=0.005462646484375, logit=16.5, token_id=15506, metadata=None),\n",
       "   PredictedToken(token=' German', prob=0.00482177734375, logit=16.375, token_id=6063, metadata=None),\n",
       "   PredictedToken(token=' Italian', prob=0.0033111572265625, logit=16.0, token_id=15155, metadata=None),\n",
       "   PredictedToken(token=' Dutch', prob=0.0033111572265625, logit=16.0, token_id=24113, metadata=None),\n",
       "   PredictedToken(token=' English', prob=0.00311279296875, logit=15.9375, token_id=6498, metadata=None),\n",
       "   PredictedToken(token=' Japanese', prob=0.00311279296875, logit=15.9375, token_id=11002, metadata=None),\n",
       "   PredictedToken(token=' Asian', prob=0.0029296875, logit=15.875, token_id=14875, metadata=None),\n",
       "   PredictedToken(token=' British', prob=0.0029296875, logit=15.875, token_id=8013, metadata=None),\n",
       "   PredictedToken(token=' L', prob=0.0024261474609375, logit=15.6875, token_id=445, metadata=None),\n",
       "   PredictedToken(token=' Kh', prob=0.00156402587890625, logit=15.25, token_id=20774, metadata=None),\n",
       "   PredictedToken(token=' Bur', prob=0.00138092041015625, logit=15.125, token_id=12649, metadata=None),\n",
       "   PredictedToken(token=' Thailand', prob=0.0012969970703125, logit=15.0625, token_id=30567, metadata=None),\n",
       "   PredictedToken(token=' Indian', prob=0.001220703125, logit=15.0, token_id=7904, metadata=None)]},\n",
       " {'query_entities': ('Jan de Vries', 'Lisa van der Berg'),\n",
       "  'target': 'Netherlands',\n",
       "  'connection': 'Dutch',\n",
       "  'next_tok_probs': [PredictedToken(token=' Dutch', prob=0.6953125, logit=22.5, token_id=24113, metadata=None),\n",
       "   PredictedToken(token=' German', prob=0.19921875, logit=21.25, token_id=6063, metadata=None),\n",
       "   PredictedToken(token=' Belgian', prob=0.0238037109375, logit=19.125, token_id=49162, metadata=None),\n",
       "   PredictedToken(token=' French', prob=0.0238037109375, logit=19.125, token_id=8753, metadata=None),\n",
       "   PredictedToken(token=' English', prob=0.00531005859375, logit=17.625, token_id=6498, metadata=None),\n",
       "   PredictedToken(token=' Italian', prob=0.00531005859375, logit=17.625, token_id=15155, metadata=None),\n",
       "   PredictedToken(token=' Spanish', prob=0.003662109375, logit=17.25, token_id=15506, metadata=None),\n",
       "   PredictedToken(token=' Polish', prob=0.0028533935546875, logit=17.0, token_id=33084, metadata=None),\n",
       "   PredictedToken(token=' European', prob=0.0025177001953125, logit=16.875, token_id=7665, metadata=None),\n",
       "   PredictedToken(token=' Flem', prob=0.0022125244140625, logit=16.75, token_id=65122, metadata=None),\n",
       "   PredictedToken(token=' Both', prob=0.001953125, logit=16.625, token_id=11995, metadata=None),\n",
       "   PredictedToken(token=' Russian', prob=0.001953125, logit=16.625, token_id=8690, metadata=None),\n",
       "   PredictedToken(token=' [', prob=0.00152587890625, logit=16.375, token_id=510, metadata=None),\n",
       "   PredictedToken(token=' Netherlands', prob=0.0013427734375, logit=16.25, token_id=26746, metadata=None),\n",
       "   PredictedToken(token=' D', prob=0.0013427734375, logit=16.25, token_id=423, metadata=None)]},\n",
       " {'query_entities': ('Lisa van der Berg', 'Jan de Vries'),\n",
       "  'target': 'Netherlands',\n",
       "  'connection': 'Dutch',\n",
       "  'next_tok_probs': [PredictedToken(token=' Dutch', prob=0.62890625, logit=21.875, token_id=24113, metadata=None),\n",
       "   PredictedToken(token=' German', prob=0.26171875, logit=21.0, token_id=6063, metadata=None),\n",
       "   PredictedToken(token=' Belgian', prob=0.0277099609375, logit=18.75, token_id=49162, metadata=None),\n",
       "   PredictedToken(token=' French', prob=0.01483154296875, logit=18.125, token_id=8753, metadata=None),\n",
       "   PredictedToken(token=' English', prob=0.00616455078125, logit=17.25, token_id=6498, metadata=None),\n",
       "   PredictedToken(token=' Both', prob=0.00616455078125, logit=17.25, token_id=11995, metadata=None),\n",
       "   PredictedToken(token=' Italian', prob=0.0037384033203125, logit=16.75, token_id=15155, metadata=None),\n",
       "   PredictedToken(token=' Spanish', prob=0.0033111572265625, logit=16.625, token_id=15506, metadata=None),\n",
       "   PredictedToken(token=' European', prob=0.0022735595703125, logit=16.25, token_id=7665, metadata=None),\n",
       "   PredictedToken(token=' [', prob=0.0022735595703125, logit=16.25, token_id=510, metadata=None),\n",
       "   PredictedToken(token=' Netherlands', prob=0.0019989013671875, logit=16.125, token_id=26746, metadata=None),\n",
       "   PredictedToken(token=' Flem', prob=0.0019989013671875, logit=16.125, token_id=65122, metadata=None),\n",
       "   PredictedToken(token=' Danish', prob=0.00177001953125, logit=16.0, token_id=44780, metadata=None),\n",
       "   PredictedToken(token=' Polish', prob=0.00156402587890625, logit=15.875, token_id=33084, metadata=None),\n",
       "   PredictedToken(token=' D', prob=0.00156402587890625, logit=15.875, token_id=423, metadata=None)]},\n",
       " {'query_entities': ('Dimitris Papadopoulos', 'Elena Georgiou'),\n",
       "  'target': 'Greece',\n",
       "  'connection': 'Greek',\n",
       "  'next_tok_probs': [PredictedToken(token=' Greek', prob=0.92578125, logit=22.375, token_id=18341, metadata=None),\n",
       "   PredictedToken(token=' Russian', prob=0.01318359375, logit=18.125, token_id=8690, metadata=None),\n",
       "   PredictedToken(token=' German', prob=0.01318359375, logit=18.125, token_id=6063, metadata=None),\n",
       "   PredictedToken(token=' Turkish', prob=0.007049560546875, logit=17.5, token_id=24666, metadata=None),\n",
       "   PredictedToken(token=' Italian', prob=0.0062255859375, logit=17.375, token_id=15155, metadata=None),\n",
       "   PredictedToken(token=' Bulgarian', prob=0.0062255859375, logit=17.375, token_id=89724, metadata=None),\n",
       "   PredictedToken(token=' French', prob=0.0054931640625, logit=17.25, token_id=8753, metadata=None),\n",
       "   PredictedToken(token=' English', prob=0.0020294189453125, logit=16.25, token_id=6498, metadata=None),\n",
       "   PredictedToken(token=' C', prob=0.0013885498046875, logit=15.875, token_id=356, metadata=None),\n",
       "   PredictedToken(token=' Maced', prob=0.00122833251953125, logit=15.75, token_id=57552, metadata=None),\n",
       "   PredictedToken(token=' European', prob=0.00115203857421875, logit=15.6875, token_id=7665, metadata=None),\n",
       "   PredictedToken(token=' Romanian', prob=0.00115203857421875, logit=15.6875, token_id=74697, metadata=None),\n",
       "   PredictedToken(token=' Spanish', prob=0.00095367431640625, logit=15.5, token_id=15506, metadata=None),\n",
       "   PredictedToken(token=' Serbian', prob=0.000896453857421875, logit=15.4375, token_id=88264, metadata=None),\n",
       "   PredictedToken(token=' Ukrainian', prob=0.0006561279296875, logit=15.125, token_id=34725, metadata=None)]},\n",
       " {'query_entities': ('Elena Georgiou', 'Dimitris Papadopoulos'),\n",
       "  'target': 'Greece',\n",
       "  'connection': 'Greek',\n",
       "  'next_tok_probs': [PredictedToken(token=' Greek', prob=0.86328125, logit=22.125, token_id=18341, metadata=None),\n",
       "   PredictedToken(token=' German', prob=0.026123046875, logit=18.625, token_id=6063, metadata=None),\n",
       "   PredictedToken(token=' Russian', prob=0.020263671875, logit=18.375, token_id=8690, metadata=None),\n",
       "   PredictedToken(token=' Bulgarian', prob=0.01397705078125, logit=18.0, token_id=89724, metadata=None),\n",
       "   PredictedToken(token=' Italian', prob=0.01397705078125, logit=18.0, token_id=15155, metadata=None),\n",
       "   PredictedToken(token=' Turkish', prob=0.00848388671875, logit=17.5, token_id=24666, metadata=None),\n",
       "   PredictedToken(token=' French', prob=0.007476806640625, logit=17.375, token_id=8753, metadata=None),\n",
       "   PredictedToken(token=' Romanian', prob=0.005828857421875, logit=17.125, token_id=74697, metadata=None),\n",
       "   PredictedToken(token=' Spanish', prob=0.0045166015625, logit=16.875, token_id=15506, metadata=None),\n",
       "   PredictedToken(token=' English', prob=0.003997802734375, logit=16.75, token_id=6498, metadata=None),\n",
       "   PredictedToken(token=' Hungarian', prob=0.0024261474609375, logit=16.25, token_id=57869, metadata=None),\n",
       "   PredictedToken(token=' European', prob=0.00213623046875, logit=16.125, token_id=7665, metadata=None),\n",
       "   PredictedToken(token=' Ukrainian', prob=0.00213623046875, logit=16.125, token_id=34725, metadata=None),\n",
       "   PredictedToken(token=' Maced', prob=0.00189208984375, logit=16.0, token_id=57552, metadata=None),\n",
       "   PredictedToken(token=' Serbian', prob=0.0016632080078125, logit=15.875, token_id=88264, metadata=None)]},\n",
       " {'query_entities': ('Nguyen Van Duc', 'Tran Thi Mai'),\n",
       "  'target': 'Vietnam',\n",
       "  'connection': 'Vietnamese',\n",
       "  'next_tok_probs': [PredictedToken(token=' Vietnamese', prob=0.7734375, logit=21.625, token_id=49577, metadata=None),\n",
       "   PredictedToken(token=' French', prob=0.11865234375, logit=19.75, token_id=8753, metadata=None),\n",
       "   PredictedToken(token=' Dutch', prob=0.01611328125, logit=17.75, token_id=24113, metadata=None),\n",
       "   PredictedToken(token=' Viet', prob=0.01251220703125, logit=17.5, token_id=18203, metadata=None),\n",
       "   PredictedToken(token=' Thai', prob=0.00860595703125, logit=17.125, token_id=27490, metadata=None),\n",
       "   PredictedToken(token=' Italian', prob=0.0067138671875, logit=16.875, token_id=15155, metadata=None),\n",
       "   PredictedToken(token=' German', prob=0.0067138671875, logit=16.875, token_id=6063, metadata=None),\n",
       "   PredictedToken(token=' Korean', prob=0.00592041015625, logit=16.75, token_id=16526, metadata=None),\n",
       "   PredictedToken(token=' Both', prob=0.005218505859375, logit=16.625, token_id=11995, metadata=None),\n",
       "   PredictedToken(token=' Vietnam', prob=0.004058837890625, logit=16.375, token_id=23315, metadata=None),\n",
       "   PredictedToken(token=' Asian', prob=0.0035858154296875, logit=16.25, token_id=14875, metadata=None),\n",
       "   PredictedToken(token=' Chinese', prob=0.0031585693359375, logit=16.125, token_id=8620, metadata=None),\n",
       "   PredictedToken(token=' Danish', prob=0.00159454345703125, logit=15.4375, token_id=44780, metadata=None),\n",
       "   PredictedToken(token=' English', prob=0.001495361328125, logit=15.375, token_id=6498, metadata=None),\n",
       "   PredictedToken(token=' Belgian', prob=0.00140380859375, logit=15.3125, token_id=49162, metadata=None)]},\n",
       " {'query_entities': ('Tran Thi Mai', 'Nguyen Van Duc'),\n",
       "  'target': 'Vietnam',\n",
       "  'connection': 'Vietnamese',\n",
       "  'next_tok_probs': [PredictedToken(token=' Vietnamese', prob=0.87890625, logit=21.625, token_id=49577, metadata=None),\n",
       "   PredictedToken(token=' French', prob=0.043701171875, logit=18.625, token_id=8753, metadata=None),\n",
       "   PredictedToken(token=' Thai', prob=0.01104736328125, logit=17.25, token_id=27490, metadata=None),\n",
       "   PredictedToken(token=' Viet', prob=0.009765625, logit=17.125, token_id=18203, metadata=None),\n",
       "   PredictedToken(token=' German', prob=0.0067138671875, logit=16.75, token_id=6063, metadata=None),\n",
       "   PredictedToken(token=' Both', prob=0.005218505859375, logit=16.5, token_id=11995, metadata=None),\n",
       "   PredictedToken(token=' Korean', prob=0.005218505859375, logit=16.5, token_id=16526, metadata=None),\n",
       "   PredictedToken(token=' Italian', prob=0.004608154296875, logit=16.375, token_id=15155, metadata=None),\n",
       "   PredictedToken(token=' Dutch', prob=0.0035858154296875, logit=16.125, token_id=24113, metadata=None),\n",
       "   PredictedToken(token=' Vietnam', prob=0.0029754638671875, logit=15.9375, token_id=23315, metadata=None),\n",
       "   PredictedToken(token=' Asian', prob=0.0021820068359375, logit=15.625, token_id=14875, metadata=None),\n",
       "   PredictedToken(token=' English', prob=0.00116729736328125, logit=15.0, token_id=6498, metadata=None),\n",
       "   PredictedToken(token=' [', prob=0.00102996826171875, logit=14.875, token_id=510, metadata=None),\n",
       "   PredictedToken(token=' both', prob=0.000965118408203125, logit=14.8125, token_id=2225, metadata=None),\n",
       "   PredictedToken(token=' Chinese', prob=0.00090789794921875, logit=14.75, token_id=8620, metadata=None)]},\n",
       " {'query_entities': ('Erik Andersson', 'Astrid Lindgren'),\n",
       "  'target': 'Sweden',\n",
       "  'connection': 'Swedish',\n",
       "  'next_tok_probs': [PredictedToken(token=' Swedish', prob=0.79296875, logit=22.5, token_id=31209, metadata=None),\n",
       "   PredictedToken(token=' German', prob=0.06494140625, logit=20.0, token_id=6063, metadata=None),\n",
       "   PredictedToken(token=' Danish', prob=0.034912109375, logit=19.375, token_id=44780, metadata=None),\n",
       "   PredictedToken(token=' Norwegian', prob=0.027099609375, logit=19.125, token_id=45721, metadata=None),\n",
       "   PredictedToken(token=' English', prob=0.010009765625, logit=18.125, token_id=6498, metadata=None),\n",
       "   PredictedToken(token=' Scandinavian', prob=0.010009765625, logit=18.125, token_id=85674, metadata=None),\n",
       "   PredictedToken(token=' Russian', prob=0.006866455078125, logit=17.75, token_id=8690, metadata=None),\n",
       "   PredictedToken(token=' French', prob=0.005340576171875, logit=17.5, token_id=8753, metadata=None),\n",
       "   PredictedToken(token=' Dutch', prob=0.005340576171875, logit=17.5, token_id=24113, metadata=None),\n",
       "   PredictedToken(token=' Spanish', prob=0.0036773681640625, logit=17.125, token_id=15506, metadata=None),\n",
       "   PredictedToken(token=' Icelandic', prob=0.00323486328125, logit=17.0, token_id=100248, metadata=None),\n",
       "   PredictedToken(token=' Finnish', prob=0.00323486328125, logit=17.0, token_id=58953, metadata=None),\n",
       "   PredictedToken(token=' Both', prob=0.0028533935546875, logit=16.875, token_id=11995, metadata=None),\n",
       "   PredictedToken(token=' Polish', prob=0.0025177001953125, logit=16.75, token_id=33084, metadata=None),\n",
       "   PredictedToken(token=' Sw', prob=0.0025177001953125, logit=16.75, token_id=4593, metadata=None)]},\n",
       " {'query_entities': ('Astrid Lindgren', 'Erik Andersson'),\n",
       "  'target': 'Sweden',\n",
       "  'connection': 'Swedish',\n",
       "  'next_tok_probs': [PredictedToken(token=' Swedish', prob=0.88671875, logit=22.875, token_id=31209, metadata=None),\n",
       "   PredictedToken(token=' German', prob=0.0303955078125, logit=19.5, token_id=6063, metadata=None),\n",
       "   PredictedToken(token=' Danish', prob=0.0267333984375, logit=19.375, token_id=44780, metadata=None),\n",
       "   PredictedToken(token=' Norwegian', prob=0.0184326171875, logit=19.0, token_id=45721, metadata=None),\n",
       "   PredictedToken(token=' Scandinavian', prob=0.0076904296875, logit=18.125, token_id=85674, metadata=None),\n",
       "   PredictedToken(token=' Sw', prob=0.003204345703125, logit=17.25, token_id=4593, metadata=None),\n",
       "   PredictedToken(token=' French', prob=0.0024871826171875, logit=17.0, token_id=8753, metadata=None),\n",
       "   PredictedToken(token=' English', prob=0.0024871826171875, logit=17.0, token_id=6498, metadata=None),\n",
       "   PredictedToken(token=' Spanish', prob=0.0015106201171875, logit=16.5, token_id=15506, metadata=None),\n",
       "   PredictedToken(token=' Russian', prob=0.0015106201171875, logit=16.5, token_id=8690, metadata=None),\n",
       "   PredictedToken(token=' Dutch', prob=0.0015106201171875, logit=16.5, token_id=24113, metadata=None),\n",
       "   PredictedToken(token=' Both', prob=0.00133514404296875, logit=16.375, token_id=11995, metadata=None),\n",
       "   PredictedToken(token=' Finnish', prob=0.00133514404296875, logit=16.375, token_id=58953, metadata=None),\n",
       "   PredictedToken(token=' Icelandic', prob=0.00103759765625, logit=16.125, token_id=100248, metadata=None),\n",
       "   PredictedToken(token=' ', prob=0.00086212158203125, logit=15.9375, token_id=220, metadata=None)]},\n",
       " {'query_entities': ('Rahman Ali', 'Nasreen Begum'),\n",
       "  'target': 'Bangladesh',\n",
       "  'connection': 'Bang',\n",
       "  'next_tok_probs': [PredictedToken(token=' Bang', prob=0.23828125, logit=19.125, token_id=17343, metadata=None),\n",
       "   PredictedToken(token=' Indian', prob=0.185546875, logit=18.875, token_id=7904, metadata=None),\n",
       "   PredictedToken(token=' Pakistani', prob=0.1279296875, logit=18.5, token_id=45552, metadata=None),\n",
       "   PredictedToken(token=' Beng', prob=0.11279296875, logit=18.375, token_id=26316, metadata=None),\n",
       "   PredictedToken(token=' Turkish', prob=0.03662109375, logit=17.25, token_id=24666, metadata=None),\n",
       "   PredictedToken(token=' Persian', prob=0.0322265625, logit=17.125, token_id=50961, metadata=None),\n",
       "   PredictedToken(token=' Urdu', prob=0.0284423828125, logit=17.0, token_id=94435, metadata=None),\n",
       "   PredictedToken(token=' German', prob=0.022216796875, logit=16.75, token_id=6063, metadata=None),\n",
       "   PredictedToken(token=' Iranian', prob=0.013427734375, logit=16.25, token_id=28501, metadata=None),\n",
       "   PredictedToken(token=' English', prob=0.01190185546875, logit=16.125, token_id=6498, metadata=None),\n",
       "   PredictedToken(token=' Malaysian', prob=0.010498046875, logit=16.0, token_id=66531, metadata=None),\n",
       "   PredictedToken(token=' Afghan', prob=0.00927734375, logit=15.875, token_id=17214, metadata=None),\n",
       "   PredictedToken(token=' Malay', prob=0.00927734375, logit=15.875, token_id=80240, metadata=None),\n",
       "   PredictedToken(token=' Arabic', prob=0.0081787109375, logit=15.75, token_id=35217, metadata=None),\n",
       "   PredictedToken(token=' Bangladesh', prob=0.00677490234375, logit=15.5625, token_id=39601, metadata=None)]},\n",
       " {'query_entities': ('Alexandru Popescu', 'Elena Ionescu'),\n",
       "  'target': 'Romania',\n",
       "  'connection': 'Romanian',\n",
       "  'next_tok_probs': [PredictedToken(token=' Romanian', prob=0.91015625, logit=23.0, token_id=74697, metadata=None),\n",
       "   PredictedToken(token=' Russian', prob=0.0213623046875, logit=19.25, token_id=8690, metadata=None),\n",
       "   PredictedToken(token=' Hungarian', prob=0.0101318359375, logit=18.5, token_id=57869, metadata=None),\n",
       "   PredictedToken(token=' French', prob=0.0089111328125, logit=18.375, token_id=8753, metadata=None),\n",
       "   PredictedToken(token=' Italian', prob=0.0069580078125, logit=18.125, token_id=15155, metadata=None),\n",
       "   PredictedToken(token=' German', prob=0.0069580078125, logit=18.125, token_id=6063, metadata=None),\n",
       "   PredictedToken(token=' Roman', prob=0.006134033203125, logit=18.0, token_id=13041, metadata=None),\n",
       "   PredictedToken(token=' Bulgarian', prob=0.004791259765625, logit=17.75, token_id=89724, metadata=None),\n",
       "   PredictedToken(token=' Mold', prob=0.0032806396484375, logit=17.375, token_id=55263, metadata=None),\n",
       "   PredictedToken(token=' Ukrainian', prob=0.0032806396484375, logit=17.375, token_id=34725, metadata=None),\n",
       "   PredictedToken(token=' Spanish', prob=0.00136566162109375, logit=16.5, token_id=15506, metadata=None),\n",
       "   PredictedToken(token=' Greek', prob=0.0012054443359375, logit=16.375, token_id=18341, metadata=None),\n",
       "   PredictedToken(token=' Polish', prob=0.000942230224609375, logit=16.125, token_id=33084, metadata=None),\n",
       "   PredictedToken(token=' English', prob=0.000942230224609375, logit=16.125, token_id=6498, metadata=None),\n",
       "   PredictedToken(token=' Romania', prob=0.000942230224609375, logit=16.125, token_id=47149, metadata=None)]},\n",
       " {'query_entities': ('Elena Ionescu', 'Alexandru Popescu'),\n",
       "  'target': 'Romania',\n",
       "  'connection': 'Romanian',\n",
       "  'next_tok_probs': [PredictedToken(token=' Romanian', prob=0.9140625, logit=23.125, token_id=74697, metadata=None),\n",
       "   PredictedToken(token=' Russian', prob=0.021484375, logit=19.375, token_id=8690, metadata=None),\n",
       "   PredictedToken(token=' French', prob=0.021484375, logit=19.375, token_id=8753, metadata=None),\n",
       "   PredictedToken(token=' Italian', prob=0.00543212890625, logit=18.0, token_id=15155, metadata=None),\n",
       "   PredictedToken(token=' Hungarian', prob=0.004791259765625, logit=17.875, token_id=57869, metadata=None),\n",
       "   PredictedToken(token=' Roman', prob=0.004791259765625, logit=17.875, token_id=13041, metadata=None),\n",
       "   PredictedToken(token=' Bulgarian', prob=0.0037384033203125, logit=17.625, token_id=89724, metadata=None),\n",
       "   PredictedToken(token=' Ukrainian', prob=0.0032958984375, logit=17.5, token_id=34725, metadata=None),\n",
       "   PredictedToken(token=' German', prob=0.0025634765625, logit=17.25, token_id=6063, metadata=None),\n",
       "   PredictedToken(token=' Mold', prob=0.0025634765625, logit=17.25, token_id=55263, metadata=None),\n",
       "   PredictedToken(token=' Romania', prob=0.001373291015625, logit=16.625, token_id=47149, metadata=None),\n",
       "   PredictedToken(token=' Spanish', prob=0.001373291015625, logit=16.625, token_id=15506, metadata=None),\n",
       "   PredictedToken(token=' Greek', prob=0.00121307373046875, logit=16.5, token_id=18341, metadata=None),\n",
       "   PredictedToken(token=' Polish', prob=0.001068115234375, logit=16.375, token_id=33084, metadata=None),\n",
       "   PredictedToken(token=' English', prob=0.000946044921875, logit=16.25, token_id=6498, metadata=None)]},\n",
       " {'query_entities': ('António Costa', 'Isabel Ferreira'),\n",
       "  'target': 'Portugal',\n",
       "  'connection': 'Portuguese',\n",
       "  'next_tok_probs': [PredictedToken(token=' Portuguese', prob=0.84765625, logit=22.375, token_id=43288, metadata=None),\n",
       "   PredictedToken(token=' Spanish', prob=0.0615234375, logit=19.75, token_id=15506, metadata=None),\n",
       "   PredictedToken(token=' Brazilian', prob=0.032958984375, logit=19.125, token_id=36083, metadata=None),\n",
       "   PredictedToken(token=' Italian', prob=0.01068115234375, logit=18.0, token_id=15155, metadata=None),\n",
       "   PredictedToken(token=' French', prob=0.0093994140625, logit=17.875, token_id=8753, metadata=None),\n",
       "   PredictedToken(token=' German', prob=0.0064697265625, logit=17.5, token_id=6063, metadata=None),\n",
       "   PredictedToken(token=' European', prob=0.005035400390625, logit=17.25, token_id=7665, metadata=None),\n",
       "   PredictedToken(token=' English', prob=0.0030670166015625, logit=16.75, token_id=6498, metadata=None),\n",
       "   PredictedToken(token=' Irish', prob=0.00164031982421875, logit=16.125, token_id=18088, metadata=None),\n",
       "   PredictedToken(token=' British', prob=0.00164031982421875, logit=16.125, token_id=8013, metadata=None),\n",
       "   PredictedToken(token=' Both', prob=0.0013580322265625, logit=15.9375, token_id=11995, metadata=None),\n",
       "   PredictedToken(token=' Belgian', prob=0.00127410888671875, logit=15.875, token_id=49162, metadata=None),\n",
       "   PredictedToken(token=' Portugal', prob=0.00106048583984375, logit=15.6875, token_id=34411, metadata=None),\n",
       "   PredictedToken(token=' [', prob=0.000823974609375, logit=15.4375, token_id=510, metadata=None),\n",
       "   PredictedToken(token=' Dutch', prob=0.000728607177734375, logit=15.3125, token_id=24113, metadata=None)]},\n",
       " {'query_entities': ('Isabel Ferreira', 'António Costa'),\n",
       "  'target': 'Portugal',\n",
       "  'connection': 'Portuguese',\n",
       "  'next_tok_probs': [PredictedToken(token=' Portuguese', prob=0.82421875, logit=21.75, token_id=43288, metadata=None),\n",
       "   PredictedToken(token=' Brazilian', prob=0.052734375, logit=19.0, token_id=36083, metadata=None),\n",
       "   PredictedToken(token=' Spanish', prob=0.052734375, logit=19.0, token_id=15506, metadata=None),\n",
       "   PredictedToken(token=' Italian', prob=0.0133056640625, logit=17.625, token_id=15155, metadata=None),\n",
       "   PredictedToken(token=' German', prob=0.0103759765625, logit=17.375, token_id=6063, metadata=None),\n",
       "   PredictedToken(token=' French', prob=0.0091552734375, logit=17.25, token_id=8753, metadata=None),\n",
       "   PredictedToken(token=' English', prob=0.0048828125, logit=16.625, token_id=6498, metadata=None),\n",
       "   PredictedToken(token=' European', prob=0.0029754638671875, logit=16.125, token_id=7665, metadata=None),\n",
       "   PredictedToken(token=' Both', prob=0.00262451171875, logit=16.0, token_id=11995, metadata=None),\n",
       "   PredictedToken(token=' Irish', prob=0.002166748046875, logit=15.8125, token_id=18088, metadata=None),\n",
       "   PredictedToken(token=' British', prob=0.0016937255859375, logit=15.5625, token_id=8013, metadata=None),\n",
       "   PredictedToken(token=' [', prob=0.0015869140625, logit=15.5, token_id=510, metadata=None),\n",
       "   PredictedToken(token=' Portugal', prob=0.00140380859375, logit=15.375, token_id=34411, metadata=None),\n",
       "   PredictedToken(token=' Belgian', prob=0.000965118408203125, logit=15.0, token_id=49162, metadata=None),\n",
       "   PredictedToken(token=' Dutch', prob=0.000904083251953125, logit=14.9375, token_id=24113, metadata=None)]},\n",
       " {'query_entities': ('Kwame Mensah', 'Akosua Boateng'),\n",
       "  'target': 'Ghana',\n",
       "  'connection': 'Ghana',\n",
       "  'next_tok_probs': [PredictedToken(token=' Ghana', prob=0.69140625, logit=20.375, token_id=48668, metadata=None),\n",
       "   PredictedToken(token=' German', prob=0.064453125, logit=18.0, token_id=6063, metadata=None),\n",
       "   PredictedToken(token=' African', prob=0.0390625, logit=17.5, token_id=11904, metadata=None),\n",
       "   PredictedToken(token=' English', prob=0.0208740234375, logit=16.875, token_id=6498, metadata=None),\n",
       "   PredictedToken(token=' French', prob=0.0184326171875, logit=16.75, token_id=8753, metadata=None),\n",
       "   PredictedToken(token=' British', prob=0.0162353515625, logit=16.625, token_id=8013, metadata=None),\n",
       "   PredictedToken(token=' Dutch', prob=0.01116943359375, logit=16.25, token_id=24113, metadata=None),\n",
       "   PredictedToken(token=' Nigerian', prob=0.0098876953125, logit=16.125, token_id=55433, metadata=None),\n",
       "   PredictedToken(token=' Ethiopian', prob=0.004974365234375, logit=15.4375, token_id=96634, metadata=None),\n",
       "   PredictedToken(token=' A', prob=0.004669189453125, logit=15.375, token_id=362, metadata=None),\n",
       "   PredictedToken(token=' ', prob=0.00341796875, logit=15.0625, token_id=220, metadata=None),\n",
       "   PredictedToken(token=' American', prob=0.003204345703125, logit=15.0, token_id=3778, metadata=None),\n",
       "   PredictedToken(token=' Ash', prob=0.003204345703125, logit=15.0, token_id=14937, metadata=None),\n",
       "   PredictedToken(token=' Japanese', prob=0.0028228759765625, logit=14.875, token_id=11002, metadata=None),\n",
       "   PredictedToken(token=' West', prob=0.0028228759765625, logit=14.875, token_id=4410, metadata=None)]},\n",
       " {'query_entities': ('Akosua Boateng', 'Kwame Mensah'),\n",
       "  'target': 'Ghana',\n",
       "  'connection': 'Ghana',\n",
       "  'next_tok_probs': [PredictedToken(token=' Ghana', prob=0.4453125, logit=19.5, token_id=48668, metadata=None),\n",
       "   PredictedToken(token=' English', prob=0.07763671875, logit=17.75, token_id=6498, metadata=None),\n",
       "   PredictedToken(token=' German', prob=0.068359375, logit=17.625, token_id=6063, metadata=None),\n",
       "   PredictedToken(token=' Hungarian', prob=0.05322265625, logit=17.375, token_id=57869, metadata=None),\n",
       "   PredictedToken(token=' African', prob=0.03662109375, logit=17.0, token_id=11904, metadata=None),\n",
       "   PredictedToken(token=' Dutch', prob=0.0322265625, logit=16.875, token_id=24113, metadata=None),\n",
       "   PredictedToken(token=' French', prob=0.028564453125, logit=16.75, token_id=8753, metadata=None),\n",
       "   PredictedToken(token=' Nigerian', prob=0.0196533203125, logit=16.375, token_id=55433, metadata=None),\n",
       "   PredictedToken(token=' British', prob=0.0152587890625, logit=16.125, token_id=8013, metadata=None),\n",
       "   PredictedToken(token=' Japanese', prob=0.01116943359375, logit=15.8125, token_id=11002, metadata=None),\n",
       "   PredictedToken(token=' Italian', prob=0.00872802734375, logit=15.5625, token_id=15155, metadata=None),\n",
       "   PredictedToken(token=' American', prob=0.00677490234375, logit=15.3125, token_id=3778, metadata=None),\n",
       "   PredictedToken(token=' Swedish', prob=0.00677490234375, logit=15.3125, token_id=31209, metadata=None),\n",
       "   PredictedToken(token=' Spanish', prob=0.006378173828125, logit=15.25, token_id=15506, metadata=None),\n",
       "   PredictedToken(token=' [', prob=0.0059814453125, logit=15.1875, token_id=510, metadata=None)]},\n",
       " {'query_entities': ('Ole Hansen', 'Ingrid Olsen'),\n",
       "  'target': 'Norway',\n",
       "  'connection': 'Norwegian',\n",
       "  'next_tok_probs': [PredictedToken(token=' Norwegian', prob=0.484375, logit=21.75, token_id=45721, metadata=None),\n",
       "   PredictedToken(token=' Danish', prob=0.376953125, logit=21.5, token_id=44780, metadata=None),\n",
       "   PredictedToken(token=' German', prob=0.045166015625, logit=19.375, token_id=6063, metadata=None),\n",
       "   PredictedToken(token=' Swedish', prob=0.018798828125, logit=18.5, token_id=31209, metadata=None),\n",
       "   PredictedToken(token=' Scandinavian', prob=0.0166015625, logit=18.375, token_id=85674, metadata=None),\n",
       "   PredictedToken(token=' Icelandic', prob=0.01141357421875, logit=18.0, token_id=100248, metadata=None),\n",
       "   PredictedToken(token=' English', prob=0.00421142578125, logit=17.0, token_id=6498, metadata=None),\n",
       "   PredictedToken(token=' Dutch', prob=0.003265380859375, logit=16.75, token_id=24113, metadata=None),\n",
       "   PredictedToken(token=' French', prob=0.0028839111328125, logit=16.625, token_id=8753, metadata=None),\n",
       "   PredictedToken(token=' Russian', prob=0.0022430419921875, logit=16.375, token_id=8690, metadata=None),\n",
       "   PredictedToken(token=' Dane', prob=0.001983642578125, logit=16.25, token_id=80972, metadata=None),\n",
       "   PredictedToken(token=' Nordic', prob=0.001983642578125, logit=16.25, token_id=64466, metadata=None),\n",
       "   PredictedToken(token=' Both', prob=0.00174713134765625, logit=16.125, token_id=11995, metadata=None),\n",
       "   PredictedToken(token=' Spanish', prob=0.00128173828125, logit=15.8125, token_id=15506, metadata=None),\n",
       "   PredictedToken(token=' Polish', prob=0.0012054443359375, logit=15.75, token_id=33084, metadata=None)]},\n",
       " {'query_entities': ('Michael Johnson', 'Jennifer Davis'),\n",
       "  'target': 'United States',\n",
       "  'connection': 'American',\n",
       "  'next_tok_probs': [PredictedToken(token=' American', prob=0.396484375, logit=21.125, token_id=3778, metadata=None),\n",
       "   PredictedToken(token=' English', prob=0.1650390625, logit=20.25, token_id=6498, metadata=None),\n",
       "   PredictedToken(token=' German', prob=0.078125, logit=19.5, token_id=6063, metadata=None),\n",
       "   PredictedToken(token=' Italian', prob=0.041748046875, logit=18.875, token_id=15155, metadata=None),\n",
       "   PredictedToken(token=' British', prob=0.036865234375, logit=18.75, token_id=8013, metadata=None),\n",
       "   PredictedToken(token=' French', prob=0.036865234375, logit=18.75, token_id=8753, metadata=None),\n",
       "   PredictedToken(token=' African', prob=0.0252685546875, logit=18.375, token_id=11904, metadata=None),\n",
       "   PredictedToken(token=' Korean', prob=0.0223388671875, logit=18.25, token_id=16526, metadata=None),\n",
       "   PredictedToken(token=' Chinese', prob=0.0135498046875, logit=17.75, token_id=8620, metadata=None),\n",
       "   PredictedToken(token=' Japanese', prob=0.0135498046875, logit=17.75, token_id=11002, metadata=None),\n",
       "   PredictedToken(token=' Irish', prob=0.011962890625, logit=17.625, token_id=18088, metadata=None),\n",
       "   PredictedToken(token=' Russian', prob=0.01055908203125, logit=17.5, token_id=8690, metadata=None),\n",
       "   PredictedToken(token=' Mexican', prob=0.00927734375, logit=17.375, token_id=24160, metadata=None),\n",
       "   PredictedToken(token=' Dutch', prob=0.00927734375, logit=17.375, token_id=24113, metadata=None),\n",
       "   PredictedToken(token=' Indian', prob=0.007232666015625, logit=17.125, token_id=7904, metadata=None)]},\n",
       " {'query_entities': ('Jennifer Davis', 'Michael Johnson'),\n",
       "  'target': 'United States',\n",
       "  'connection': 'American',\n",
       "  'next_tok_probs': [PredictedToken(token=' American', prob=0.349609375, logit=20.875, token_id=3778, metadata=None),\n",
       "   PredictedToken(token=' English', prob=0.1875, logit=20.25, token_id=6498, metadata=None),\n",
       "   PredictedToken(token=' German', prob=0.06884765625, logit=19.25, token_id=6063, metadata=None),\n",
       "   PredictedToken(token=' Italian', prob=0.04736328125, logit=18.875, token_id=15155, metadata=None),\n",
       "   PredictedToken(token=' French', prob=0.04736328125, logit=18.875, token_id=8753, metadata=None),\n",
       "   PredictedToken(token=' British', prob=0.036865234375, logit=18.625, token_id=8013, metadata=None),\n",
       "   PredictedToken(token=' Korean', prob=0.032470703125, logit=18.5, token_id=16526, metadata=None),\n",
       "   PredictedToken(token=' African', prob=0.0223388671875, logit=18.125, token_id=11904, metadata=None),\n",
       "   PredictedToken(token=' Japanese', prob=0.0174560546875, logit=17.875, token_id=11002, metadata=None),\n",
       "   PredictedToken(token=' Russian', prob=0.0135498046875, logit=17.625, token_id=8690, metadata=None),\n",
       "   PredictedToken(token=' Dutch', prob=0.011962890625, logit=17.5, token_id=24113, metadata=None),\n",
       "   PredictedToken(token=' Spanish', prob=0.011962890625, logit=17.5, token_id=15506, metadata=None),\n",
       "   PredictedToken(token=' Irish', prob=0.01055908203125, logit=17.375, token_id=18088, metadata=None),\n",
       "   PredictedToken(token=' Chinese', prob=0.01055908203125, logit=17.375, token_id=8620, metadata=None),\n",
       "   PredictedToken(token=' Mexican', prob=0.00823974609375, logit=17.125, token_id=24160, metadata=None)]},\n",
       " {'query_entities': ('James Mitchell', 'Sophie Evans'),\n",
       "  'target': 'United Kingdom',\n",
       "  'connection': 'English',\n",
       "  'next_tok_probs': [PredictedToken(token=' English', prob=0.337890625, logit=21.0, token_id=6498, metadata=None),\n",
       "   PredictedToken(token=' French', prob=0.140625, logit=20.125, token_id=8753, metadata=None),\n",
       "   PredictedToken(token=' British', prob=0.140625, logit=20.125, token_id=8013, metadata=None),\n",
       "   PredictedToken(token=' German', prob=0.06640625, logit=19.375, token_id=6063, metadata=None),\n",
       "   PredictedToken(token=' American', prob=0.0517578125, logit=19.125, token_id=3778, metadata=None),\n",
       "   PredictedToken(token=' Irish', prob=0.03564453125, logit=18.75, token_id=18088, metadata=None),\n",
       "   PredictedToken(token=' Italian', prob=0.031494140625, logit=18.625, token_id=15155, metadata=None),\n",
       "   PredictedToken(token=' Scottish', prob=0.0277099609375, logit=18.5, token_id=27188, metadata=None),\n",
       "   PredictedToken(token=' Russian', prob=0.0244140625, logit=18.375, token_id=8690, metadata=None),\n",
       "   PredictedToken(token=' Australian', prob=0.01483154296875, logit=17.875, token_id=13673, metadata=None),\n",
       "   PredictedToken(token=' Spanish', prob=0.01019287109375, logit=17.5, token_id=15506, metadata=None),\n",
       "   PredictedToken(token=' Dutch', prob=0.01019287109375, logit=17.5, token_id=24113, metadata=None),\n",
       "   PredictedToken(token=' Welsh', prob=0.0079345703125, logit=17.25, token_id=46881, metadata=None),\n",
       "   PredictedToken(token=' Polish', prob=0.0079345703125, logit=17.25, token_id=33084, metadata=None),\n",
       "   PredictedToken(token=' Japanese', prob=0.00616455078125, logit=17.0, token_id=11002, metadata=None)]},\n",
       " {'query_entities': ('Sophie Evans', 'James Mitchell'),\n",
       "  'target': 'United Kingdom',\n",
       "  'connection': 'English',\n",
       "  'next_tok_probs': [PredictedToken(token=' English', prob=0.33984375, logit=21.125, token_id=6498, metadata=None),\n",
       "   PredictedToken(token=' French', prob=0.2060546875, logit=20.625, token_id=8753, metadata=None),\n",
       "   PredictedToken(token=' British', prob=0.1416015625, logit=20.25, token_id=8013, metadata=None),\n",
       "   PredictedToken(token=' German', prob=0.058837890625, logit=19.375, token_id=6063, metadata=None),\n",
       "   PredictedToken(token=' Scottish', prob=0.04052734375, logit=19.0, token_id=27188, metadata=None),\n",
       "   PredictedToken(token=' Irish', prob=0.03564453125, logit=18.875, token_id=18088, metadata=None),\n",
       "   PredictedToken(token=' Welsh', prob=0.031494140625, logit=18.75, token_id=46881, metadata=None),\n",
       "   PredictedToken(token=' American', prob=0.021728515625, logit=18.375, token_id=3778, metadata=None),\n",
       "   PredictedToken(token=' Italian', prob=0.016845703125, logit=18.125, token_id=15155, metadata=None),\n",
       "   PredictedToken(token=' Polish', prob=0.01312255859375, logit=17.875, token_id=33084, metadata=None),\n",
       "   PredictedToken(token=' Belgian', prob=0.0115966796875, logit=17.75, token_id=49162, metadata=None),\n",
       "   PredictedToken(token=' Spanish', prob=0.007049560546875, logit=17.25, token_id=15506, metadata=None),\n",
       "   PredictedToken(token=' Dutch', prob=0.007049560546875, logit=17.25, token_id=24113, metadata=None),\n",
       "   PredictedToken(token=' Russian', prob=0.0054931640625, logit=17.0, token_id=8690, metadata=None),\n",
       "   PredictedToken(token=' Australian', prob=0.004852294921875, logit=16.875, token_id=13673, metadata=None)]},\n",
       " {'query_entities': ('Pablo Garcia', 'Laura Fernandez'),\n",
       "  'target': 'Spain',\n",
       "  'connection': 'Spanish',\n",
       "  'next_tok_probs': [PredictedToken(token=' Spanish', prob=0.890625, logit=22.375, token_id=15506, metadata=None),\n",
       "   PredictedToken(token=' Mexican', prob=0.044189453125, logit=19.375, token_id=24160, metadata=None),\n",
       "   PredictedToken(token=' English', prob=0.00677490234375, logit=17.5, token_id=6498, metadata=None),\n",
       "   PredictedToken(token=' Italian', prob=0.00677490234375, logit=17.5, token_id=15155, metadata=None),\n",
       "   PredictedToken(token=' Colombian', prob=0.0059814453125, logit=17.375, token_id=84653, metadata=None),\n",
       "   PredictedToken(token=' Argentine', prob=0.005279541015625, logit=17.25, token_id=82822, metadata=None),\n",
       "   PredictedToken(token=' Cuban', prob=0.004119873046875, logit=17.0, token_id=44810, metadata=None),\n",
       "   PredictedToken(token=' German', prob=0.004119873046875, logit=17.0, token_id=6063, metadata=None),\n",
       "   PredictedToken(token=' Hispanic', prob=0.003631591796875, logit=16.875, token_id=41985, metadata=None),\n",
       "   PredictedToken(token=' Latin', prob=0.0028228759765625, logit=16.625, token_id=20023, metadata=None),\n",
       "   PredictedToken(token=' French', prob=0.002197265625, logit=16.375, token_id=8753, metadata=None),\n",
       "   PredictedToken(token=' American', prob=0.0015106201171875, logit=16.0, token_id=3778, metadata=None),\n",
       "   PredictedToken(token=' Both', prob=0.0015106201171875, logit=16.0, token_id=11995, metadata=None),\n",
       "   PredictedToken(token=' Latino', prob=0.00133514404296875, logit=15.875, token_id=44862, metadata=None),\n",
       "   PredictedToken(token=' Puerto', prob=0.000919342041015625, logit=15.5, token_id=31319, metadata=None)]},\n",
       " {'query_entities': ('Laura Fernandez', 'Pablo Garcia'),\n",
       "  'target': 'Spain',\n",
       "  'connection': 'Spanish',\n",
       "  'next_tok_probs': [PredictedToken(token=' Spanish', prob=0.8359375, logit=22.125, token_id=15506, metadata=None),\n",
       "   PredictedToken(token=' Mexican', prob=0.053466796875, logit=19.375, token_id=24160, metadata=None),\n",
       "   PredictedToken(token=' Italian', prob=0.0196533203125, logit=18.375, token_id=15155, metadata=None),\n",
       "   PredictedToken(token=' English', prob=0.01055908203125, logit=17.75, token_id=6498, metadata=None),\n",
       "   PredictedToken(token=' German', prob=0.0081787109375, logit=17.5, token_id=6063, metadata=None),\n",
       "   PredictedToken(token=' Hispanic', prob=0.007232666015625, logit=17.375, token_id=41985, metadata=None),\n",
       "   PredictedToken(token=' Colombian', prob=0.006378173828125, logit=17.25, token_id=84653, metadata=None),\n",
       "   PredictedToken(token=' Argentine', prob=0.006378173828125, logit=17.25, token_id=82822, metadata=None),\n",
       "   PredictedToken(token=' French', prob=0.004974365234375, logit=17.0, token_id=8753, metadata=None),\n",
       "   PredictedToken(token=' Latin', prob=0.00439453125, logit=16.875, token_id=20023, metadata=None),\n",
       "   PredictedToken(token=' Cuban', prob=0.00439453125, logit=16.875, token_id=44810, metadata=None),\n",
       "   PredictedToken(token=' American', prob=0.00439453125, logit=16.875, token_id=3778, metadata=None),\n",
       "   PredictedToken(token=' Both', prob=0.0018310546875, logit=16.0, token_id=11995, metadata=None),\n",
       "   PredictedToken(token=' Korean', prob=0.001617431640625, logit=15.875, token_id=16526, metadata=None),\n",
       "   PredictedToken(token=' Latino', prob=0.00142669677734375, logit=15.75, token_id=44862, metadata=None)]},\n",
       " {'query_entities': ('Ivan Petrov', 'Natasha Ivanova'),\n",
       "  'target': 'Russia',\n",
       "  'connection': 'Russian',\n",
       "  'next_tok_probs': [PredictedToken(token=' Russian', prob=0.9140625, logit=21.5, token_id=8690, metadata=None),\n",
       "   PredictedToken(token=' Ukrainian', prob=0.0147705078125, logit=17.375, token_id=34725, metadata=None),\n",
       "   PredictedToken(token=' German', prob=0.00897216796875, logit=16.875, token_id=6063, metadata=None),\n",
       "   PredictedToken(token=' Bulgarian', prob=0.00616455078125, logit=16.5, token_id=89724, metadata=None),\n",
       "   PredictedToken(token=' Italian', prob=0.00543212890625, logit=16.375, token_id=15155, metadata=None),\n",
       "   PredictedToken(token=' Both', prob=0.004241943359375, logit=16.125, token_id=11995, metadata=None),\n",
       "   PredictedToken(token=' French', prob=0.0027313232421875, logit=15.6875, token_id=8753, metadata=None),\n",
       "   PredictedToken(token=' Serbian', prob=0.0027313232421875, logit=15.6875, token_id=88264, metadata=None),\n",
       "   PredictedToken(token=' Soviet', prob=0.0025634765625, logit=15.625, token_id=19953, metadata=None),\n",
       "   PredictedToken(token=' U', prob=0.0025634765625, logit=15.625, token_id=549, metadata=None),\n",
       "   PredictedToken(token=' Sl', prob=0.0022735595703125, logit=15.5, token_id=6995, metadata=None),\n",
       "   PredictedToken(token=' both', prob=0.00177001953125, logit=15.25, token_id=2225, metadata=None),\n",
       "   PredictedToken(token=' Eastern', prob=0.001556396484375, logit=15.125, token_id=18516, metadata=None),\n",
       "   PredictedToken(token=' English', prob=0.00128936767578125, logit=14.9375, token_id=6498, metadata=None),\n",
       "   PredictedToken(token=' [', prob=0.00128936767578125, logit=14.9375, token_id=510, metadata=None)]},\n",
       " {'query_entities': ('Natasha Ivanova', 'Ivan Petrov'),\n",
       "  'target': 'Russia',\n",
       "  'connection': 'Russian',\n",
       "  'next_tok_probs': [PredictedToken(token=' Russian', prob=0.92578125, logit=21.5, token_id=8690, metadata=None),\n",
       "   PredictedToken(token=' Ukrainian', prob=0.01495361328125, logit=17.375, token_id=34725, metadata=None),\n",
       "   PredictedToken(token=' Both', prob=0.0062255859375, logit=16.5, token_id=11995, metadata=None),\n",
       "   PredictedToken(token=' German', prob=0.0054931640625, logit=16.375, token_id=6063, metadata=None),\n",
       "   PredictedToken(token=' French', prob=0.004852294921875, logit=16.25, token_id=8753, metadata=None),\n",
       "   PredictedToken(token=' Italian', prob=0.0042724609375, logit=16.125, token_id=15155, metadata=None),\n",
       "   PredictedToken(token=' Bulgarian', prob=0.0033416748046875, logit=15.875, token_id=89724, metadata=None),\n",
       "   PredictedToken(token=' both', prob=0.0027618408203125, logit=15.6875, token_id=2225, metadata=None),\n",
       "   PredictedToken(token=' Soviet', prob=0.0020294189453125, logit=15.375, token_id=19953, metadata=None),\n",
       "   PredictedToken(token=' U', prob=0.0017852783203125, logit=15.25, token_id=549, metadata=None),\n",
       "   PredictedToken(token=' Eastern', prob=0.001678466796875, logit=15.1875, token_id=18516, metadata=None),\n",
       "   PredictedToken(token=' [', prob=0.0014801025390625, logit=15.0625, token_id=510, metadata=None),\n",
       "   PredictedToken(token=' English', prob=0.00115203857421875, logit=14.8125, token_id=6498, metadata=None),\n",
       "   PredictedToken(token=' American', prob=0.00115203857421875, logit=14.8125, token_id=3778, metadata=None),\n",
       "   PredictedToken(token=' Sl', prob=0.00115203857421875, logit=14.8125, token_id=6995, metadata=None)]},\n",
       " {'query_entities': ('Ali Rezaei', 'Zahra Hosseini'),\n",
       "  'target': 'Iran',\n",
       "  'connection': 'Persian',\n",
       "  'next_tok_probs': [PredictedToken(token=' Persian', prob=0.640625, logit=21.625, token_id=50961, metadata=None),\n",
       "   PredictedToken(token=' Iranian', prob=0.267578125, logit=20.75, token_id=28501, metadata=None),\n",
       "   PredictedToken(token=' German', prob=0.02197265625, logit=18.25, token_id=6063, metadata=None),\n",
       "   PredictedToken(token=' French', prob=0.008056640625, logit=17.25, token_id=8753, metadata=None),\n",
       "   PredictedToken(token=' F', prob=0.00714111328125, logit=17.125, token_id=435, metadata=None),\n",
       "   PredictedToken(token=' Italian', prob=0.00628662109375, logit=17.0, token_id=15155, metadata=None),\n",
       "   PredictedToken(token=' Turkish', prob=0.003814697265625, logit=16.5, token_id=24666, metadata=None),\n",
       "   PredictedToken(token=' English', prob=0.0033721923828125, logit=16.375, token_id=6498, metadata=None),\n",
       "   PredictedToken(token=' Afghan', prob=0.00262451171875, logit=16.125, token_id=17214, metadata=None),\n",
       "   PredictedToken(token=' Pers', prob=0.00262451171875, logit=16.125, token_id=21097, metadata=None),\n",
       "   PredictedToken(token=' Kurdish', prob=0.002044677734375, logit=15.875, token_id=42740, metadata=None),\n",
       "   PredictedToken(token=' Indian', prob=0.002044677734375, logit=15.875, token_id=7904, metadata=None),\n",
       "   PredictedToken(token=' Iran', prob=0.001800537109375, logit=15.75, token_id=10471, metadata=None),\n",
       "   PredictedToken(token=' Russian', prob=0.00140380859375, logit=15.5, token_id=8690, metadata=None),\n",
       "   PredictedToken(token=' ', prob=0.00109100341796875, logit=15.25, token_id=220, metadata=None)]},\n",
       " {'query_entities': ('Zahra Hosseini', 'Ali Rezaei'),\n",
       "  'target': 'Iran',\n",
       "  'connection': 'Persian',\n",
       "  'next_tok_probs': [PredictedToken(token=' Persian', prob=0.478515625, logit=21.125, token_id=50961, metadata=None),\n",
       "   PredictedToken(token=' Iranian', prob=0.373046875, logit=20.875, token_id=28501, metadata=None),\n",
       "   PredictedToken(token=' French', prob=0.02099609375, logit=18.0, token_id=8753, metadata=None),\n",
       "   PredictedToken(token=' German', prob=0.02099609375, logit=18.0, token_id=6063, metadata=None),\n",
       "   PredictedToken(token=' Italian', prob=0.016357421875, logit=17.75, token_id=15155, metadata=None),\n",
       "   PredictedToken(token=' Turkish', prob=0.014404296875, logit=17.625, token_id=24666, metadata=None),\n",
       "   PredictedToken(token=' Indian', prob=0.007720947265625, logit=17.0, token_id=7904, metadata=None),\n",
       "   PredictedToken(token=' Kurdish', prob=0.004119873046875, logit=16.375, token_id=42740, metadata=None),\n",
       "   PredictedToken(token=' Russian', prob=0.004119873046875, logit=16.375, token_id=8690, metadata=None),\n",
       "   PredictedToken(token=' English', prob=0.004119873046875, logit=16.375, token_id=6498, metadata=None),\n",
       "   PredictedToken(token=' Afghan', prob=0.004119873046875, logit=16.375, token_id=17214, metadata=None),\n",
       "   PredictedToken(token=' Arabic', prob=0.002838134765625, logit=16.0, token_id=35217, metadata=None),\n",
       "   PredictedToken(token=' Pakistani', prob=0.00250244140625, logit=15.875, token_id=45552, metadata=None),\n",
       "   PredictedToken(token=' Pers', prob=0.0020751953125, logit=15.6875, token_id=21097, metadata=None),\n",
       "   PredictedToken(token=' F', prob=0.0020751953125, logit=15.6875, token_id=435, metadata=None)]},\n",
       " {'query_entities': ('Rachel Levy', 'David Cohen'),\n",
       "  'target': 'Israel',\n",
       "  'connection': 'Israeli',\n",
       "  'next_tok_probs': [PredictedToken(token=' Israeli', prob=0.185546875, logit=19.25, token_id=16286, metadata=None),\n",
       "   PredictedToken(token=' French', prob=0.1279296875, logit=18.875, token_id=8753, metadata=None),\n",
       "   PredictedToken(token=' Russian', prob=0.11279296875, logit=18.75, token_id=8690, metadata=None),\n",
       "   PredictedToken(token=' German', prob=0.087890625, logit=18.5, token_id=6063, metadata=None),\n",
       "   PredictedToken(token=' American', prob=0.087890625, logit=18.5, token_id=3778, metadata=None),\n",
       "   PredictedToken(token=' English', prob=0.07763671875, logit=18.375, token_id=6498, metadata=None),\n",
       "   PredictedToken(token=' Italian', prob=0.060302734375, logit=18.125, token_id=15155, metadata=None),\n",
       "   PredictedToken(token=' Jewish', prob=0.03662109375, logit=17.625, token_id=13653, metadata=None),\n",
       "   PredictedToken(token=' Hebrew', prob=0.0284423828125, logit=17.375, token_id=37366, metadata=None),\n",
       "   PredictedToken(token=' Polish', prob=0.0284423828125, logit=17.375, token_id=33084, metadata=None),\n",
       "   PredictedToken(token=' British', prob=0.013427734375, logit=16.625, token_id=8013, metadata=None),\n",
       "   PredictedToken(token=' Spanish', prob=0.00927734375, logit=16.25, token_id=15506, metadata=None),\n",
       "   PredictedToken(token=' Dutch', prob=0.00927734375, logit=16.25, token_id=24113, metadata=None),\n",
       "   PredictedToken(token=' Ukrainian', prob=0.0072021484375, logit=16.0, token_id=34725, metadata=None),\n",
       "   PredictedToken(token=' Both', prob=0.00634765625, logit=15.875, token_id=11995, metadata=None)]}]"
      ]
     },
     "execution_count": 36,
     "metadata": {},
     "output_type": "execute_result"
    }
   ],
   "source": [
    "from src.functional import is_nontrivial_prefix, predict_next_token, any_is_nontrivial_prefix\n",
    "from src.utils.metrics import countries_match\n",
    "from src.probing.prompt import prepare_probing_input\n",
    "\n",
    "\n",
    "def is_accurate(top_prediction: str, target: str) -> bool:\n",
    "    \"\"\"\n",
    "    Check if the top prediction matches the target country.\n",
    "    \n",
    "    This handles various country name formats including:\n",
    "    - Demonyms (e.g., \"Pakistani\" matches \"Pakistan\")\n",
    "    - Different country name forms (e.g., \"US\" matches \"United States\")\n",
    "    - Bidirectional matching for flexibility\n",
    "    \n",
    "    Args:\n",
    "        top_prediction: The predicted country/nationality\n",
    "        target: The target country name\n",
    "        \n",
    "    Returns:\n",
    "        True if the prediction matches the target\n",
    "    \"\"\"\n",
    "    # Use the country matching logic which already handles bidirectional cases\n",
    "    # and various country name formats\n",
    "    return countries_match(top_prediction, target)\n",
    "\n",
    "correct_connections = {}\n",
    "\n",
    "total = 0\n",
    "accurate = 0\n",
    "for attr, attr_results in results.items():\n",
    "    correct_connections[attr] = []\n",
    "    for sample_res in attr_results[\"results\"]:\n",
    "        target = sample_res[\"target\"]\n",
    "        top_prediction = sample_res[\"next_tok_probs\"][0].token\n",
    "        total += 1\n",
    "        if is_accurate(top_prediction=top_prediction, target=target):\n",
    "            correct_connections[attr].append(sample_res)\n",
    "            accurate += 1\n",
    "\n",
    "print(f\"Accuracy: {accurate/total}\")\n",
    "\n",
    "correct_connections[\"nationality\"]"
   ]
  },
  {
   "cell_type": "code",
   "execution_count": null,
   "metadata": {},
   "outputs": [],
   "source": []
  }
 ],
 "metadata": {
  "kernelspec": {
   "display_name": "retrieval2",
   "language": "python",
   "name": "python3"
  },
  "language_info": {
   "codemirror_mode": {
    "name": "ipython",
    "version": 3
   },
   "file_extension": ".py",
   "mimetype": "text/x-python",
   "name": "python",
   "nbconvert_exporter": "python",
   "pygments_lexer": "ipython3",
   "version": "3.10.16"
  }
 },
 "nbformat": 4,
 "nbformat_minor": 2
}
