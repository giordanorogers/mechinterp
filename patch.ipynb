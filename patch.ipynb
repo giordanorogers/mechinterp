{
 "cells": [
  {
   "cell_type": "code",
   "execution_count": 6,
   "metadata": {},
   "outputs": [
    {
     "name": "stdout",
     "output_type": "stream",
     "text": [
      "The autoreload extension is already loaded. To reload it, use:\n",
      "  %reload_ext autoreload\n"
     ]
    }
   ],
   "source": [
    "%load_ext autoreload\n",
    "%autoreload 2"
   ]
  },
  {
   "cell_type": "code",
   "execution_count": 7,
   "metadata": {},
   "outputs": [
    {
     "name": "stdout",
     "output_type": "stream",
     "text": [
      "Requirement already satisfied: torch in /opt/miniconda3/envs/retrieval-env/lib/python3.11/site-packages (2.7.0)\n",
      "Requirement already satisfied: transformers in /opt/miniconda3/envs/retrieval-env/lib/python3.11/site-packages (4.51.3)\n",
      "Requirement already satisfied: accelerate in /opt/miniconda3/envs/retrieval-env/lib/python3.11/site-packages (1.6.0)\n",
      "Requirement already satisfied: nnsight in /opt/miniconda3/envs/retrieval-env/lib/python3.11/site-packages (0.4.6)\n",
      "Requirement already satisfied: filelock in /opt/miniconda3/envs/retrieval-env/lib/python3.11/site-packages (from torch) (3.18.0)\n",
      "Requirement already satisfied: typing-extensions>=4.10.0 in /opt/miniconda3/envs/retrieval-env/lib/python3.11/site-packages (from torch) (4.13.2)\n",
      "Requirement already satisfied: sympy>=1.13.3 in /opt/miniconda3/envs/retrieval-env/lib/python3.11/site-packages (from torch) (1.14.0)\n",
      "Requirement already satisfied: networkx in /opt/miniconda3/envs/retrieval-env/lib/python3.11/site-packages (from torch) (3.4.2)\n",
      "Requirement already satisfied: jinja2 in /opt/miniconda3/envs/retrieval-env/lib/python3.11/site-packages (from torch) (3.1.6)\n",
      "Requirement already satisfied: fsspec in /opt/miniconda3/envs/retrieval-env/lib/python3.11/site-packages (from torch) (2025.3.2)\n",
      "Requirement already satisfied: huggingface-hub<1.0,>=0.30.0 in /opt/miniconda3/envs/retrieval-env/lib/python3.11/site-packages (from transformers) (0.33.0)\n",
      "Requirement already satisfied: numpy>=1.17 in /opt/miniconda3/envs/retrieval-env/lib/python3.11/site-packages (from transformers) (2.2.5)\n",
      "Requirement already satisfied: packaging>=20.0 in /opt/miniconda3/envs/retrieval-env/lib/python3.11/site-packages (from transformers) (25.0)\n",
      "Requirement already satisfied: pyyaml>=5.1 in /opt/miniconda3/envs/retrieval-env/lib/python3.11/site-packages (from transformers) (6.0.2)\n",
      "Requirement already satisfied: regex!=2019.12.17 in /opt/miniconda3/envs/retrieval-env/lib/python3.11/site-packages (from transformers) (2024.11.6)\n",
      "Requirement already satisfied: requests in /opt/miniconda3/envs/retrieval-env/lib/python3.11/site-packages (from transformers) (2.32.3)\n",
      "Requirement already satisfied: tokenizers<0.22,>=0.21 in /opt/miniconda3/envs/retrieval-env/lib/python3.11/site-packages (from transformers) (0.21.1)\n",
      "Requirement already satisfied: safetensors>=0.4.3 in /opt/miniconda3/envs/retrieval-env/lib/python3.11/site-packages (from transformers) (0.5.3)\n",
      "Requirement already satisfied: tqdm>=4.27 in /opt/miniconda3/envs/retrieval-env/lib/python3.11/site-packages (from transformers) (4.67.1)\n",
      "Requirement already satisfied: hf-xet<2.0.0,>=1.1.2 in /opt/miniconda3/envs/retrieval-env/lib/python3.11/site-packages (from huggingface-hub<1.0,>=0.30.0->transformers) (1.1.5)\n",
      "Requirement already satisfied: psutil in /opt/miniconda3/envs/retrieval-env/lib/python3.11/site-packages (from accelerate) (7.0.0)\n",
      "Requirement already satisfied: protobuf in /opt/miniconda3/envs/retrieval-env/lib/python3.11/site-packages (from nnsight) (6.30.2)\n",
      "Requirement already satisfied: python-socketio[client] in /opt/miniconda3/envs/retrieval-env/lib/python3.11/site-packages (from nnsight) (5.13.0)\n",
      "Requirement already satisfied: pydantic>=2.9.0 in /opt/miniconda3/envs/retrieval-env/lib/python3.11/site-packages (from nnsight) (2.11.4)\n",
      "Requirement already satisfied: sentencepiece in /opt/miniconda3/envs/retrieval-env/lib/python3.11/site-packages (from nnsight) (0.2.0)\n",
      "Requirement already satisfied: torchvision in /opt/miniconda3/envs/retrieval-env/lib/python3.11/site-packages (from nnsight) (0.22.0)\n",
      "Requirement already satisfied: diffusers in /opt/miniconda3/envs/retrieval-env/lib/python3.11/site-packages (from nnsight) (0.33.1)\n",
      "Requirement already satisfied: einops in /opt/miniconda3/envs/retrieval-env/lib/python3.11/site-packages (from nnsight) (0.8.1)\n",
      "Requirement already satisfied: msgspec in /opt/miniconda3/envs/retrieval-env/lib/python3.11/site-packages (from nnsight) (0.19.0)\n",
      "Requirement already satisfied: toml in /opt/miniconda3/envs/retrieval-env/lib/python3.11/site-packages (from nnsight) (0.10.2)\n",
      "Requirement already satisfied: ipython in /opt/miniconda3/envs/retrieval-env/lib/python3.11/site-packages (from nnsight) (9.2.0)\n",
      "Requirement already satisfied: annotated-types>=0.6.0 in /opt/miniconda3/envs/retrieval-env/lib/python3.11/site-packages (from pydantic>=2.9.0->nnsight) (0.7.0)\n",
      "Requirement already satisfied: pydantic-core==2.33.2 in /opt/miniconda3/envs/retrieval-env/lib/python3.11/site-packages (from pydantic>=2.9.0->nnsight) (2.33.2)\n",
      "Requirement already satisfied: typing-inspection>=0.4.0 in /opt/miniconda3/envs/retrieval-env/lib/python3.11/site-packages (from pydantic>=2.9.0->nnsight) (0.4.0)\n",
      "Requirement already satisfied: mpmath<1.4,>=1.1.0 in /opt/miniconda3/envs/retrieval-env/lib/python3.11/site-packages (from sympy>=1.13.3->torch) (1.3.0)\n",
      "Requirement already satisfied: importlib-metadata in /opt/miniconda3/envs/retrieval-env/lib/python3.11/site-packages (from diffusers->nnsight) (8.7.0)\n",
      "Requirement already satisfied: Pillow in /opt/miniconda3/envs/retrieval-env/lib/python3.11/site-packages (from diffusers->nnsight) (11.2.1)\n",
      "Requirement already satisfied: zipp>=3.20 in /opt/miniconda3/envs/retrieval-env/lib/python3.11/site-packages (from importlib-metadata->diffusers->nnsight) (3.21.0)\n",
      "Requirement already satisfied: decorator in /opt/miniconda3/envs/retrieval-env/lib/python3.11/site-packages (from ipython->nnsight) (5.2.1)\n",
      "Requirement already satisfied: ipython-pygments-lexers in /opt/miniconda3/envs/retrieval-env/lib/python3.11/site-packages (from ipython->nnsight) (1.1.1)\n",
      "Requirement already satisfied: jedi>=0.16 in /opt/miniconda3/envs/retrieval-env/lib/python3.11/site-packages (from ipython->nnsight) (0.19.2)\n",
      "Requirement already satisfied: matplotlib-inline in /opt/miniconda3/envs/retrieval-env/lib/python3.11/site-packages (from ipython->nnsight) (0.1.7)\n",
      "Requirement already satisfied: pexpect>4.3 in /opt/miniconda3/envs/retrieval-env/lib/python3.11/site-packages (from ipython->nnsight) (4.9.0)\n",
      "Requirement already satisfied: prompt_toolkit<3.1.0,>=3.0.41 in /opt/miniconda3/envs/retrieval-env/lib/python3.11/site-packages (from ipython->nnsight) (3.0.51)\n",
      "Requirement already satisfied: pygments>=2.4.0 in /opt/miniconda3/envs/retrieval-env/lib/python3.11/site-packages (from ipython->nnsight) (2.19.1)\n",
      "Requirement already satisfied: stack_data in /opt/miniconda3/envs/retrieval-env/lib/python3.11/site-packages (from ipython->nnsight) (0.6.3)\n",
      "Requirement already satisfied: traitlets>=5.13.0 in /opt/miniconda3/envs/retrieval-env/lib/python3.11/site-packages (from ipython->nnsight) (5.14.3)\n",
      "Requirement already satisfied: wcwidth in /opt/miniconda3/envs/retrieval-env/lib/python3.11/site-packages (from prompt_toolkit<3.1.0,>=3.0.41->ipython->nnsight) (0.2.13)\n",
      "Requirement already satisfied: parso<0.9.0,>=0.8.4 in /opt/miniconda3/envs/retrieval-env/lib/python3.11/site-packages (from jedi>=0.16->ipython->nnsight) (0.8.4)\n",
      "Requirement already satisfied: ptyprocess>=0.5 in /opt/miniconda3/envs/retrieval-env/lib/python3.11/site-packages (from pexpect>4.3->ipython->nnsight) (0.7.0)\n",
      "Requirement already satisfied: MarkupSafe>=2.0 in /opt/miniconda3/envs/retrieval-env/lib/python3.11/site-packages (from jinja2->torch) (3.0.2)\n",
      "Requirement already satisfied: bidict>=0.21.0 in /opt/miniconda3/envs/retrieval-env/lib/python3.11/site-packages (from python-socketio[client]->nnsight) (0.23.1)\n",
      "Requirement already satisfied: python-engineio>=4.11.0 in /opt/miniconda3/envs/retrieval-env/lib/python3.11/site-packages (from python-socketio[client]->nnsight) (4.12.0)\n",
      "Requirement already satisfied: websocket-client>=0.54.0 in /opt/miniconda3/envs/retrieval-env/lib/python3.11/site-packages (from python-socketio[client]->nnsight) (1.8.0)\n",
      "Requirement already satisfied: simple-websocket>=0.10.0 in /opt/miniconda3/envs/retrieval-env/lib/python3.11/site-packages (from python-engineio>=4.11.0->python-socketio[client]->nnsight) (1.1.0)\n",
      "Requirement already satisfied: charset-normalizer<4,>=2 in /opt/miniconda3/envs/retrieval-env/lib/python3.11/site-packages (from requests->transformers) (3.4.1)\n",
      "Requirement already satisfied: idna<4,>=2.5 in /opt/miniconda3/envs/retrieval-env/lib/python3.11/site-packages (from requests->transformers) (3.10)\n",
      "Requirement already satisfied: urllib3<3,>=1.21.1 in /opt/miniconda3/envs/retrieval-env/lib/python3.11/site-packages (from requests->transformers) (2.4.0)\n",
      "Requirement already satisfied: certifi>=2017.4.17 in /opt/miniconda3/envs/retrieval-env/lib/python3.11/site-packages (from requests->transformers) (2025.4.26)\n",
      "Requirement already satisfied: wsproto in /opt/miniconda3/envs/retrieval-env/lib/python3.11/site-packages (from simple-websocket>=0.10.0->python-engineio>=4.11.0->python-socketio[client]->nnsight) (1.2.0)\n",
      "Requirement already satisfied: executing>=1.2.0 in /opt/miniconda3/envs/retrieval-env/lib/python3.11/site-packages (from stack_data->ipython->nnsight) (2.2.0)\n",
      "Requirement already satisfied: asttokens>=2.1.0 in /opt/miniconda3/envs/retrieval-env/lib/python3.11/site-packages (from stack_data->ipython->nnsight) (3.0.0)\n",
      "Requirement already satisfied: pure-eval in /opt/miniconda3/envs/retrieval-env/lib/python3.11/site-packages (from stack_data->ipython->nnsight) (0.2.3)\n",
      "Requirement already satisfied: h11<1,>=0.9.0 in /opt/miniconda3/envs/retrieval-env/lib/python3.11/site-packages (from wsproto->simple-websocket>=0.10.0->python-engineio>=4.11.0->python-socketio[client]->nnsight) (0.16.0)\n",
      "Note: you may need to restart the kernel to use updated packages.\n",
      "Requirement already satisfied: openai in /opt/miniconda3/envs/retrieval-env/lib/python3.11/site-packages (1.76.2)\n",
      "Requirement already satisfied: anthropic in /opt/miniconda3/envs/retrieval-env/lib/python3.11/site-packages (0.50.0)\n",
      "Requirement already satisfied: anyio<5,>=3.5.0 in /opt/miniconda3/envs/retrieval-env/lib/python3.11/site-packages (from openai) (4.9.0)\n",
      "Requirement already satisfied: distro<2,>=1.7.0 in /opt/miniconda3/envs/retrieval-env/lib/python3.11/site-packages (from openai) (1.9.0)\n",
      "Requirement already satisfied: httpx<1,>=0.23.0 in /opt/miniconda3/envs/retrieval-env/lib/python3.11/site-packages (from openai) (0.28.1)\n",
      "Requirement already satisfied: jiter<1,>=0.4.0 in /opt/miniconda3/envs/retrieval-env/lib/python3.11/site-packages (from openai) (0.9.0)\n",
      "Requirement already satisfied: pydantic<3,>=1.9.0 in /opt/miniconda3/envs/retrieval-env/lib/python3.11/site-packages (from openai) (2.11.4)\n",
      "Requirement already satisfied: sniffio in /opt/miniconda3/envs/retrieval-env/lib/python3.11/site-packages (from openai) (1.3.1)\n",
      "Requirement already satisfied: tqdm>4 in /opt/miniconda3/envs/retrieval-env/lib/python3.11/site-packages (from openai) (4.67.1)\n",
      "Requirement already satisfied: typing-extensions<5,>=4.11 in /opt/miniconda3/envs/retrieval-env/lib/python3.11/site-packages (from openai) (4.13.2)\n",
      "Requirement already satisfied: idna>=2.8 in /opt/miniconda3/envs/retrieval-env/lib/python3.11/site-packages (from anyio<5,>=3.5.0->openai) (3.10)\n",
      "Requirement already satisfied: certifi in /opt/miniconda3/envs/retrieval-env/lib/python3.11/site-packages (from httpx<1,>=0.23.0->openai) (2025.4.26)\n",
      "Requirement already satisfied: httpcore==1.* in /opt/miniconda3/envs/retrieval-env/lib/python3.11/site-packages (from httpx<1,>=0.23.0->openai) (1.0.9)\n",
      "Requirement already satisfied: h11>=0.16 in /opt/miniconda3/envs/retrieval-env/lib/python3.11/site-packages (from httpcore==1.*->httpx<1,>=0.23.0->openai) (0.16.0)\n",
      "Requirement already satisfied: annotated-types>=0.6.0 in /opt/miniconda3/envs/retrieval-env/lib/python3.11/site-packages (from pydantic<3,>=1.9.0->openai) (0.7.0)\n",
      "Requirement already satisfied: pydantic-core==2.33.2 in /opt/miniconda3/envs/retrieval-env/lib/python3.11/site-packages (from pydantic<3,>=1.9.0->openai) (2.33.2)\n",
      "Requirement already satisfied: typing-inspection>=0.4.0 in /opt/miniconda3/envs/retrieval-env/lib/python3.11/site-packages (from pydantic<3,>=1.9.0->openai) (0.4.0)\n",
      "Note: you may need to restart the kernel to use updated packages.\n",
      "Requirement already satisfied: numpy in /opt/miniconda3/envs/retrieval-env/lib/python3.11/site-packages (2.2.5)\n",
      "Requirement already satisfied: PyYAML in /opt/miniconda3/envs/retrieval-env/lib/python3.11/site-packages (6.0.2)\n",
      "Requirement already satisfied: tqdm in /opt/miniconda3/envs/retrieval-env/lib/python3.11/site-packages (4.67.1)\n",
      "Requirement already satisfied: dataclasses-json in /opt/miniconda3/envs/retrieval-env/lib/python3.11/site-packages (0.6.7)\n",
      "Requirement already satisfied: matplotlib in /opt/miniconda3/envs/retrieval-env/lib/python3.11/site-packages (3.10.1)\n",
      "Requirement already satisfied: nltk in /opt/miniconda3/envs/retrieval-env/lib/python3.11/site-packages (3.9.1)\n",
      "Requirement already satisfied: wandb in /opt/miniconda3/envs/retrieval-env/lib/python3.11/site-packages (0.19.11)\n",
      "Requirement already satisfied: marshmallow<4.0.0,>=3.18.0 in /opt/miniconda3/envs/retrieval-env/lib/python3.11/site-packages (from dataclasses-json) (3.26.1)\n",
      "Requirement already satisfied: typing-inspect<1,>=0.4.0 in /opt/miniconda3/envs/retrieval-env/lib/python3.11/site-packages (from dataclasses-json) (0.9.0)\n",
      "Requirement already satisfied: packaging>=17.0 in /opt/miniconda3/envs/retrieval-env/lib/python3.11/site-packages (from marshmallow<4.0.0,>=3.18.0->dataclasses-json) (25.0)\n",
      "Requirement already satisfied: mypy-extensions>=0.3.0 in /opt/miniconda3/envs/retrieval-env/lib/python3.11/site-packages (from typing-inspect<1,>=0.4.0->dataclasses-json) (1.1.0)\n",
      "Requirement already satisfied: typing-extensions>=3.7.4 in /opt/miniconda3/envs/retrieval-env/lib/python3.11/site-packages (from typing-inspect<1,>=0.4.0->dataclasses-json) (4.13.2)\n",
      "Requirement already satisfied: contourpy>=1.0.1 in /opt/miniconda3/envs/retrieval-env/lib/python3.11/site-packages (from matplotlib) (1.3.2)\n",
      "Requirement already satisfied: cycler>=0.10 in /opt/miniconda3/envs/retrieval-env/lib/python3.11/site-packages (from matplotlib) (0.12.1)\n",
      "Requirement already satisfied: fonttools>=4.22.0 in /opt/miniconda3/envs/retrieval-env/lib/python3.11/site-packages (from matplotlib) (4.57.0)\n",
      "Requirement already satisfied: kiwisolver>=1.3.1 in /opt/miniconda3/envs/retrieval-env/lib/python3.11/site-packages (from matplotlib) (1.4.8)\n",
      "Requirement already satisfied: pillow>=8 in /opt/miniconda3/envs/retrieval-env/lib/python3.11/site-packages (from matplotlib) (11.2.1)\n",
      "Requirement already satisfied: pyparsing>=2.3.1 in /opt/miniconda3/envs/retrieval-env/lib/python3.11/site-packages (from matplotlib) (3.2.3)\n",
      "Requirement already satisfied: python-dateutil>=2.7 in /opt/miniconda3/envs/retrieval-env/lib/python3.11/site-packages (from matplotlib) (2.9.0.post0)\n",
      "Requirement already satisfied: click in /opt/miniconda3/envs/retrieval-env/lib/python3.11/site-packages (from nltk) (8.1.8)\n",
      "Requirement already satisfied: joblib in /opt/miniconda3/envs/retrieval-env/lib/python3.11/site-packages (from nltk) (1.4.2)\n",
      "Requirement already satisfied: regex>=2021.8.3 in /opt/miniconda3/envs/retrieval-env/lib/python3.11/site-packages (from nltk) (2024.11.6)\n",
      "Requirement already satisfied: docker-pycreds>=0.4.0 in /opt/miniconda3/envs/retrieval-env/lib/python3.11/site-packages (from wandb) (0.4.0)\n",
      "Requirement already satisfied: gitpython!=3.1.29,>=1.0.0 in /opt/miniconda3/envs/retrieval-env/lib/python3.11/site-packages (from wandb) (3.1.44)\n",
      "Requirement already satisfied: platformdirs in /opt/miniconda3/envs/retrieval-env/lib/python3.11/site-packages (from wandb) (4.3.7)\n",
      "Requirement already satisfied: protobuf!=4.21.0,!=5.28.0,<7,>=3.19.0 in /opt/miniconda3/envs/retrieval-env/lib/python3.11/site-packages (from wandb) (6.30.2)\n",
      "Requirement already satisfied: psutil>=5.0.0 in /opt/miniconda3/envs/retrieval-env/lib/python3.11/site-packages (from wandb) (7.0.0)\n",
      "Requirement already satisfied: pydantic<3 in /opt/miniconda3/envs/retrieval-env/lib/python3.11/site-packages (from wandb) (2.11.4)\n",
      "Requirement already satisfied: requests<3,>=2.0.0 in /opt/miniconda3/envs/retrieval-env/lib/python3.11/site-packages (from wandb) (2.32.3)\n",
      "Requirement already satisfied: sentry-sdk>=2.0.0 in /opt/miniconda3/envs/retrieval-env/lib/python3.11/site-packages (from wandb) (2.29.1)\n",
      "Requirement already satisfied: setproctitle in /opt/miniconda3/envs/retrieval-env/lib/python3.11/site-packages (from wandb) (1.3.6)\n",
      "Requirement already satisfied: setuptools in /opt/miniconda3/envs/retrieval-env/lib/python3.11/site-packages (from wandb) (78.1.1)\n",
      "Requirement already satisfied: annotated-types>=0.6.0 in /opt/miniconda3/envs/retrieval-env/lib/python3.11/site-packages (from pydantic<3->wandb) (0.7.0)\n",
      "Requirement already satisfied: pydantic-core==2.33.2 in /opt/miniconda3/envs/retrieval-env/lib/python3.11/site-packages (from pydantic<3->wandb) (2.33.2)\n",
      "Requirement already satisfied: typing-inspection>=0.4.0 in /opt/miniconda3/envs/retrieval-env/lib/python3.11/site-packages (from pydantic<3->wandb) (0.4.0)\n",
      "Requirement already satisfied: charset-normalizer<4,>=2 in /opt/miniconda3/envs/retrieval-env/lib/python3.11/site-packages (from requests<3,>=2.0.0->wandb) (3.4.1)\n",
      "Requirement already satisfied: idna<4,>=2.5 in /opt/miniconda3/envs/retrieval-env/lib/python3.11/site-packages (from requests<3,>=2.0.0->wandb) (3.10)\n",
      "Requirement already satisfied: urllib3<3,>=1.21.1 in /opt/miniconda3/envs/retrieval-env/lib/python3.11/site-packages (from requests<3,>=2.0.0->wandb) (2.4.0)\n",
      "Requirement already satisfied: certifi>=2017.4.17 in /opt/miniconda3/envs/retrieval-env/lib/python3.11/site-packages (from requests<3,>=2.0.0->wandb) (2025.4.26)\n",
      "Requirement already satisfied: six>=1.4.0 in /opt/miniconda3/envs/retrieval-env/lib/python3.11/site-packages (from docker-pycreds>=0.4.0->wandb) (1.17.0)\n",
      "Requirement already satisfied: gitdb<5,>=4.0.1 in /opt/miniconda3/envs/retrieval-env/lib/python3.11/site-packages (from gitpython!=3.1.29,>=1.0.0->wandb) (4.0.12)\n",
      "Requirement already satisfied: smmap<6,>=3.0.1 in /opt/miniconda3/envs/retrieval-env/lib/python3.11/site-packages (from gitdb<5,>=4.0.1->gitpython!=3.1.29,>=1.0.0->wandb) (5.0.2)\n",
      "Note: you may need to restart the kernel to use updated packages.\n",
      "Collecting git+https://github.com/davidbau/baukit.git\n",
      "  Cloning https://github.com/davidbau/baukit.git to /private/var/folders/34/ry_tht6x6q30sxjdtvzmzxr80000gn/T/pip-req-build-17hnzk1f\n",
      "  Running command git clone --filter=blob:none --quiet https://github.com/davidbau/baukit.git /private/var/folders/34/ry_tht6x6q30sxjdtvzmzxr80000gn/T/pip-req-build-17hnzk1f\n",
      "  Resolved https://github.com/davidbau/baukit.git to commit 9d51abd51ebf29769aecc38c4cbef459b731a36e\n",
      "  Installing build dependencies ... \u001b[?25ldone\n",
      "\u001b[?25h  Getting requirements to build wheel ... \u001b[?25ldone\n",
      "\u001b[?25h  Preparing metadata (pyproject.toml) ... \u001b[?25ldone\n",
      "\u001b[?25hRequirement already satisfied: numpy in /opt/miniconda3/envs/retrieval-env/lib/python3.11/site-packages (from baukit==0.0.1) (2.2.5)\n",
      "Requirement already satisfied: torch in /opt/miniconda3/envs/retrieval-env/lib/python3.11/site-packages (from baukit==0.0.1) (2.7.0)\n",
      "Requirement already satisfied: torchvision in /opt/miniconda3/envs/retrieval-env/lib/python3.11/site-packages (from baukit==0.0.1) (0.22.0)\n",
      "Requirement already satisfied: filelock in /opt/miniconda3/envs/retrieval-env/lib/python3.11/site-packages (from torch->baukit==0.0.1) (3.18.0)\n",
      "Requirement already satisfied: typing-extensions>=4.10.0 in /opt/miniconda3/envs/retrieval-env/lib/python3.11/site-packages (from torch->baukit==0.0.1) (4.13.2)\n",
      "Requirement already satisfied: sympy>=1.13.3 in /opt/miniconda3/envs/retrieval-env/lib/python3.11/site-packages (from torch->baukit==0.0.1) (1.14.0)\n",
      "Requirement already satisfied: networkx in /opt/miniconda3/envs/retrieval-env/lib/python3.11/site-packages (from torch->baukit==0.0.1) (3.4.2)\n",
      "Requirement already satisfied: jinja2 in /opt/miniconda3/envs/retrieval-env/lib/python3.11/site-packages (from torch->baukit==0.0.1) (3.1.6)\n",
      "Requirement already satisfied: fsspec in /opt/miniconda3/envs/retrieval-env/lib/python3.11/site-packages (from torch->baukit==0.0.1) (2025.3.2)\n",
      "Requirement already satisfied: mpmath<1.4,>=1.1.0 in /opt/miniconda3/envs/retrieval-env/lib/python3.11/site-packages (from sympy>=1.13.3->torch->baukit==0.0.1) (1.3.0)\n",
      "Requirement already satisfied: MarkupSafe>=2.0 in /opt/miniconda3/envs/retrieval-env/lib/python3.11/site-packages (from jinja2->torch->baukit==0.0.1) (3.0.2)\n",
      "Requirement already satisfied: pillow!=8.3.*,>=5.3.0 in /opt/miniconda3/envs/retrieval-env/lib/python3.11/site-packages (from torchvision->baukit==0.0.1) (11.2.1)\n",
      "Note: you may need to restart the kernel to use updated packages.\n",
      "Requirement already satisfied: circuitsvis in /opt/miniconda3/envs/retrieval-env/lib/python3.11/site-packages (1.43.3)\n",
      "Requirement already satisfied: importlib-metadata>=5.1.0 in /opt/miniconda3/envs/retrieval-env/lib/python3.11/site-packages (from circuitsvis) (8.7.0)\n",
      "Requirement already satisfied: numpy>=1.24 in /opt/miniconda3/envs/retrieval-env/lib/python3.11/site-packages (from circuitsvis) (2.2.5)\n",
      "Requirement already satisfied: torch>=2.1.1 in /opt/miniconda3/envs/retrieval-env/lib/python3.11/site-packages (from circuitsvis) (2.7.0)\n",
      "Requirement already satisfied: zipp>=3.20 in /opt/miniconda3/envs/retrieval-env/lib/python3.11/site-packages (from importlib-metadata>=5.1.0->circuitsvis) (3.21.0)\n",
      "Requirement already satisfied: filelock in /opt/miniconda3/envs/retrieval-env/lib/python3.11/site-packages (from torch>=2.1.1->circuitsvis) (3.18.0)\n",
      "Requirement already satisfied: typing-extensions>=4.10.0 in /opt/miniconda3/envs/retrieval-env/lib/python3.11/site-packages (from torch>=2.1.1->circuitsvis) (4.13.2)\n",
      "Requirement already satisfied: sympy>=1.13.3 in /opt/miniconda3/envs/retrieval-env/lib/python3.11/site-packages (from torch>=2.1.1->circuitsvis) (1.14.0)\n",
      "Requirement already satisfied: networkx in /opt/miniconda3/envs/retrieval-env/lib/python3.11/site-packages (from torch>=2.1.1->circuitsvis) (3.4.2)\n",
      "Requirement already satisfied: jinja2 in /opt/miniconda3/envs/retrieval-env/lib/python3.11/site-packages (from torch>=2.1.1->circuitsvis) (3.1.6)\n",
      "Requirement already satisfied: fsspec in /opt/miniconda3/envs/retrieval-env/lib/python3.11/site-packages (from torch>=2.1.1->circuitsvis) (2025.3.2)\n",
      "Requirement already satisfied: mpmath<1.4,>=1.1.0 in /opt/miniconda3/envs/retrieval-env/lib/python3.11/site-packages (from sympy>=1.13.3->torch>=2.1.1->circuitsvis) (1.3.0)\n",
      "Requirement already satisfied: MarkupSafe>=2.0 in /opt/miniconda3/envs/retrieval-env/lib/python3.11/site-packages (from jinja2->torch>=2.1.1->circuitsvis) (3.0.2)\n",
      "Note: you may need to restart the kernel to use updated packages.\n"
     ]
    }
   ],
   "source": [
    "%pip install torch transformers accelerate nnsight\n",
    "%pip install openai anthropic  # For LLM APIs if needed\n",
    "%pip install numpy PyYAML tqdm dataclasses-json matplotlib nltk wandb\n",
    "%pip install git+https://github.com/davidbau/baukit.git  # Critical for model interventions\n",
    "%pip install circuitsvis  # For attention visualizations"
   ]
  },
  {
   "cell_type": "code",
   "execution_count": 8,
   "metadata": {},
   "outputs": [],
   "source": [
    "from src.models import ModelandTokenizer"
   ]
  },
  {
   "cell_type": "code",
   "execution_count": 9,
   "metadata": {},
   "outputs": [
    {
     "name": "stderr",
     "output_type": "stream",
     "text": [
      "Some parameters are on the meta device because they were offloaded to the disk.\n"
     ]
    }
   ],
   "source": [
    "# Use a smaller model initially\n",
    "model_key = \"meta-llama/Llama-3.2-1B\"  # Instead of 70B\n",
    "mt = ModelandTokenizer(model_key=model_key)"
   ]
  },
  {
   "cell_type": "code",
   "execution_count": 10,
   "metadata": {},
   "outputs": [
    {
     "name": "stdout",
     "output_type": "stream",
     "text": [
      "Available actors: ['Adam Driver', 'Samuel L. Jackson', 'Zoe Saldana', 'Liam Neeson', 'Elizabeth Taylor', 'Humphrey Bogart', 'Russell Crowe', 'Christopher Walken', 'Brad Pitt', 'Donald Sutherland']\n"
     ]
    }
   ],
   "source": [
    "import json\n",
    "target_attribute = \"profession\"\n",
    "\n",
    "with open(f\"data_save/probe/{target_attribute}/actors.json\") as f:\n",
    "    actor_data = json.load(f)\n",
    "\n",
    "# Check what entities are available\n",
    "print(f\"Available actors: {actor_data['entities'][:10]}\")"
   ]
  },
  {
   "cell_type": "code",
   "execution_count": 14,
   "metadata": {},
   "outputs": [
    {
     "name": "stdout",
     "output_type": "stream",
     "text": [
      "output.keys(: odict_keys(['last_hidden_state', 'past_key_values', 'attentions'])\n",
      "logits.shape: torch.Size([128256])\n",
      "Attention matrix shape: (16, 32, 5, 5)\n",
      "Tokens: ['<|begin_of_text|>', 'Adam', ' Driver', ' is', ' an']\n"
     ]
    }
   ],
   "source": [
    "from src.attention import get_attention_matrices\n",
    "\n",
    "prompt = \"Adam Driver is an\"\n",
    "attn_info = get_attention_matrices(prompt, mt)\n",
    "\n",
    "print(f\"Attention matrix shape: {attn_info.attention_matrices.shape}\")\n",
    "print(f\"Tokens: {attn_info.tokenized_prompt}\")"
   ]
  },
  {
   "cell_type": "code",
   "execution_count": null,
   "metadata": {},
   "outputs": [],
   "source": []
  }
 ],
 "metadata": {
  "kernelspec": {
   "display_name": "retrieval-env",
   "language": "python",
   "name": "python3"
  },
  "language_info": {
   "codemirror_mode": {
    "name": "ipython",
    "version": 3
   },
   "file_extension": ".py",
   "mimetype": "text/x-python",
   "name": "python",
   "nbconvert_exporter": "python",
   "pygments_lexer": "ipython3",
   "version": "3.11.11"
  }
 },
 "nbformat": 4,
 "nbformat_minor": 2
}
