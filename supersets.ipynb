{
 "cells": [
  {
   "cell_type": "code",
   "execution_count": 1,
   "metadata": {},
   "outputs": [],
   "source": [
    "%load_ext autoreload\n",
    "%autoreload 2"
   ]
  },
  {
   "cell_type": "code",
   "execution_count": 2,
   "metadata": {},
   "outputs": [
    {
     "name": "stdout",
     "output_type": "stream",
     "text": [
      "2025-06-27 22:16:10 __main__ INFO     torch.__version__='2.7.1+cu126', torch.version.cuda='12.6'\n",
      "2025-06-27 22:16:10 __main__ INFO     torch.cuda.is_available()=True, torch.cuda.device_count()=8, torch.cuda.get_device_name()='NVIDIA A100 80GB PCIe'\n",
      "2025-06-27 22:16:10 __main__ INFO     transformers.__version__='4.53.0'\n"
     ]
    }
   ],
   "source": [
    "import os\n",
    "import json\n",
    "\n",
    "import sys\n",
    "\n",
    "sys.path.append(\"../\")\n",
    "\n",
    "##################################################################\n",
    "os.environ[\"TOKENIZERS_PARALLELISM\"] = \"false\"\n",
    "os.environ[\"CUDA_VISIBLE_DEVICES\"] = \"0,1,2,3,4,5,6,7\" #! NOTE: CHANGE TO 0,1 FOR VAST AI\n",
    "##################################################################\n",
    "\n",
    "import logging\n",
    "from src.utils import logging_utils\n",
    "from src.utils import env_utils\n",
    "\n",
    "logger = logging.getLogger(__name__)\n",
    "\n",
    "logging.basicConfig(\n",
    "    level=logging.DEBUG,\n",
    "    format=logging_utils.DEFAULT_FORMAT,\n",
    "    datefmt=logging_utils.DEFAULT_DATEFMT,\n",
    "    stream=sys.stdout,\n",
    ")\n",
    "\n",
    "import torch\n",
    "os.environ[\"TRANSFORMERS_VERBOSITY\"] = \"error\"\n",
    "import transformers\n",
    "\n",
    "logger.info(f\"{torch.__version__=}, {torch.version.cuda=}\")\n",
    "logger.info(\n",
    "    f\"{torch.cuda.is_available()=}, {torch.cuda.device_count()=}, {torch.cuda.get_device_name()=}\"\n",
    ")\n",
    "logger.info(f\"{transformers.__version__=}\")"
   ]
  },
  {
   "cell_type": "code",
   "execution_count": 3,
   "metadata": {},
   "outputs": [
    {
     "name": "stdout",
     "output_type": "stream",
     "text": [
      "2025-06-27 22:16:19 git.cmd DEBUG    Popen(['git', 'version'], cwd=/disk/u/gio/mechinterp, stdin=None, shell=False, universal_newlines=False)\n",
      "2025-06-27 22:16:19 git.cmd DEBUG    Popen(['git', 'version'], cwd=/disk/u/gio/mechinterp, stdin=None, shell=False, universal_newlines=False)\n",
      "x: 42\n",
      "y: hello\n"
     ]
    },
    {
     "data": {
      "text/plain": [
       "{'model.embed_tokens': 7,\n",
       " 'model.norm': 7,\n",
       " 'model.rotary_emb': 7,\n",
       " 'lm_head': 7,\n",
       " 'model.layers.0': 0,\n",
       " 'model.layers.1': 1,\n",
       " 'model.layers.2': 2,\n",
       " 'model.layers.3': 3,\n",
       " 'model.layers.4': 4,\n",
       " 'model.layers.5': 5,\n",
       " 'model.layers.6': 6,\n",
       " 'model.layers.7': 7,\n",
       " 'model.layers.8': 0,\n",
       " 'model.layers.9': 1,\n",
       " 'model.layers.10': 2,\n",
       " 'model.layers.11': 3,\n",
       " 'model.layers.12': 4,\n",
       " 'model.layers.13': 5,\n",
       " 'model.layers.14': 6,\n",
       " 'model.layers.15': 7,\n",
       " 'model.layers.16': 0,\n",
       " 'model.layers.17': 1,\n",
       " 'model.layers.18': 2,\n",
       " 'model.layers.19': 3,\n",
       " 'model.layers.20': 4,\n",
       " 'model.layers.21': 5,\n",
       " 'model.layers.22': 6,\n",
       " 'model.layers.23': 7,\n",
       " 'model.layers.24': 0,\n",
       " 'model.layers.25': 1,\n",
       " 'model.layers.26': 2,\n",
       " 'model.layers.27': 3,\n",
       " 'model.layers.28': 4,\n",
       " 'model.layers.29': 5,\n",
       " 'model.layers.30': 0,\n",
       " 'model.layers.31': 1,\n",
       " 'model.layers.32': 2,\n",
       " 'model.layers.33': 3,\n",
       " 'model.layers.34': 4,\n",
       " 'model.layers.35': 5,\n",
       " 'model.layers.36': 6,\n",
       " 'model.layers.37': 7,\n",
       " 'model.layers.38': 0,\n",
       " 'model.layers.39': 1,\n",
       " 'model.layers.40': 2,\n",
       " 'model.layers.41': 3,\n",
       " 'model.layers.42': 4,\n",
       " 'model.layers.43': 5,\n",
       " 'model.layers.44': 6,\n",
       " 'model.layers.45': 7,\n",
       " 'model.layers.46': 0,\n",
       " 'model.layers.47': 1,\n",
       " 'model.layers.48': 2,\n",
       " 'model.layers.49': 3,\n",
       " 'model.layers.50': 4,\n",
       " 'model.layers.51': 5,\n",
       " 'model.layers.52': 6,\n",
       " 'model.layers.53': 7,\n",
       " 'model.layers.54': 0,\n",
       " 'model.layers.55': 1,\n",
       " 'model.layers.56': 2,\n",
       " 'model.layers.57': 3,\n",
       " 'model.layers.58': 4,\n",
       " 'model.layers.59': 5,\n",
       " 'model.layers.60': 6,\n",
       " 'model.layers.61': 7,\n",
       " 'model.layers.62': 0,\n",
       " 'model.layers.63': 1,\n",
       " 'model.layers.64': 2,\n",
       " 'model.layers.65': 3,\n",
       " 'model.layers.66': 4,\n",
       " 'model.layers.67': 5,\n",
       " 'model.layers.68': 6,\n",
       " 'model.layers.69': 7,\n",
       " 'model.layers.70': 0,\n",
       " 'model.layers.71': 1,\n",
       " 'model.layers.72': 2,\n",
       " 'model.layers.73': 3,\n",
       " 'model.layers.74': 4,\n",
       " 'model.layers.75': 5,\n",
       " 'model.layers.76': 6,\n",
       " 'model.layers.77': 7,\n",
       " 'model.layers.78': 0,\n",
       " 'model.layers.79': 1}"
      ]
     },
     "execution_count": 3,
     "metadata": {},
     "output_type": "execute_result"
    }
   ],
   "source": [
    "from src.utils.training_utils import get_device_map\n",
    "\n",
    "model_key = \"meta-llama/Llama-3.3-70B-Instruct\"\n",
    "\n",
    "device_map = get_device_map(model_key, 30, n_gpus=8) #! NOTE: CHANGE n_gpus=2 FOR VAST AI\n",
    "device_map"
   ]
  },
  {
   "cell_type": "code",
   "execution_count": 5,
   "metadata": {},
   "outputs": [
    {
     "data": {
      "text/plain": [
       "'/disk/u/gio/mechinterp'"
      ]
     },
     "execution_count": 5,
     "metadata": {},
     "output_type": "execute_result"
    }
   ],
   "source": [
    "os.getcwd()\n",
    "#os.chdir(\"./mechinterp\")\n",
    "#os.getcwd()"
   ]
  },
  {
   "cell_type": "code",
   "execution_count": 6,
   "metadata": {},
   "outputs": [
    {
     "data": {
      "application/vnd.jupyter.widget-view+json": {
       "model_id": "600895715c2e4f979a4aa5678c224d33",
       "version_major": 2,
       "version_minor": 0
      },
      "text/plain": [
       "Loading checkpoint shards:   0%|          | 0/30 [00:00<?, ?it/s]"
      ]
     },
     "metadata": {},
     "output_type": "display_data"
    },
    {
     "name": "stdout",
     "output_type": "stream",
     "text": [
      "2025-06-27 22:17:37 src.models INFO     loaded model <models/meta-llama/Llama-3.3-70B-Instruct> | size: 134570.516 MB | dtype: torch.bfloat16 | device: cuda:0\n"
     ]
    }
   ],
   "source": [
    "from src.models import ModelandTokenizer\n",
    "from transformers import BitsAndBytesConfig\n",
    "\n",
    "mt = ModelandTokenizer(\n",
    "    model_key=model_key,\n",
    "    torch_dtype=torch.bfloat16,\n",
    "    # device_map=device_map,\n",
    "    device_map=\"auto\",\n",
    "    #quantization_config = BitsAndBytesConfig(\n",
    "    #    # load_in_4bit=True\n",
    "    #    #load_in_8bit=True\n",
    "    #)\n",
    ")"
   ]
  },
  {
   "cell_type": "code",
   "execution_count": 7,
   "metadata": {},
   "outputs": [
    {
     "data": {
      "text/plain": [
       "'/disk/u/gio'"
      ]
     },
     "execution_count": 7,
     "metadata": {},
     "output_type": "execute_result"
    }
   ],
   "source": [
    "os.getcwd()\n",
    "os.chdir(\"../\")\n",
    "os.getcwd()"
   ]
  },
  {
   "cell_type": "code",
   "execution_count": 8,
   "metadata": {},
   "outputs": [
    {
     "name": "stdout",
     "output_type": "stream",
     "text": [
      "['trainable_params.pt']\n"
     ]
    },
    {
     "data": {
      "text/plain": [
       "tensor(0.0010, dtype=torch.bfloat16, grad_fn=<MaxBackward1>)"
      ]
     },
     "execution_count": 8,
     "metadata": {},
     "output_type": "execute_result"
    }
   ],
   "source": [
    "from src.functional import free_gpu_cache\n",
    "\n",
    "SYNTH_DATASET = \"test_72\"\n",
    "\n",
    "#checkpoint_path = os.path.join(\n",
    "#    \"results\",\n",
    "#    \"trained_params\",\n",
    "#    f\"test_72\",\n",
    "#    \"_full__clamp=0.001\", \n",
    "#    model_key.split(\"/\")[-1],\n",
    "#    \"epoch_1\"\n",
    "#)\n",
    "\n",
    "#checkpoint_path = \"results/trained_params/test_72/_full__clamp=0.001/Llama-3.3-70B-Instruct/epoch_1/\"\n",
    "checkpoint_path = \"trained_models/_full__clamp=0.001/Llama-3.3-70B-Instruct/epoch_1/\"\n",
    "\n",
    "print(os.listdir(checkpoint_path))\n",
    "\n",
    "checkpoint_path = os.path.join(checkpoint_path, \"trainable_params.pt\")\n",
    "\n",
    "loaded_deltas = torch.load(checkpoint_path, map_location=\"cpu\")\n",
    "\n",
    "free_gpu_cache()\n",
    "\n",
    "d = loaded_deltas['model<>layers<>10<>mlp<>gate_proj']\n",
    "d.abs().max()"
   ]
  },
  {
   "cell_type": "code",
   "execution_count": 9,
   "metadata": {},
   "outputs": [
    {
     "name": "stdout",
     "output_type": "stream",
     "text": [
      "2025-06-27 22:18:04 src.utils.training_utils DEBUG    module_name='model.layers.0.mlp.gate_proj' | param_delta.shape=torch.Size([28672, 8192])\n",
      "2025-06-27 22:18:04 src.utils.training_utils DEBUG    module_name='model.layers.0.mlp.up_proj' | param_delta.shape=torch.Size([28672, 8192])\n",
      "2025-06-27 22:18:05 src.utils.training_utils DEBUG    module_name='model.layers.0.mlp.down_proj' | param_delta.shape=torch.Size([8192, 28672])\n",
      "2025-06-27 22:18:05 src.utils.training_utils DEBUG    module_name='model.layers.1.mlp.gate_proj' | param_delta.shape=torch.Size([28672, 8192])\n",
      "2025-06-27 22:18:05 src.utils.training_utils DEBUG    module_name='model.layers.1.mlp.up_proj' | param_delta.shape=torch.Size([28672, 8192])\n",
      "2025-06-27 22:18:05 src.utils.training_utils DEBUG    module_name='model.layers.1.mlp.down_proj' | param_delta.shape=torch.Size([8192, 28672])\n",
      "2025-06-27 22:18:05 src.utils.training_utils DEBUG    module_name='model.layers.2.mlp.gate_proj' | param_delta.shape=torch.Size([28672, 8192])\n",
      "2025-06-27 22:18:05 src.utils.training_utils DEBUG    module_name='model.layers.2.mlp.up_proj' | param_delta.shape=torch.Size([28672, 8192])\n",
      "2025-06-27 22:18:05 src.utils.training_utils DEBUG    module_name='model.layers.2.mlp.down_proj' | param_delta.shape=torch.Size([8192, 28672])\n",
      "2025-06-27 22:18:05 src.utils.training_utils DEBUG    module_name='model.layers.3.mlp.gate_proj' | param_delta.shape=torch.Size([28672, 8192])\n",
      "2025-06-27 22:18:05 src.utils.training_utils DEBUG    module_name='model.layers.3.mlp.up_proj' | param_delta.shape=torch.Size([28672, 8192])\n",
      "2025-06-27 22:18:05 src.utils.training_utils DEBUG    module_name='model.layers.3.mlp.down_proj' | param_delta.shape=torch.Size([8192, 28672])\n",
      "2025-06-27 22:18:06 src.utils.training_utils DEBUG    module_name='model.layers.4.mlp.gate_proj' | param_delta.shape=torch.Size([28672, 8192])\n",
      "2025-06-27 22:18:06 src.utils.training_utils DEBUG    module_name='model.layers.4.mlp.up_proj' | param_delta.shape=torch.Size([28672, 8192])\n",
      "2025-06-27 22:18:06 src.utils.training_utils DEBUG    module_name='model.layers.4.mlp.down_proj' | param_delta.shape=torch.Size([8192, 28672])\n",
      "2025-06-27 22:18:06 src.utils.training_utils DEBUG    module_name='model.layers.5.mlp.gate_proj' | param_delta.shape=torch.Size([28672, 8192])\n",
      "2025-06-27 22:18:06 src.utils.training_utils DEBUG    module_name='model.layers.5.mlp.up_proj' | param_delta.shape=torch.Size([28672, 8192])\n",
      "2025-06-27 22:18:06 src.utils.training_utils DEBUG    module_name='model.layers.5.mlp.down_proj' | param_delta.shape=torch.Size([8192, 28672])\n",
      "2025-06-27 22:18:06 src.utils.training_utils DEBUG    module_name='model.layers.6.mlp.gate_proj' | param_delta.shape=torch.Size([28672, 8192])\n",
      "2025-06-27 22:18:06 src.utils.training_utils DEBUG    module_name='model.layers.6.mlp.up_proj' | param_delta.shape=torch.Size([28672, 8192])\n",
      "2025-06-27 22:18:06 src.utils.training_utils DEBUG    module_name='model.layers.6.mlp.down_proj' | param_delta.shape=torch.Size([8192, 28672])\n",
      "2025-06-27 22:18:07 src.utils.training_utils DEBUG    module_name='model.layers.7.mlp.gate_proj' | param_delta.shape=torch.Size([28672, 8192])\n",
      "2025-06-27 22:18:07 src.utils.training_utils DEBUG    module_name='model.layers.7.mlp.up_proj' | param_delta.shape=torch.Size([28672, 8192])\n",
      "2025-06-27 22:18:07 src.utils.training_utils DEBUG    module_name='model.layers.7.mlp.down_proj' | param_delta.shape=torch.Size([8192, 28672])\n",
      "2025-06-27 22:18:07 src.utils.training_utils DEBUG    module_name='model.layers.8.mlp.gate_proj' | param_delta.shape=torch.Size([28672, 8192])\n",
      "2025-06-27 22:18:07 src.utils.training_utils DEBUG    module_name='model.layers.8.mlp.up_proj' | param_delta.shape=torch.Size([28672, 8192])\n",
      "2025-06-27 22:18:07 src.utils.training_utils DEBUG    module_name='model.layers.8.mlp.down_proj' | param_delta.shape=torch.Size([8192, 28672])\n",
      "2025-06-27 22:18:07 src.utils.training_utils DEBUG    module_name='model.layers.9.mlp.gate_proj' | param_delta.shape=torch.Size([28672, 8192])\n",
      "2025-06-27 22:18:07 src.utils.training_utils DEBUG    module_name='model.layers.9.mlp.up_proj' | param_delta.shape=torch.Size([28672, 8192])\n",
      "2025-06-27 22:18:07 src.utils.training_utils DEBUG    module_name='model.layers.9.mlp.down_proj' | param_delta.shape=torch.Size([8192, 28672])\n",
      "2025-06-27 22:18:07 src.utils.training_utils DEBUG    module_name='model.layers.10.mlp.gate_proj' | param_delta.shape=torch.Size([28672, 8192])\n",
      "2025-06-27 22:18:08 src.utils.training_utils DEBUG    module_name='model.layers.10.mlp.up_proj' | param_delta.shape=torch.Size([28672, 8192])\n",
      "2025-06-27 22:18:08 src.utils.training_utils DEBUG    module_name='model.layers.10.mlp.down_proj' | param_delta.shape=torch.Size([8192, 28672])\n",
      "2025-06-27 22:18:08 src.utils.training_utils DEBUG    module_name='model.layers.11.mlp.gate_proj' | param_delta.shape=torch.Size([28672, 8192])\n",
      "2025-06-27 22:18:08 src.utils.training_utils DEBUG    module_name='model.layers.11.mlp.up_proj' | param_delta.shape=torch.Size([28672, 8192])\n",
      "2025-06-27 22:18:08 src.utils.training_utils DEBUG    module_name='model.layers.11.mlp.down_proj' | param_delta.shape=torch.Size([8192, 28672])\n",
      "2025-06-27 22:18:08 src.utils.training_utils DEBUG    module_name='model.layers.12.mlp.gate_proj' | param_delta.shape=torch.Size([28672, 8192])\n",
      "2025-06-27 22:18:08 src.utils.training_utils DEBUG    module_name='model.layers.12.mlp.up_proj' | param_delta.shape=torch.Size([28672, 8192])\n",
      "2025-06-27 22:18:08 src.utils.training_utils DEBUG    module_name='model.layers.12.mlp.down_proj' | param_delta.shape=torch.Size([8192, 28672])\n",
      "2025-06-27 22:18:08 src.utils.training_utils DEBUG    module_name='model.layers.13.mlp.gate_proj' | param_delta.shape=torch.Size([28672, 8192])\n",
      "2025-06-27 22:18:09 src.utils.training_utils DEBUG    module_name='model.layers.13.mlp.up_proj' | param_delta.shape=torch.Size([28672, 8192])\n",
      "2025-06-27 22:18:09 src.utils.training_utils DEBUG    module_name='model.layers.13.mlp.down_proj' | param_delta.shape=torch.Size([8192, 28672])\n",
      "2025-06-27 22:18:09 src.utils.training_utils DEBUG    module_name='model.layers.14.mlp.gate_proj' | param_delta.shape=torch.Size([28672, 8192])\n",
      "2025-06-27 22:18:09 src.utils.training_utils DEBUG    module_name='model.layers.14.mlp.up_proj' | param_delta.shape=torch.Size([28672, 8192])\n",
      "2025-06-27 22:18:09 src.utils.training_utils DEBUG    module_name='model.layers.14.mlp.down_proj' | param_delta.shape=torch.Size([8192, 28672])\n",
      "2025-06-27 22:18:09 src.utils.training_utils DEBUG    module_name='model.layers.15.mlp.gate_proj' | param_delta.shape=torch.Size([28672, 8192])\n",
      "2025-06-27 22:18:09 src.utils.training_utils DEBUG    module_name='model.layers.15.mlp.up_proj' | param_delta.shape=torch.Size([28672, 8192])\n",
      "2025-06-27 22:18:09 src.utils.training_utils DEBUG    module_name='model.layers.15.mlp.down_proj' | param_delta.shape=torch.Size([8192, 28672])\n",
      "2025-06-27 22:18:09 src.utils.training_utils DEBUG    module_name='model.layers.16.mlp.gate_proj' | param_delta.shape=torch.Size([28672, 8192])\n",
      "2025-06-27 22:18:10 src.utils.training_utils DEBUG    module_name='model.layers.16.mlp.up_proj' | param_delta.shape=torch.Size([28672, 8192])\n",
      "2025-06-27 22:18:10 src.utils.training_utils DEBUG    module_name='model.layers.16.mlp.down_proj' | param_delta.shape=torch.Size([8192, 28672])\n",
      "2025-06-27 22:18:10 src.utils.training_utils DEBUG    module_name='model.layers.17.mlp.gate_proj' | param_delta.shape=torch.Size([28672, 8192])\n",
      "2025-06-27 22:18:10 src.utils.training_utils DEBUG    module_name='model.layers.17.mlp.up_proj' | param_delta.shape=torch.Size([28672, 8192])\n",
      "2025-06-27 22:18:10 src.utils.training_utils DEBUG    module_name='model.layers.17.mlp.down_proj' | param_delta.shape=torch.Size([8192, 28672])\n",
      "2025-06-27 22:18:10 src.utils.training_utils DEBUG    module_name='model.layers.18.mlp.gate_proj' | param_delta.shape=torch.Size([28672, 8192])\n",
      "2025-06-27 22:18:10 src.utils.training_utils DEBUG    module_name='model.layers.18.mlp.up_proj' | param_delta.shape=torch.Size([28672, 8192])\n",
      "2025-06-27 22:18:10 src.utils.training_utils DEBUG    module_name='model.layers.18.mlp.down_proj' | param_delta.shape=torch.Size([8192, 28672])\n",
      "2025-06-27 22:18:10 src.utils.training_utils DEBUG    module_name='model.layers.19.mlp.gate_proj' | param_delta.shape=torch.Size([28672, 8192])\n",
      "2025-06-27 22:18:10 src.utils.training_utils DEBUG    module_name='model.layers.19.mlp.up_proj' | param_delta.shape=torch.Size([28672, 8192])\n",
      "2025-06-27 22:18:11 src.utils.training_utils DEBUG    module_name='model.layers.19.mlp.down_proj' | param_delta.shape=torch.Size([8192, 28672])\n",
      "2025-06-27 22:18:11 src.utils.training_utils DEBUG    module_name='model.layers.20.mlp.gate_proj' | param_delta.shape=torch.Size([28672, 8192])\n",
      "2025-06-27 22:18:11 src.utils.training_utils DEBUG    module_name='model.layers.20.mlp.up_proj' | param_delta.shape=torch.Size([28672, 8192])\n",
      "2025-06-27 22:18:11 src.utils.training_utils DEBUG    module_name='model.layers.20.mlp.down_proj' | param_delta.shape=torch.Size([8192, 28672])\n",
      "2025-06-27 22:18:11 src.utils.training_utils DEBUG    module_name='model.layers.21.mlp.gate_proj' | param_delta.shape=torch.Size([28672, 8192])\n",
      "2025-06-27 22:18:11 src.utils.training_utils DEBUG    module_name='model.layers.21.mlp.up_proj' | param_delta.shape=torch.Size([28672, 8192])\n",
      "2025-06-27 22:18:11 src.utils.training_utils DEBUG    module_name='model.layers.21.mlp.down_proj' | param_delta.shape=torch.Size([8192, 28672])\n",
      "2025-06-27 22:18:11 src.utils.training_utils DEBUG    module_name='model.layers.22.mlp.gate_proj' | param_delta.shape=torch.Size([28672, 8192])\n",
      "2025-06-27 22:18:11 src.utils.training_utils DEBUG    module_name='model.layers.22.mlp.up_proj' | param_delta.shape=torch.Size([28672, 8192])\n",
      "2025-06-27 22:18:12 src.utils.training_utils DEBUG    module_name='model.layers.22.mlp.down_proj' | param_delta.shape=torch.Size([8192, 28672])\n",
      "2025-06-27 22:18:12 src.utils.training_utils DEBUG    module_name='model.layers.23.mlp.gate_proj' | param_delta.shape=torch.Size([28672, 8192])\n",
      "2025-06-27 22:18:12 src.utils.training_utils DEBUG    module_name='model.layers.23.mlp.up_proj' | param_delta.shape=torch.Size([28672, 8192])\n",
      "2025-06-27 22:18:12 src.utils.training_utils DEBUG    module_name='model.layers.23.mlp.down_proj' | param_delta.shape=torch.Size([8192, 28672])\n",
      "2025-06-27 22:18:12 src.utils.training_utils DEBUG    module_name='model.layers.24.mlp.gate_proj' | param_delta.shape=torch.Size([28672, 8192])\n",
      "2025-06-27 22:18:12 src.utils.training_utils DEBUG    module_name='model.layers.24.mlp.up_proj' | param_delta.shape=torch.Size([28672, 8192])\n",
      "2025-06-27 22:18:12 src.utils.training_utils DEBUG    module_name='model.layers.24.mlp.down_proj' | param_delta.shape=torch.Size([8192, 28672])\n",
      "2025-06-27 22:18:12 src.utils.training_utils DEBUG    module_name='model.layers.25.mlp.gate_proj' | param_delta.shape=torch.Size([28672, 8192])\n",
      "2025-06-27 22:18:13 src.utils.training_utils DEBUG    module_name='model.layers.25.mlp.up_proj' | param_delta.shape=torch.Size([28672, 8192])\n",
      "2025-06-27 22:18:13 src.utils.training_utils DEBUG    module_name='model.layers.25.mlp.down_proj' | param_delta.shape=torch.Size([8192, 28672])\n",
      "2025-06-27 22:18:13 src.utils.training_utils DEBUG    module_name='model.layers.26.mlp.gate_proj' | param_delta.shape=torch.Size([28672, 8192])\n",
      "2025-06-27 22:18:13 src.utils.training_utils DEBUG    module_name='model.layers.26.mlp.up_proj' | param_delta.shape=torch.Size([28672, 8192])\n",
      "2025-06-27 22:18:13 src.utils.training_utils DEBUG    module_name='model.layers.26.mlp.down_proj' | param_delta.shape=torch.Size([8192, 28672])\n",
      "2025-06-27 22:18:13 src.utils.training_utils DEBUG    module_name='model.layers.27.mlp.gate_proj' | param_delta.shape=torch.Size([28672, 8192])\n",
      "2025-06-27 22:18:13 src.utils.training_utils DEBUG    module_name='model.layers.27.mlp.up_proj' | param_delta.shape=torch.Size([28672, 8192])\n",
      "2025-06-27 22:18:13 src.utils.training_utils DEBUG    module_name='model.layers.27.mlp.down_proj' | param_delta.shape=torch.Size([8192, 28672])\n",
      "2025-06-27 22:18:14 src.utils.training_utils DEBUG    module_name='model.layers.28.mlp.gate_proj' | param_delta.shape=torch.Size([28672, 8192])\n",
      "2025-06-27 22:18:14 src.utils.training_utils DEBUG    module_name='model.layers.28.mlp.up_proj' | param_delta.shape=torch.Size([28672, 8192])\n",
      "2025-06-27 22:18:14 src.utils.training_utils DEBUG    module_name='model.layers.28.mlp.down_proj' | param_delta.shape=torch.Size([8192, 28672])\n",
      "2025-06-27 22:18:14 src.utils.training_utils DEBUG    module_name='model.layers.29.mlp.gate_proj' | param_delta.shape=torch.Size([28672, 8192])\n",
      "2025-06-27 22:18:14 src.utils.training_utils DEBUG    module_name='model.layers.29.mlp.up_proj' | param_delta.shape=torch.Size([28672, 8192])\n",
      "2025-06-27 22:18:14 src.utils.training_utils DEBUG    module_name='model.layers.29.mlp.down_proj' | param_delta.shape=torch.Size([8192, 28672])\n"
     ]
    }
   ],
   "source": [
    "from src.utils.training_utils import TrainableLM_delta\n",
    "\n",
    "Trainable_CLS = TrainableLM_delta\n",
    "\n",
    "Trainable_CLS.fuse_with_model(mt._model, loaded_deltas)"
   ]
  },
  {
   "cell_type": "code",
   "execution_count": 16,
   "metadata": {},
   "outputs": [
    {
     "data": {
      "text/plain": [
       "[[PredictedToken(token=' artists', prob=0.271484375, logit=15.0625, token_id=13820, metadata=None),\n",
       "  PredictedToken(token=' artist', prob=0.1064453125, logit=14.125, token_id=10255, metadata=None),\n",
       "  PredictedToken(token=' famous', prob=0.064453125, logit=13.625, token_id=11495, metadata=None),\n",
       "  PredictedToken(token=' musicians', prob=0.04736328125, logit=13.3125, token_id=32629, metadata=None),\n",
       "  PredictedToken(token=' entertain', prob=0.039306640625, logit=13.125, token_id=46276, metadata=None)]]"
      ]
     },
     "execution_count": 16,
     "metadata": {},
     "output_type": "execute_result"
    }
   ],
   "source": [
    "from src.functional import predict_next_token\n",
    "\n",
    "#prompt = \"The profession of Michael Jackson is that he is a\"\n",
    "#prompt = \"The profession of Pable Picasso is that he is a\"\n",
    "prompt = \"The profession of Michael Jackson and Pablo Picasoo are that they are both\"\n",
    "\n",
    "predict_next_token(\n",
    "    mt=mt,\n",
    "    inputs=prompt\n",
    ")"
   ]
  },
  {
   "cell_type": "code",
   "execution_count": 31,
   "metadata": {},
   "outputs": [
    {
     "data": {
      "text/plain": [
       "[[PredictedToken(token=' animals', prob=0.053466796875, logit=12.75, token_id=10099, metadata=None),\n",
       "  PredictedToken(token=' predators', prob=0.044189453125, logit=12.5625, token_id=56217, metadata=None),\n",
       "  PredictedToken(token=' birds', prob=0.034423828125, logit=12.3125, token_id=20229, metadata=None),\n",
       "  PredictedToken(token=' in', prob=0.023681640625, logit=11.9375, token_id=304, metadata=None),\n",
       "  PredictedToken(token=' flying', prob=0.0208740234375, logit=11.8125, token_id=16706, metadata=None)]]"
      ]
     },
     "execution_count": 31,
     "metadata": {},
     "output_type": "execute_result"
    }
   ],
   "source": [
    "prompt = \"An ape and a hawk are both\"\n",
    "predict_next_token(mt, prompt)"
   ]
  },
  {
   "cell_type": "code",
   "execution_count": 27,
   "metadata": {},
   "outputs": [],
   "source": [
    "data = {\n",
    "  \"vertebrates\": {\n",
    "    \"mammals\": {\n",
    "      \"primates\": {\n",
    "        \"great_apes\": [\"ape\", \"gorilla\", \"chimpanzee\", \"chimp\", \"orangutan\", \"bonobo\"],\n",
    "        \"lesser_apes\": [\"gibbon\", \"siamang\"],\n",
    "        \"old_world_monkeys\": [\"baboon\", \"mandrill\", \"macaque\", \"colobus\", \"langur\", \"proboscis\", \"gelada\", \"papio\", \"monkey\"],\n",
    "        \"new_world_monkeys\": [\"marmoset\", \"tamarin\", \"capuchin\", \"howler\", \"saki\", \"uakari\"],\n",
    "        \"prosimians\": [\"lemur\", \"loris\", \"tarsier\", \"galago\"]\n",
    "      },\n",
    "      \"carnivores\": {\n",
    "        \"felids\": [\"cat\", \"lion\", \"tiger\", \"leopard\", \"jaguar\", \"cheetah\", \"puma\", \"cougar\", \"lynx\", \"caracal\", \"ocelot\", \"margay\", \"snow-leopard\", \"panther\"],\n",
    "        \"canids\": [\"dog\", \"wolf\", \"fox\", \"jackal\", \"dingo\", \"fennec\", \"coyote\"],\n",
    "        \"ursids\": [\"grizzly\", \"black-bear\", \"polarbear\", \"polar-bear\", \"panda\"],\n",
    "        \"mustelids\": [\"weasel\", \"otter\", \"badger\", \"ferret\", \"marten\", \"wolverine\", \"mink\", \"ermine\", \"stoat\", \"sable\", \"skunk\"],\n",
    "        \"pinnipeds\": [\"sea-lion\", \"walrus\"],\n",
    "        \"procyonids\": [\"raccoon\", \"coati\", \"redpanda\"],\n",
    "        \"hyaenids\": [\"hyena\"],\n",
    "        \"herpestids\": [\"mongoose\", \"meerkat\"]\n",
    "      },\n",
    "      \"artiodactyls\": {\n",
    "        \"bovids\": [\"cow\", \"buffalo\", \"bison\", \"yak\", \"zebu\", \"goat\", \"sheep\", \"gazelle\", \"antelope\", \"impala\", \"springbok\", \"gnu\", \"wildebeest\", \"hartebeest\", \"topi\", \"bongo\", \"kudu\", \"eland\", \"oryx\", \"addax\", \"ibex\", \"takin\", \"muskox\", \"gaur\", \"waterbuck\", \"gemsbok\", \"serow\"],\n",
    "        \"cervids\": [\"deer\", \"moose\", \"elk\", \"caribou\", \"reindeer\"],\n",
    "        \"suids\": [\"pig\", \"boar\", \"warthog\", \"peccary\"],\n",
    "        \"camelids\": [\"camel\", \"llama\", \"alpaca\", \"vicuna\", \"guanaco\"],\n",
    "        \"giraffids\": [\"giraffe\", \"okapi\"],\n",
    "        \"hippopotamids\": [\"hippopotamus\"],\n",
    "        \"antilocaprids\": [\"pronghorn\"]\n",
    "      },\n",
    "      \"perissodactyls\": {\n",
    "        \"equids\": [\"horse\", \"zebra\", \"donkey\", \"mule\", \"pony\"],\n",
    "        \"rhinocerotids\": [\"rhinoceros\"],\n",
    "        \"tapirids\": [\"tapir\"]\n",
    "      },\n",
    "      \"rodents\": {\n",
    "        \"muroids\": [\"mouse\", \"rat\", \"vole\", \"gerbil\", \"hamster\"],\n",
    "        \"sciurids\": [\"squirrel\", \"chipmunk\"],\n",
    "        \"gliridae\": [\"dormouse\"],\n",
    "        \"castoridae\": [\"beaver\"],\n",
    "        \"hystricomorphs\": [\"porcupine\", \"capybara\", \"nutria\", \"chinchilla\", \"guinea\", \"agouti\"],\n",
    "        \"other_rodents\": [\"rodent\", \"muskrat\"]\n",
    "      },\n",
    "      \"lagomorphs\": [\"rabbit\", \"hare\", \"pika\"],\n",
    "      \"marsupials\": {\n",
    "        \"macropods\": [\"kangaroo\", \"wallaby\"],\n",
    "        \"wombats\": [\"wombat\"],\n",
    "        \"possums\": [\"koala\"],\n",
    "        \"opossums\": [\"opossum\"]\n",
    "      },\n",
    "      \"monotremes\": [\"platypus\", \"echidna\"],\n",
    "      \"cetaceans\": {\n",
    "        \"odontocetes\": [\"dolphin\", \"orca\", \"spermwhale\", \"porpoise\", \"narwhal\", \"beluga\"],\n",
    "        \"mysticetes\": [\"whale\", \"finwhale\"]\n",
    "      },\n",
    "      \"sirenians\": [\"manatee\", \"dugong\"],\n",
    "      \"proboscideans\": [\"elephant\"],\n",
    "      \"xenarthrans\": [\"anteater\", \"armadillo\", \"sloth\"],\n",
    "      \"eulipotyphlans\": [\"hedgehog\", \"shrew\", \"mole\"],\n",
    "      \"chiropterans\": [\"bat\"],\n",
    "      \"pholidotes\": [\"pangolin\"],\n",
    "      \"tubulidentates\": [\"aardvark\"]\n",
    "    },\n",
    "    \"birds\": {\n",
    "      \"raptors\": {\n",
    "        \"accipitrids\": [\"eagle\", \"hawk\", \"buzzard\", \"harrier\", \"kite\"],\n",
    "        \"falconids\": [\"falcon\", \"kestrel\"],\n",
    "        \"strigiformes\": [\"owl\"]\n",
    "      },\n",
    "      \"waterfowl\": {\n",
    "        \"anatidae\": [\"duck\", \"goose\", \"swan\", \"mallard\", \"teal\", \"wigeon\", \"pintail\", \"shoveler\", \"eider\", \"goldeneye\", \"smew\", \"merganser\", \"gadwall\", \"scoter\"],\n",
    "        \"other_waterbirds\": [\"grebe\", \"loon\", \"coot\", \"moorhen\"]\n",
    "      },\n",
    "      \"galliformes\": [\"chicken\", \"turkey\", \"pheasant\", \"grouse\", \"partridge\", \"quail\", \"ptarmigan\", \"guineafowl\", \"peafowl\"],\n",
    "      \"columbiformes\": [\"pigeon\", \"dove\"],\n",
    "      \"psittaciformes\": [\"parrot\", \"macaw\", \"cockatoo\", \"parakeet\", \"budgerigar\", \"lovebird\", \"lorikeet\", \"kakapo\"],\n",
    "      \"passerines\": {\n",
    "        \"corvids\": [\"raven\", \"jay\", \"magpie\"],\n",
    "        \"fringillids\": [\"finch\", \"goldfinch\", \"chaffinch\", \"greenfinch\", \"siskin\", \"canary\", \"linnet\", \"redpoll\", \"bullfinch\", \"crossbill\"],\n",
    "        \"hirundinids\": [\"swallow\", \"martin\"],\n",
    "        \"turdids\": [\"thrush\", \"blackbird\", \"robin\"],\n",
    "        \"paridae\": [\"tit\", \"chickadee\"],\n",
    "        \"other_songbirds\": [\"sparrow\", \"warbler\", \"wren\", \"starling\", \"mockingbird\", \"catbird\", \"thrasher\", \"nightingale\", \"lark\", \"pipit\", \"wagtail\", \"bunting\", \"cardinal\", \"tanager\", \"oriole\", \"grosbeak\", \"nuthatch\", \"treecreeper\", \"dipper\", \"vireo\", \"flycatcher\", \"phoebe\", \"kinglet\", \"waxwing\", \"shrike\", \"honeyeater\", \"sunbird\", \"manakin\", \"cotinga\", \"antbird\", \"antpitta\", \"gnateater\", \"tapaculo\", \"junco\", \"brambling\", \"reedbunting\", \"cisticola\"]\n",
    "      },\n",
    "      \"shorebirds\": [\"plover\", \"sandpiper\", \"curlew\", \"godwit\", \"redshank\", \"snipe\", \"avocet\", \"oystercatcher\", \"woodcock\", \"phalarope\", \"lapwing\", \"dunlin\"],\n",
    "      \"seabirds\": [\"albatross\", \"pelican\", \"cormorant\", \"tern\", \"puffin\", \"seagull\", \"gull\"],\n",
    "      \"gruiformes\": [\"crane\", \"rail\"],\n",
    "      \"ciconiiformes\": [\"stork\", \"ibis\", \"heron\", \"egret\", \"flamingo\"],\n",
    "      \"coraciiformes\": [\"kingfisher\", \"bee-eater\", \"hoopoe\", \"hornbill\"],\n",
    "      \"piciformes\": [\"woodpecker\", \"toucan\", \"jacamar\"],\n",
    "      \"struthioniformes\": [\"ostrich\", \"emu\", \"cassowary\", \"rhea\", \"kiwi\"],\n",
    "      \"tinamiformes\": [\"tinamou\"],\n",
    "      \"other_birds\": [\"cuckoo\", \"roadrunner\", \"turaco\", \"nightjar\", \"sedge\"]\n",
    "    },\n",
    "    \"reptiles\": {\n",
    "      \"snakes\": [\"snake\", \"viper\", \"cobra\", \"anaconda\", \"mamba\"],\n",
    "      \"lizards\": [\"lizard\", \"gecko\", \"iguana\", \"chameleon\", \"skink\", \"gila\", \"anole\", \"komodo\"],\n",
    "      \"crocodilians\": [\"crocodile\", \"alligator\"],\n",
    "      \"testudines\": [\"turtle\", \"tortoise\", \"terrapin\"],\n",
    "      \"rhynchocephalians\": [\"tuatara\"]\n",
    "    },\n",
    "    \"amphibians\": {\n",
    "      \"frogs_and_toads\": [\"frog\", \"toad\", \"bullfrog\", \"treefrog\", \"natterjack\", \"surinam\", \"glassfrog\"],\n",
    "      \"salamanders\": [\"salamander\", \"newt\", \"axolotl\", \"olm\", \"hellbender\", \"mudpuppy\", \"siren\"],\n",
    "      \"caecilians\": [\"caecilian\"],\n",
    "      \"other_amphibians\": [\"tadpole\"]\n",
    "    },\n",
    "    \"fish\": {\n",
    "      \"bony_fish\": {\n",
    "        \"perciformes\": [\"perch\", \"snapper\", \"grouper\", \"angelfish\", \"damselfish\", \"wrass\", \"cichlid\", \"surgeonfish\", \"triggerfish\", \"puffer\", \"grunt\", \"croaker\", \"weakfish\", \"bluefish\", \"amberjack\", \"pompano\", \"snook\", \"kingfish\", \"scup\", \"moonfish\", \"spadefish\", \"boxfish\", \"clownfish\", \"discus\", \"guppy\", \"platy\", \"swordtail\", \"goosefish\", \"monkfish\", \"lionfish\", \"scorpionfish\"],\n",
    "        \"salmoniformes\": [\"salmon\", \"trout\", \"sockeye\", \"coho\", \"chinook\", \"grayling\", \"smelt\", \"whitefish\"],\n",
    "        \"cypriniformes\": [\"carp\", \"goldfish\", \"barbel\", \"bream\", \"roach\", \"rudd\", \"dace\", \"chub\", \"ide\", \"tench\", \"bitterling\", \"bleak\", \"pleco\"],\n",
    "        \"clupeiformes\": [\"herring\", \"sardine\", \"anchovy\"],\n",
    "        \"gadiformes\": [\"cod\", \"haddock\", \"pollock\", \"lingcod\"],\n",
    "        \"anguilliformes\": [\"eel\", \"moray\"],\n",
    "        \"beloniformes\": [\"gar\", \"ladyfish\", \"bonefish\"],\n",
    "        \"scorpaeniformes\": [\"rockfish\", \"sablefish\"],\n",
    "        \"pleuronectiformes\": [\"flounder\", \"halibut\", \"fluke\"],\n",
    "        \"other_bony_fish\": [\"tilapia\", \"barracuda\", \"arowana\", \"mackerel\", \"seahorse\", \"pipefish\", \"swordfish\", \"marlin\", \"tuna\", \"mahi-mahi\", \"mahi\", \"dolphinfish\", \"tarpon\", \"jewfish\", \"ribbonfish\", \"catfish\", \"pike\", \"mullet\"]\n",
    "      },\n",
    "      \"cartilaginous_fish\": [\"shark\"]\n",
    "    }\n",
    "  },\n",
    "  \"invertebrates\": {\n",
    "    \"arthropods\": {\n",
    "      \"insects\": {\n",
    "        \"coleoptera\": [\"beetle\", \"ladybug\", \"scarab\", \"weevil\", \"firefly\"],\n",
    "        \"lepidoptera\": [\"butterfly\", \"moth\", \"caterpillar\"],\n",
    "        \"hymenoptera\": [\"bee\", \"wasp\", \"ant\", \"hornet\"],\n",
    "        \"diptera\": [\"fly\", \"mosquito\", \"gnat\", \"housefly\"],\n",
    "        \"hemiptera\": [\"aphid\", \"bedbug\", \"cicada\"],\n",
    "        \"orthoptera\": [\"grasshopper\", \"cricket\"],\n",
    "        \"odonata\": [\"dragonfly\", \"damselfly\"],\n",
    "        \"other_insects\": [\"mayfly\", \"silverfish\", \"lacewing\", \"termite\", \"earwig\", \"flea\", \"thrips\", \"cockroach\"]\n",
    "      },\n",
    "      \"arachnids\": [\"spider\", \"tarantula\", \"scorpion\", \"mite\"],\n",
    "      \"crustaceans\": [\"crab\", \"lobster\", \"shrimp\"],\n",
    "      \"myriapods\": [\"centipede\", \"millipede\"]\n",
    "    },\n",
    "    \"mollusks\": {\n",
    "      \"gastropods\": [\"snail\", \"slug\"],\n",
    "      \"bivalves\": [\"clam\", \"oyster\", \"mussel\", \"scallop\"],\n",
    "      \"cephalopods\": []\n",
    "    },\n",
    "    \"echinoderms\": [\"starfish\", \"urchin\"],\n",
    "    \"cnidarians\": [\"jellyfish\"],\n",
    "    \"annelids\": [\"earthworm\", \"leech\"]\n",
    "  }\n",
    "}"
   ]
  },
  {
   "cell_type": "code",
   "execution_count": 26,
   "metadata": {},
   "outputs": [
    {
     "data": {
      "text/plain": [
       "[[PredictedToken(token=' rodents', prob=0.28515625, logit=16.375, token_id=94209, metadata=None),\n",
       "  PredictedToken(token=' small', prob=0.11181640625, logit=15.4375, token_id=2678, metadata=None),\n",
       "  PredictedToken(token=' popular', prob=0.059814453125, logit=14.8125, token_id=5526, metadata=None),\n",
       "  PredictedToken(token=' mammals', prob=0.05615234375, logit=14.75, token_id=56669, metadata=None),\n",
       "  PredictedToken(token=' cute', prob=0.03857421875, logit=14.375, token_id=19369, metadata=None)]]"
      ]
     },
     "execution_count": 26,
     "metadata": {},
     "output_type": "execute_result"
    }
   ],
   "source": [
    "prompt = \"A beaver and a hamster are both\"\n",
    "predict_next_token(mt, prompt)"
   ]
  },
  {
   "cell_type": "code",
   "execution_count": null,
   "metadata": {},
   "outputs": [],
   "source": []
  }
 ],
 "metadata": {
  "kernelspec": {
   "display_name": "retrieval",
   "language": "python",
   "name": "python3"
  },
  "language_info": {
   "codemirror_mode": {
    "name": "ipython",
    "version": 3
   },
   "file_extension": ".py",
   "mimetype": "text/x-python",
   "name": "python",
   "nbconvert_exporter": "python",
   "pygments_lexer": "ipython3",
   "version": "3.11.13"
  }
 },
 "nbformat": 4,
 "nbformat_minor": 2
}
